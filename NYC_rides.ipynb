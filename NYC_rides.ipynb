{
 "cells": [
  {
   "cell_type": "code",
   "execution_count": 2,
   "metadata": {},
   "outputs": [],
   "source": [
    "import pandas as pd\n",
    "import numpy as np"
   ]
  },
  {
   "cell_type": "code",
   "execution_count": 4,
   "metadata": {},
   "outputs": [],
   "source": [
    "nyc = pd.read_csv('C:/Users/Александр/Projects/projects/NYC_dataset.csv')"
   ]
  },
  {
   "cell_type": "code",
   "execution_count": 5,
   "metadata": {},
   "outputs": [],
   "source": [
    "# написать функцию haversine для подсчета расстояния между пунктами отправления и прибытия и,\n",
    "# используя  pd.iterrows(), создать колонку distance с подсчитанным расстоянием.\n",
    "# φ1 и φ2 — широта исходного местоположения и широта пункта назначения в радианах, \n",
    "# λ1 и λ2 — долгота исходного местоположения и долгота пункта назначения в радианах,\n",
    "# r — радиус сферы, будем считать его равным 6371."
   ]
  },
  {
   "cell_type": "code",
   "execution_count": 6,
   "metadata": {},
   "outputs": [
    {
     "data": {
      "text/html": [
       "<div>\n",
       "<style scoped>\n",
       "    .dataframe tbody tr th:only-of-type {\n",
       "        vertical-align: middle;\n",
       "    }\n",
       "\n",
       "    .dataframe tbody tr th {\n",
       "        vertical-align: top;\n",
       "    }\n",
       "\n",
       "    .dataframe thead th {\n",
       "        text-align: right;\n",
       "    }\n",
       "</style>\n",
       "<table border=\"1\" class=\"dataframe\">\n",
       "  <thead>\n",
       "    <tr style=\"text-align: right;\">\n",
       "      <th></th>\n",
       "      <th>key</th>\n",
       "      <th>fare_amount</th>\n",
       "      <th>pickup_datetime</th>\n",
       "      <th>pickup_longitude</th>\n",
       "      <th>pickup_latitude</th>\n",
       "      <th>dropoff_longitude</th>\n",
       "      <th>dropoff_latitude</th>\n",
       "      <th>passenger_count</th>\n",
       "    </tr>\n",
       "  </thead>\n",
       "  <tbody>\n",
       "    <tr>\n",
       "      <th>0</th>\n",
       "      <td>2009-06-15 17:26:21.0000001</td>\n",
       "      <td>4.5</td>\n",
       "      <td>2009-06-15 17:26:21 UTC</td>\n",
       "      <td>-73.844311</td>\n",
       "      <td>40.721319</td>\n",
       "      <td>-73.841610</td>\n",
       "      <td>40.712278</td>\n",
       "      <td>1</td>\n",
       "    </tr>\n",
       "    <tr>\n",
       "      <th>1</th>\n",
       "      <td>2010-01-05 16:52:16.0000002</td>\n",
       "      <td>16.9</td>\n",
       "      <td>2010-01-05 16:52:16 UTC</td>\n",
       "      <td>-74.016048</td>\n",
       "      <td>40.711303</td>\n",
       "      <td>-73.979268</td>\n",
       "      <td>40.782004</td>\n",
       "      <td>1</td>\n",
       "    </tr>\n",
       "    <tr>\n",
       "      <th>2</th>\n",
       "      <td>2011-08-18 00:35:00.00000049</td>\n",
       "      <td>5.7</td>\n",
       "      <td>2011-08-18 00:35:00 UTC</td>\n",
       "      <td>-73.982738</td>\n",
       "      <td>40.761270</td>\n",
       "      <td>-73.991242</td>\n",
       "      <td>40.750562</td>\n",
       "      <td>2</td>\n",
       "    </tr>\n",
       "    <tr>\n",
       "      <th>3</th>\n",
       "      <td>2012-04-21 04:30:42.0000001</td>\n",
       "      <td>7.7</td>\n",
       "      <td>2012-04-21 04:30:42 UTC</td>\n",
       "      <td>-73.987130</td>\n",
       "      <td>40.733143</td>\n",
       "      <td>-73.991567</td>\n",
       "      <td>40.758092</td>\n",
       "      <td>1</td>\n",
       "    </tr>\n",
       "    <tr>\n",
       "      <th>4</th>\n",
       "      <td>2010-03-09 07:51:00.000000135</td>\n",
       "      <td>5.3</td>\n",
       "      <td>2010-03-09 07:51:00 UTC</td>\n",
       "      <td>-73.968095</td>\n",
       "      <td>40.768008</td>\n",
       "      <td>-73.956655</td>\n",
       "      <td>40.783762</td>\n",
       "      <td>1</td>\n",
       "    </tr>\n",
       "  </tbody>\n",
       "</table>\n",
       "</div>"
      ],
      "text/plain": [
       "                             key  fare_amount          pickup_datetime  \\\n",
       "0    2009-06-15 17:26:21.0000001          4.5  2009-06-15 17:26:21 UTC   \n",
       "1    2010-01-05 16:52:16.0000002         16.9  2010-01-05 16:52:16 UTC   \n",
       "2   2011-08-18 00:35:00.00000049          5.7  2011-08-18 00:35:00 UTC   \n",
       "3    2012-04-21 04:30:42.0000001          7.7  2012-04-21 04:30:42 UTC   \n",
       "4  2010-03-09 07:51:00.000000135          5.3  2010-03-09 07:51:00 UTC   \n",
       "\n",
       "   pickup_longitude  pickup_latitude  dropoff_longitude  dropoff_latitude  \\\n",
       "0        -73.844311        40.721319         -73.841610         40.712278   \n",
       "1        -74.016048        40.711303         -73.979268         40.782004   \n",
       "2        -73.982738        40.761270         -73.991242         40.750562   \n",
       "3        -73.987130        40.733143         -73.991567         40.758092   \n",
       "4        -73.968095        40.768008         -73.956655         40.783762   \n",
       "\n",
       "   passenger_count  \n",
       "0                1  \n",
       "1                1  \n",
       "2                2  \n",
       "3                1  \n",
       "4                1  "
      ]
     },
     "execution_count": 6,
     "metadata": {},
     "output_type": "execute_result"
    }
   ],
   "source": [
    "nyc.head()"
   ]
  },
  {
   "cell_type": "code",
   "execution_count": 7,
   "metadata": {},
   "outputs": [],
   "source": [
    "# f1 - pickup_latitude\n",
    "# f2 - dropoff_latitude\n",
    "# l1 - pickup_longitude\n",
    "# l2 - dropoff_longitude\n",
    "def haversine(l1, f1, l2, f2, radius=6371.):\n",
    "    f1, f2, l1, l2 = map(np.radians, [f1, f2, l1, l2])\n",
    "    diff_lon = l2 - l1 \n",
    "    diff_lat = f2 - f1\n",
    "    \n",
    "    a = np.sin(diff_lat/2.0)**2 + np.cos(f1) * np.cos(f2) * np.sin(diff_lon/2.0) ** 2\n",
    "    c = 2 * np.arcsin(np.sqrt(a))\n",
    "    \n",
    "    return radius * c"
   ]
  },
  {
   "cell_type": "code",
   "execution_count": 8,
   "metadata": {},
   "outputs": [
    {
     "name": "stdout",
     "output_type": "stream",
     "text": [
      "CPU times: total: 3.23 s\n",
      "Wall time: 3.22 s\n"
     ]
    }
   ],
   "source": [
    "%%time\n",
    "nyc['distance'] = pd.Series(haversine(row.pickup_longitude,\n",
    "                                      row.pickup_latitude,\n",
    "                                      row.dropoff_longitude,\n",
    "                                      row.dropoff_latitude) for i, row in nyc.iterrows())"
   ]
  },
  {
   "cell_type": "code",
   "execution_count": 9,
   "metadata": {},
   "outputs": [
    {
     "name": "stdout",
     "output_type": "stream",
     "text": [
      "Тип содержимого: <class 'pandas.core.frame.ride'>\n"
     ]
    }
   ],
   "source": [
    "# Давайте попробуем еще один метод, pd.itertuples, который на каждой итерации возвращает \n",
    "# именованный кортеж (named tuple) для каждой строки датафрейма. \n",
    "# Параметр index по умолчанию равен True, поэтому первым элементом кортежа следует индекс, далее — содержимое строки. \n",
    "\n",
    "# Обратите внимание, что, в отличие от первого метода, строка возвращается уже не как Series:\n",
    "\n",
    "for row in nyc[:1].itertuples(name='ride'):  # исп. \"ride\" как название\n",
    "    print(f\"Тип содержимого: {type(row)}\")"
   ]
  },
  {
   "cell_type": "code",
   "execution_count": 10,
   "metadata": {},
   "outputs": [
    {
     "name": "stdout",
     "output_type": "stream",
     "text": [
      "custom_name(Index=0, key='2009-06-15 17:26:21.0000001', fare_amount=4.5, pickup_datetime='2009-06-15 17:26:21 UTC', pickup_longitude=-73.844311, pickup_latitude=40.721319, dropoff_longitude=-73.84161, dropoff_latitude=40.712278000000005, passenger_count=1, distance=1.030763935048818)\n",
      "\n",
      "custom_name(Index=1, key='2010-01-05 16:52:16.0000002', fare_amount=16.9, pickup_datetime='2010-01-05 16:52:16 UTC', pickup_longitude=-74.016048, pickup_latitude=40.711303, dropoff_longitude=-73.979268, dropoff_latitude=40.782004, passenger_count=1, distance=8.450133595805992)\n",
      "\n",
      "custom_name(Index=2, key='2011-08-18 00:35:00.00000049', fare_amount=5.7, pickup_datetime='2011-08-18 00:35:00 UTC', pickup_longitude=-73.982738, pickup_latitude=40.76127, dropoff_longitude=-73.991242, dropoff_latitude=40.750562, passenger_count=2, distance=1.3895252257697308)\n",
      "\n"
     ]
    }
   ],
   "source": [
    "# Посмотрим на формат вывода:\n",
    "\n",
    "for row in nyc[:3].itertuples(name='custom_name'):\n",
    "    print(row)\n",
    "    print()"
   ]
  },
  {
   "cell_type": "code",
   "execution_count": 11,
   "metadata": {},
   "outputs": [
    {
     "name": "stdout",
     "output_type": "stream",
     "text": [
      "Индекс 0; Число пассажиров: 1\n",
      "Индекс 1; Число пассажиров: 1\n",
      "Индекс 2; Число пассажиров: 2\n"
     ]
    }
   ],
   "source": [
    "# Индекс и число пассажиров для первых трех наблюдений:\n",
    "\n",
    "for row in nyc[:3].itertuples():\n",
    "    print(\"Индекс {}; Число пассажиров: {}\".format(row.Index, row.passenger_count))"
   ]
  },
  {
   "cell_type": "code",
   "execution_count": 12,
   "metadata": {},
   "outputs": [],
   "source": [
    "# Задача: проделайте ту же операцию, что и в предыдущем шаге, но уже используя pd.itertuples(), \n",
    "# а затем сравните время выполнения."
   ]
  },
  {
   "cell_type": "code",
   "execution_count": 13,
   "metadata": {},
   "outputs": [],
   "source": [
    "def haversine(l1, f1, l2, f2, radius=6371.):\n",
    "    f1, f2, l1, l2 = map(np.radians, [f1, f2, l1, l2])\n",
    "    diff_lon = l2 - l1 \n",
    "    diff_lat = f2 - f1\n",
    "    \n",
    "    a = np.sin(diff_lat/2.0)**2 + np.cos(f1) * np.cos(f2) * np.sin(diff_lon/2.0) ** 2\n",
    "    c = 2 * np.arcsin(np.sqrt(a))\n",
    "    \n",
    "    return radius * c"
   ]
  },
  {
   "cell_type": "code",
   "execution_count": 14,
   "metadata": {},
   "outputs": [
    {
     "name": "stdout",
     "output_type": "stream",
     "text": [
      "CPU times: total: 594 ms\n",
      "Wall time: 602 ms\n"
     ]
    }
   ],
   "source": [
    "%%time\n",
    "nyc['distance'] = pd.Series(haversine(x.pickup_longitude,\n",
    "                                      x.pickup_latitude,\n",
    "                                      x.dropoff_longitude,\n",
    "                                      x.dropoff_latitude) for x in nyc.itertuples())"
   ]
  },
  {
   "cell_type": "code",
   "execution_count": 15,
   "metadata": {},
   "outputs": [],
   "source": [
    "# Еще один часто используемый метод pd.apply() применяет заданную функцию вдоль определенной\n",
    "# оси (axis=0 – строки; axis=1 – столбцы), и является более эффективным способом, чем pd.iterrows() \n",
    "# за счет использования внутренних оптимизаций в pandas. Тем не менее, все равно подразумевает итерацию по всем рядам."
   ]
  },
  {
   "cell_type": "code",
   "execution_count": 16,
   "metadata": {},
   "outputs": [
    {
     "name": "stdout",
     "output_type": "stream",
     "text": [
      "CPU times: total: 1.06 s\n",
      "Wall time: 1.07 s\n"
     ]
    }
   ],
   "source": [
    "%%time\n",
    "nyc['distance'] = nyc[['pickup_longitude', 'pickup_latitude', 'dropoff_longitude', 'dropoff_latitude']] \\\n",
    "                 .apply(lambda x: haversine(x[0], x[1], x[2], x[3]), axis=1)"
   ]
  },
  {
   "cell_type": "code",
   "execution_count": 17,
   "metadata": {},
   "outputs": [
    {
     "name": "stdout",
     "output_type": "stream",
     "text": [
      "CPU times: total: 1.81 s\n",
      "Wall time: 1.82 s\n"
     ]
    }
   ],
   "source": [
    "%%time\n",
    "nyc['distance'] = nyc.apply(lambda x: haversine(x.pickup_longitude,\n",
    "                                                x.pickup_latitude, \n",
    "                                                x.dropoff_longitude, \n",
    "                                                x.dropoff_latitude), axis=1)"
   ]
  },
  {
   "cell_type": "code",
   "execution_count": 18,
   "metadata": {},
   "outputs": [
    {
     "name": "stdout",
     "output_type": "stream",
     "text": [
      "CPU times: total: 1.31 s\n",
      "Wall time: 1.32 s\n"
     ]
    }
   ],
   "source": [
    "%%time\n",
    "nyc['distance'] = nyc.apply(lambda x: haversine(x['pickup_longitude'], \n",
    "                                                x['pickup_latitude'],\n",
    "                                                x['dropoff_longitude'], \n",
    "                                                x['dropoff_latitude']), axis=1)"
   ]
  },
  {
   "cell_type": "code",
   "execution_count": 19,
   "metadata": {},
   "outputs": [],
   "source": [
    "# В переменную longest сохраните самое большое расстояние"
   ]
  },
  {
   "cell_type": "code",
   "execution_count": 20,
   "metadata": {},
   "outputs": [
    {
     "data": {
      "text/plain": [
       "8667.818812217454"
      ]
     },
     "execution_count": 20,
     "metadata": {},
     "output_type": "execute_result"
    }
   ],
   "source": [
    "longest = nyc.distance.max()\n",
    "longest"
   ]
  },
  {
   "cell_type": "code",
   "execution_count": 21,
   "metadata": {},
   "outputs": [],
   "source": [
    "# В целом, itertuples — это именно то, что нам нужно! Но есть пара моментов.\n",
    "# Оказывается, в нашем случае itertuples — не предел. На всех предыдущих шагах мы использовали циклы, что не очень хорошо.\n",
    "# Почему же?\n",
    "# Базовые объекты в pandas — Series и DataFrame, которые представляют собой одномерные и двумерные массивы (arrays) \n",
    "# соответственно. Так, векторизация — процесс выполнения операций над массивами. \n",
    "# В pandas есть довольно большой набор векторизованных функций, и их использование во многих случаях предпочтительнее \n",
    "# обычных циклов, поскольку они предназначены для работы именно с Series. К таким функциям относятся, например, sum и agg. \n",
    "# С помощью векторизации можно получить ещё большее ускорение, значительно уменьшив количество итераций. \n",
    "# Иными словами, действия будут происходят сразу над всей серией, а не над каждым элементом по отдельности.\n",
    "\n",
    "# Изменения в коде весьма незначительны: передаем функции на вход необходимые колонки, и получается магия!"
   ]
  },
  {
   "cell_type": "code",
   "execution_count": 22,
   "metadata": {},
   "outputs": [],
   "source": [
    "# df['distance'] = haversine(df['col1'], df['col2'], df['col3'], df['col4'])"
   ]
  },
  {
   "cell_type": "code",
   "execution_count": 23,
   "metadata": {},
   "outputs": [],
   "source": [
    "# Убедимся, что векторизованные операции работают намного быстрее. \n",
    "# Создайте функцию для подсчета расстояния haversine, описанную в первом шаге, и примените её к датасету nyc. \n",
    "# Результат сохраните в колонку distance.  "
   ]
  },
  {
   "cell_type": "code",
   "execution_count": 25,
   "metadata": {},
   "outputs": [
    {
     "name": "stdout",
     "output_type": "stream",
     "text": [
      "CPU times: total: 0 ns\n",
      "Wall time: 6.98 ms\n"
     ]
    }
   ],
   "source": [
    "%%time\n",
    "nyc['distance'] = haversine(nyc.pickup_longitude,\n",
    "                            nyc.pickup_latitude,\n",
    "                            nyc.dropoff_longitude,\n",
    "                            nyc.dropoff_latitude)"
   ]
  },
  {
   "cell_type": "code",
   "execution_count": null,
   "metadata": {},
   "outputs": [],
   "source": []
  }
 ],
 "metadata": {
  "kernelspec": {
   "display_name": "Python 3 (ipykernel)",
   "language": "python",
   "name": "python3"
  },
  "language_info": {
   "codemirror_mode": {
    "name": "ipython",
    "version": 3
   },
   "file_extension": ".py",
   "mimetype": "text/x-python",
   "name": "python",
   "nbconvert_exporter": "python",
   "pygments_lexer": "ipython3",
   "version": "3.10.4"
  }
 },
 "nbformat": 4,
 "nbformat_minor": 4
}
