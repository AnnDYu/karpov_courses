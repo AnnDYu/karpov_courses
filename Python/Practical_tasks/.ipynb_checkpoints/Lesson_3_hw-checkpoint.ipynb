{
 "cells": [
  {
   "cell_type": "markdown",
   "id": "6609247a",
   "metadata": {},
   "source": [
    "# Домашние задание третьего урока."
   ]
  },
  {
   "cell_type": "markdown",
   "id": "4c8d968f",
   "metadata": {},
   "source": [
    "**1 .Переменная names содержит в себе строку, где хранятся имена в формате 'Name1 Surname1, Name2 Surname2, …'.\n",
    "Поместите в переменную names_list список со строками имён – ['Name1 Surname1', 'Name2 Surname2', …]**\n",
    "\n",
    "Переменная names уже задана."
   ]
  },
  {
   "cell_type": "code",
   "execution_count": null,
   "id": "1b419900",
   "metadata": {},
   "outputs": [],
   "source": [
    "names_list = []\n",
    "for i in names.split(', '):\n",
    "    names_list.append(i)"
   ]
  },
  {
   "cell_type": "markdown",
   "id": "60c9942f",
   "metadata": {},
   "source": [
    "**2. В переменной df содержатся данные такого вида**\n",
    "\n",
    "![](https://ucarecdn.com/46eb9638-0fb3-457f-a9b9-80187b100547/)\n",
    "\n",
    "**Отберите из них только те, где wealth принимает значение 'medium', а возраст составляет больше 35.\n",
    "Поместите результат в переменную medium_35.**"
   ]
  },
  {
   "cell_type": "code",
   "execution_count": null,
   "id": "810f8ebb",
   "metadata": {},
   "outputs": [],
   "source": [
    "medium_35 = df.query(\"wealth == 'medium' and age > 35\")"
   ]
  },
  {
   "cell_type": "markdown",
   "id": "1c328662",
   "metadata": {},
   "source": [
    "**3. Ваш коллега-новичок перепутал названия колонок в таблице df из предыдущих заданий и прислал вам такой вариант:**\n",
    "\n",
    "![](https://ucarecdn.com/e6eb7af1-3ef7-400f-9b56-0c9ee3e17d71/)\n",
    "\n",
    "**Воспользуйтесь методом rename и приведите таблицу к более каноничному виду, сохранив её в ту же самую переменную df.**\n",
    "\n",
    "![](https://ucarecdn.com/46eb9638-0fb3-457f-a9b9-80187b100547/)\n",
    "\n",
    "Note: колонка называется 'Клиент id' - шрифт плохо передаёт кейс i в id"
   ]
  },
  {
   "cell_type": "code",
   "execution_count": null,
   "id": "d7ea02af",
   "metadata": {},
   "outputs": [],
   "source": [
    "df = df.rename(columns={'Клиент id': 'client_id', \n",
    "                        'Пол' : 'sex', \n",
    "                        'Благосостояние' : 'wealth', \n",
    "                        'Возраст': 'age'})"
   ]
  },
  {
   "cell_type": "markdown",
   "id": "78f5c94d",
   "metadata": {},
   "source": [
    "**4. Добавьте в исследуемый нами датафрэйм df колонку older_than_30, в которой будет информация превышает ли значение переменной возраста 30 лет или нет (булево значение)**\n",
    "\n",
    "![](https://ucarecdn.com/46eb9638-0fb3-457f-a9b9-80187b100547/)"
   ]
  },
  {
   "cell_type": "code",
   "execution_count": null,
   "id": "61d5010e",
   "metadata": {},
   "outputs": [],
   "source": [
    "df['older_than_30'] = df.age > 30"
   ]
  },
  {
   "cell_type": "markdown",
   "id": "cc99f777",
   "metadata": {},
   "source": [
    "**5. А теперь получите серию с числом уникальных значений для каждой колонки и присвойте её переменной unique_num.**\n",
    "\n",
    "![](https://ucarecdn.com/46eb9638-0fb3-457f-a9b9-80187b100547/)"
   ]
  },
  {
   "cell_type": "code",
   "execution_count": null,
   "id": "65fc4329",
   "metadata": {},
   "outputs": [],
   "source": [
    "unique_num = df.nunique()"
   ]
  },
  {
   "cell_type": "markdown",
   "id": "ce8e4773",
   "metadata": {},
   "source": [
    "**6. У нас появились новые данные! Переменная data хранит в себе датафрэйм следующего вида:**\n",
    "\n",
    "![](https://ucarecdn.com/abdf7c01-a13a-4075-bb5a-595bde5d55ef/)\n",
    "\n",
    "**Проведите inner join датафрейма data с df из предыдущего шага, объединив их по колонке client_id, и поместите результат в переменную full_data (да, придумывать названия переменных иногда бывает сложно)**\n",
    "\n",
    "**Предыдущий датафрейм загружен в переменную df, новый – в data**"
   ]
  },
  {
   "cell_type": "code",
   "execution_count": null,
   "id": "56f45473",
   "metadata": {},
   "outputs": [],
   "source": [
    "full_data = data.merge(df, on='client_id')"
   ]
  },
  {
   "cell_type": "markdown",
   "id": "2797079c",
   "metadata": {},
   "source": [
    "**7. 💀 Сложное задание! 💀**\n",
    "\n",
    "**Теперь давайте создадим собственную функцию. Напишите функцию read_n_agg, которая:**\n",
    "\n",
    "1. принимает на вход один параметр – путь к файлу\n",
    "2. считывает переданный файл, в котором разделителем является ;\n",
    "3. считает средний заработок (income) по каждой компании (company), перенося колонку company в индекс (as_index=True)\n",
    "4. возвращает результат этих действий (агрегированный датафрэйм)\n",
    "\n",
    "![](https://ucarecdn.com/8a8350bf-521b-4047-9f46-1b26f546082a/)\n",
    "\n",
    "P.S. Небольшое уточнение – менять что-то в данных или переименовывать колонки не нужно.\n",
    "\n",
    "P.P.S. В задании надо указать только функцию, указывать конкретный путь к файлу и/или пытаться его читать не нужно!"
   ]
  },
  {
   "cell_type": "code",
   "execution_count": 6,
   "id": "6c45742e",
   "metadata": {},
   "outputs": [],
   "source": [
    "import pandas as pd\n",
    "path = 'C:/Users/Александр/pj/karpov_courses/Python/Homeworks/Datasets/3_companies.csv'\n",
    "def read_n_agg(path):\n",
    "    data = pd.read_csv(path, sep=';')\n",
    "    mean_inc = data.groupby('company').agg({'income' : 'mean'})\n",
    "    return mean_inc"
   ]
  },
  {
   "cell_type": "code",
   "execution_count": 8,
   "id": "8a88df41",
   "metadata": {},
   "outputs": [
    {
     "data": {
      "text/html": [
       "<div>\n",
       "<style scoped>\n",
       "    .dataframe tbody tr th:only-of-type {\n",
       "        vertical-align: middle;\n",
       "    }\n",
       "\n",
       "    .dataframe tbody tr th {\n",
       "        vertical-align: top;\n",
       "    }\n",
       "\n",
       "    .dataframe thead th {\n",
       "        text-align: right;\n",
       "    }\n",
       "</style>\n",
       "<table border=\"1\" class=\"dataframe\">\n",
       "  <thead>\n",
       "    <tr style=\"text-align: right;\">\n",
       "      <th></th>\n",
       "      <th>income</th>\n",
       "    </tr>\n",
       "    <tr>\n",
       "      <th>company</th>\n",
       "      <th></th>\n",
       "    </tr>\n",
       "  </thead>\n",
       "  <tbody>\n",
       "    <tr>\n",
       "      <th>En +</th>\n",
       "      <td>9.962187e+10</td>\n",
       "    </tr>\n",
       "    <tr>\n",
       "      <th>АО «Александрова, Савельев и Мельникова»</th>\n",
       "      <td>7.206782e+10</td>\n",
       "    </tr>\n",
       "    <tr>\n",
       "      <th>АО «Андреев-Анисимов»</th>\n",
       "      <td>6.931948e+09</td>\n",
       "    </tr>\n",
       "    <tr>\n",
       "      <th>АО «Андреев-Макарова»</th>\n",
       "      <td>8.934380e+10</td>\n",
       "    </tr>\n",
       "    <tr>\n",
       "      <th>АО «Большаков Кошелева»</th>\n",
       "      <td>7.860861e+10</td>\n",
       "    </tr>\n",
       "  </tbody>\n",
       "</table>\n",
       "</div>"
      ],
      "text/plain": [
       "                                                income\n",
       "company                                               \n",
       "En +                                      9.962187e+10\n",
       "АО «Александрова, Савельев и Мельникова»  7.206782e+10\n",
       "АО «Андреев-Анисимов»                     6.931948e+09\n",
       "АО «Андреев-Макарова»                     8.934380e+10\n",
       "АО «Большаков Кошелева»                   7.860861e+10"
      ]
     },
     "execution_count": 8,
     "metadata": {},
     "output_type": "execute_result"
    }
   ],
   "source": [
    "mean_income = read_n_agg(path)\n",
    "mean_income.head()"
   ]
  },
  {
   "cell_type": "markdown",
   "id": "321e16e2",
   "metadata": {},
   "source": [
    "**8. Вернемся к данным по поездкам на такси. На этот раз – из Перу, с рейтингами водителей, пассажиров, координатами, и парой других деталей.**\n",
    "\n",
    "* journey_id – уникальный id поездки\n",
    "\n",
    "* user_id – id пользователя\n",
    "\n",
    "* driver_id – id водителя\n",
    "\n",
    "* taxi_id – id машины\n",
    "\n",
    "* icon – тип поездки\n",
    "\n",
    "* start_type – тип заказа (asap, reserved, delayed)\n",
    "\n",
    "* start_at – время начала поездки\n",
    "\n",
    "* start_lat – исходное местоположение пользователя, широта\n",
    "\n",
    "* start_lon – исходное местоположение пользователя, долгота\n",
    "\n",
    "* end_at – время окончания поездки\n",
    "\n",
    "* end_lat – итоговое местоположение, широта\n",
    "\n",
    "* end_lon – итоговое местоположение, долгота\n",
    "\n",
    "* end_state – состояние заказа\n",
    "\n",
    "* driver_start_lat – исходное местоположение водителя, широта\n",
    "\n",
    "* driver_start_lon – исходное местоположение водителя, долгота\n",
    "\n",
    "* arrived_at – время прибытия водителя\n",
    "\n",
    "* source – платформа, с которой сделан заказ\n",
    "\n",
    "* driver_score – оценка водителя клиентом\n",
    "\n",
    "* rider_score – оценка клиента водителем\n",
    " \n",
    "\n",
    "**Импортируйте pandas как pd. В данном задании ссылка на датасет находится в переменной path_to_file. \n",
    "Загрузите датасет, используя ; в качестве разделителя.**\n",
    "\n",
    "**Также укажите, что столбцы start_at, end_at, arrived_at нужно прочитать как даты (параметр parse_dates).\n",
    "Результат запишите в переменную taxi.**\n",
    "\n",
    " Может пригодиться: [read_csv()](https://lab.karpov.courses/learning/88/module/1103/lesson/9727/28493/133019/)"
   ]
  },
  {
   "cell_type": "code",
   "execution_count": 22,
   "id": "0b2cb314",
   "metadata": {},
   "outputs": [],
   "source": [
    "import pandas as pd\n",
    "import numpy as np\n",
    "import seaborn as sns\n",
    "import matplotlib.pyplot as plt\n",
    "taxi = pd.read_csv('C:/Users/Александр/pj/karpov_courses/Python/Homeworks/Datasets/3_taxi_peru.csv', \n",
    "                   parse_dates=['start_at', 'end_at', 'arrived_at'], sep=';')"
   ]
  },
  {
   "cell_type": "markdown",
   "id": "c6dc9338",
   "metadata": {},
   "source": [
    "**9. Проверьте, с какой платформы было сделано больше всего заказов. В ответе укажите значение в %, округлённое до целого.**"
   ]
  },
  {
   "cell_type": "code",
   "execution_count": 23,
   "id": "5b1247cf",
   "metadata": {},
   "outputs": [
    {
     "data": {
      "text/plain": [
       "iPhone     9741\n",
       "web        7631\n",
       "Android    4909\n",
       "iPad        571\n",
       "Wap         136\n",
       "Name: source, dtype: int64"
      ]
     },
     "execution_count": 23,
     "metadata": {},
     "output_type": "execute_result"
    }
   ],
   "source": [
    "taxi.source.value_counts()"
   ]
  },
  {
   "cell_type": "code",
   "execution_count": 24,
   "id": "5aef6d41",
   "metadata": {},
   "outputs": [
    {
     "data": {
      "text/plain": [
       "iPhone     42.0\n",
       "web        33.0\n",
       "Android    21.0\n",
       "iPad        2.0\n",
       "Wap         1.0\n",
       "Name: source, dtype: float64"
      ]
     },
     "execution_count": 24,
     "metadata": {},
     "output_type": "execute_result"
    }
   ],
   "source": [
    "np.round(taxi.source.value_counts() / len(taxi) * 100)"
   ]
  },
  {
   "cell_type": "markdown",
   "id": "e9b63d96",
   "metadata": {},
   "source": [
    "Ответ: iPhone 42.0%"
   ]
  },
  {
   "cell_type": "markdown",
   "id": "e9d6a37c",
   "metadata": {},
   "source": [
    "**10. Чтобы показать разницу более наглядно, попробуем визуализировать показатели.**\n",
    "\n",
    "**Агрегируйте данные и постройте барчарт, где по оси x будет расположено название платформы (source), а по оси y – количество заказов (абсолютные значения).**\n",
    "\n",
    "Какой график получился?\n",
    "![](https://storage.yandexcloud.net/klms-public/production/learning-content/65/801/6468/19025/78899/%D0%B7%D0%B0%D0%B4%D0%B0%D0%BD%D0%B8%D0%B5_3_10.png)"
   ]
  },
  {
   "cell_type": "code",
   "execution_count": 25,
   "id": "a6ac89a7",
   "metadata": {},
   "outputs": [],
   "source": [
    "taxi_counts = (taxi['source'].value_counts() # используем value_counts для подсчета значений, без параметра\n",
    "               .reset_index() # сбрасываем индекс\n",
    "               .rename({'index':'source', 'source':'cnt'}, axis='columns')  # меняем значения на читаемые\n",
    "              )"
   ]
  },
  {
   "cell_type": "code",
   "execution_count": 26,
   "id": "e6a38c55",
   "metadata": {},
   "outputs": [
    {
     "data": {
      "image/png": "[encoded data removed]",
      "text/plain": [
       "<Figure size 432x288 with 1 Axes>"
      ]
     },
     "metadata": {
      "needs_background": "light"
     },
     "output_type": "display_data"
    }
   ],
   "source": [
    "ax = sns.barplot(x='source', y='cnt', data=taxi_counts)\n",
    "ax.set(xlabel='Platform', ylabel='Count')  # подписываем оси\n",
    "sns.despine()  # убрать часть рамки графика\n",
    "plt.show()"
   ]
  },
  {
   "cell_type": "markdown",
   "id": "a9f0a36b",
   "metadata": {},
   "source": [
    "* A\n",
    "* B\n",
    "* **C**"
   ]
  },
  {
   "cell_type": "markdown",
   "id": "77dfddb8",
   "metadata": {},
   "source": [
    "**11. Альтернативный вариант построения распределения категориальной переменной – sns.countplot. В качестве единственного аргумента можно передать всего одну колонку: например, source, а количество значений для оси y функция посчитает самостоятельно.**\n",
    "\n",
    "sns.countplot(taxi['source'])\n",
    "\n",
    "**Используйте данный тип графика и проверьте, какой тип поездки (icon) встречался чаще всего.**"
   ]
  },
  {
   "cell_type": "code",
   "execution_count": 27,
   "id": "fd3e4b55",
   "metadata": {},
   "outputs": [
    {
     "data": {
      "image/png": "[encoded data removed]",
      "text/plain": [
       "<Figure size 432x288 with 1 Axes>"
      ]
     },
     "metadata": {
      "needs_background": "light"
     },
     "output_type": "display_data"
    }
   ],
   "source": [
    "a = sns.countplot(x='icon', data=taxi)\n",
    "a.set(xlabel='Icon', ylabel='Count')\n",
    "sns.despine()\n",
    "plt.show()"
   ]
  },
  {
   "cell_type": "markdown",
   "id": "17b166c2",
   "metadata": {},
   "source": [
    "* easy\n",
    "* group\n",
    "* **executive**"
   ]
  },
  {
   "cell_type": "markdown",
   "id": "d33a70bf",
   "metadata": {},
   "source": [
    "**12. Теперь попробуем построить более сложный график!**\n",
    "\n",
    "**С помощью sns.countplot и параметра hue визуализируйте распределение переменной end_state (итоговое состояние заказа) в разбивке по платформам (source).**\n",
    "\n",
    "**Иными словами, по оси x расположите платформу, а в качестве цвета используйте состояние заказа. Далее выберите верные утверждения.**"
   ]
  },
  {
   "cell_type": "code",
   "execution_count": 28,
   "id": "f5f8dc82",
   "metadata": {},
   "outputs": [
    {
     "data": {
      "image/png": "[encoded data removed]",
      "text/plain": [
       "<Figure size 1152x648 with 1 Axes>"
      ]
     },
     "metadata": {
      "needs_background": "light"
     },
     "output_type": "display_data"
    }
   ],
   "source": [
    "plt.figure(figsize=(16,9))\n",
    "sns.countplot(data=taxi, hue='end_state', x='source')\n",
    "plt.show() "
   ]
  },
  {
   "cell_type": "markdown",
   "id": "d9ae640a",
   "metadata": {},
   "source": [
    "* **Больше всего заказов со статусом drop off совершено с платформы iPhone**\n",
    "* **На Android количество отмененных поездок (rider cancel) меньше, чем на iPhone**\n",
    "* На web отмененных поездок (rider cancel) меньше, чем на Android\n",
    "* **Наибольшая разница между количеством drop off и rider cancel наблюдается для платформы iPhone**\n",
    "* Наибольшая разница между количеством drop off и rider cancel наблюдается для платформы Android"
   ]
  },
  {
   "cell_type": "markdown",
   "id": "7d02d7ba",
   "metadata": {},
   "source": [
    "**13. Проверим, как распределены оценки водителей (driver_score). Для подготовки данных выполните следующие шаги:**\n",
    "\n",
    "1. Посчитайте частоту встречаемости каждой из оценок\n",
    "2. Переведите в проценты и округлите до 2 знаков после точки (.mul(100).round(2))\n",
    "3. Сбросьте индексы\n",
    "4. Переименуйте колонки в driver_score и percentage\n",
    "5. Отсортируйте по driver_score в порядке возрастания (от 0 до 5)\n",
    "6. Запишите результат в driver_score_counts\n",
    " \n",
    "\n",
    "Полезные функции:\n",
    "\n",
    "* [.mul()](https://pandas.pydata.org/pandas-docs/stable/reference/api/pandas.Series.mul.html?highlight=mul#pandas.Series.mul) – умножение, более удобный вариант для использования в цепочке методов \n",
    "* [.round()](https://pandas.pydata.org/pandas-docs/stable/reference/api/pandas.Series.round.html#pandas.Series.round) – округление\n",
    "* [.reset_index()](https://lab.karpov.courses/learning/88/module/1103/lesson/9728/28498/133078/) – сбросить индекс\n",
    "* [.value_counts()](https://lab.karpov.courses/learning/88/module/1103/lesson/9727/28493/133026/) – сколько раз встречается каждое значение переменной"
   ]
  },
  {
   "cell_type": "code",
   "execution_count": 34,
   "id": "418d1c88",
   "metadata": {},
   "outputs": [
    {
     "data": {
      "text/html": [
       "<div>\n",
       "<style scoped>\n",
       "    .dataframe tbody tr th:only-of-type {\n",
       "        vertical-align: middle;\n",
       "    }\n",
       "\n",
       "    .dataframe tbody tr th {\n",
       "        vertical-align: top;\n",
       "    }\n",
       "\n",
       "    .dataframe thead th {\n",
       "        text-align: right;\n",
       "    }\n",
       "</style>\n",
       "<table border=\"1\" class=\"dataframe\">\n",
       "  <thead>\n",
       "    <tr style=\"text-align: right;\">\n",
       "      <th></th>\n",
       "      <th>driver_score</th>\n",
       "      <th>percentage</th>\n",
       "    </tr>\n",
       "  </thead>\n",
       "  <tbody>\n",
       "    <tr>\n",
       "      <th>0</th>\n",
       "      <td>5.0</td>\n",
       "      <td>58.81</td>\n",
       "    </tr>\n",
       "    <tr>\n",
       "      <th>1</th>\n",
       "      <td>4.0</td>\n",
       "      <td>21.88</td>\n",
       "    </tr>\n",
       "    <tr>\n",
       "      <th>2</th>\n",
       "      <td>0.0</td>\n",
       "      <td>14.30</td>\n",
       "    </tr>\n",
       "    <tr>\n",
       "      <th>3</th>\n",
       "      <td>3.0</td>\n",
       "      <td>2.97</td>\n",
       "    </tr>\n",
       "    <tr>\n",
       "      <th>4</th>\n",
       "      <td>1.0</td>\n",
       "      <td>1.23</td>\n",
       "    </tr>\n",
       "    <tr>\n",
       "      <th>5</th>\n",
       "      <td>2.0</td>\n",
       "      <td>0.81</td>\n",
       "    </tr>\n",
       "  </tbody>\n",
       "</table>\n",
       "</div>"
      ],
      "text/plain": [
       "   driver_score  percentage\n",
       "0           5.0       58.81\n",
       "1           4.0       21.88\n",
       "2           0.0       14.30\n",
       "3           3.0        2.97\n",
       "4           1.0        1.23\n",
       "5           2.0        0.81"
      ]
     },
     "execution_count": 34,
     "metadata": {},
     "output_type": "execute_result"
    }
   ],
   "source": [
    "scores = taxi.driver_score.value_counts(normalize=True).mul(100).round(2) \\\n",
    "             .reset_index() \\\n",
    "             .rename(columns={'driver_score' : 'percentage',\n",
    "                              'index' : 'driver_score'})\n",
    "scores"
   ]
  },
  {
   "cell_type": "code",
   "execution_count": 35,
   "id": "e2787591",
   "metadata": {},
   "outputs": [
    {
     "data": {
      "text/html": [
       "<div>\n",
       "<style scoped>\n",
       "    .dataframe tbody tr th:only-of-type {\n",
       "        vertical-align: middle;\n",
       "    }\n",
       "\n",
       "    .dataframe tbody tr th {\n",
       "        vertical-align: top;\n",
       "    }\n",
       "\n",
       "    .dataframe thead th {\n",
       "        text-align: right;\n",
       "    }\n",
       "</style>\n",
       "<table border=\"1\" class=\"dataframe\">\n",
       "  <thead>\n",
       "    <tr style=\"text-align: right;\">\n",
       "      <th></th>\n",
       "      <th>driver_score</th>\n",
       "      <th>percentage</th>\n",
       "    </tr>\n",
       "  </thead>\n",
       "  <tbody>\n",
       "    <tr>\n",
       "      <th>0</th>\n",
       "      <td>5.0</td>\n",
       "      <td>58.81</td>\n",
       "    </tr>\n",
       "    <tr>\n",
       "      <th>1</th>\n",
       "      <td>4.0</td>\n",
       "      <td>21.88</td>\n",
       "    </tr>\n",
       "    <tr>\n",
       "      <th>3</th>\n",
       "      <td>3.0</td>\n",
       "      <td>2.97</td>\n",
       "    </tr>\n",
       "    <tr>\n",
       "      <th>5</th>\n",
       "      <td>2.0</td>\n",
       "      <td>0.81</td>\n",
       "    </tr>\n",
       "    <tr>\n",
       "      <th>4</th>\n",
       "      <td>1.0</td>\n",
       "      <td>1.23</td>\n",
       "    </tr>\n",
       "    <tr>\n",
       "      <th>2</th>\n",
       "      <td>0.0</td>\n",
       "      <td>14.30</td>\n",
       "    </tr>\n",
       "  </tbody>\n",
       "</table>\n",
       "</div>"
      ],
      "text/plain": [
       "   driver_score  percentage\n",
       "0           5.0       58.81\n",
       "1           4.0       21.88\n",
       "3           3.0        2.97\n",
       "5           2.0        0.81\n",
       "4           1.0        1.23\n",
       "2           0.0       14.30"
      ]
     },
     "execution_count": 35,
     "metadata": {},
     "output_type": "execute_result"
    }
   ],
   "source": [
    "driver_score_counts = scores.sort_values('driver_score', ascending=False)\n",
    "driver_score_counts"
   ]
  },
  {
   "cell_type": "markdown",
   "id": "cc66666f",
   "metadata": {},
   "source": [
    "**14. Теперь строим график!\n",
    "Укажите, какую из четырех строчек в нижепредставленном коде нужно исправить, чтобы получить следующий график:**\n",
    "\n",
    "ax = sns.barplot(x=driver_score, y=percentage, data=driver_score_counts, color='blue', alpha=0.5)\n",
    "\n",
    "ax.set(xlabel='Driver score', ylabel='Percentage')\n",
    "\n",
    "sns.despine()  # убрать часть рамки графика\n",
    "\n",
    "plt.show()\n",
    "\n",
    "![](https://ucarecdn.com/b25244c8-7fce-44f4-8e15-8fec88ddeb4b/)"
   ]
  },
  {
   "cell_type": "markdown",
   "id": "95af1f6b",
   "metadata": {},
   "source": [
    "Ответ: 1"
   ]
  },
  {
   "cell_type": "markdown",
   "id": "35b6f371",
   "metadata": {},
   "source": [
    "**15. 💀 Сложное задание! 💀**\n",
    "\n",
    "**Проделайте аналогичные шаги для rider_score (оценок клиентов водителями), не забыв построить график.\n",
    "В чем его отличие от распределения оценок водителей?**"
   ]
  },
  {
   "cell_type": "code",
   "execution_count": 39,
   "id": "0f25a777",
   "metadata": {},
   "outputs": [
    {
     "data": {
      "image/png": "[encoded data removed]",
      "text/plain": [
       "<Figure size 432x288 with 1 Axes>"
      ]
     },
     "metadata": {
      "needs_background": "light"
     },
     "output_type": "display_data"
    }
   ],
   "source": [
    "scores = taxi.rider_score.value_counts(normalize=True).mul(100).round(2) \\\n",
    "             .reset_index() \\\n",
    "             .rename(columns={'rider_score' : 'percentage',\n",
    "                              'index' : 'rider_score'})\n",
    "rider_score_counts = scores.sort_values('rider_score')\n",
    "ax = sns.barplot(x='rider_score', y='percentage', data=rider_score_counts, color='blue', alpha=0.5)\n",
    "ax.set(xlabel='Rider score', ylabel='Percentage')\n",
    "sns.despine()\n",
    "plt.show()"
   ]
  },
  {
   "cell_type": "markdown",
   "id": "2291ae5d",
   "metadata": {},
   "source": [
    "* Водители ставят больше 0, чем клиенты\n",
    "* **Водители ставят меньше 0, чем клиенты**\n",
    "* Более 20% оценок составляют 4\n",
    "* **Более чем в 80% случаев водители поставили клиентам 5 звездочек**"
   ]
  },
  {
   "cell_type": "code",
   "execution_count": null,
   "id": "8c180678",
   "metadata": {},
   "outputs": [],
   "source": []
  }
 ],
 "metadata": {
  "kernelspec": {
   "display_name": "Python 3 (ipykernel)",
   "language": "python",
   "name": "python3"
  },
  "language_info": {
   "codemirror_mode": {
    "name": "ipython",
    "version": 3
   },
   "file_extension": ".py",
   "mimetype": "text/x-python",
   "name": "python",
   "nbconvert_exporter": "python",
   "pygments_lexer": "ipython3",
   "version": "3.10.4"
  }
 },
 "nbformat": 4,
 "nbformat_minor": 5
}
