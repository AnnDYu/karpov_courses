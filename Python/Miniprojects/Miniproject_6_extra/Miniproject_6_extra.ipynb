{
 "cells": [
  {
   "cell_type": "markdown",
   "id": "177460c4",
   "metadata": {},
   "source": [
    "В рамках дополнительного проекта попробуем освоить API, позволяющий получать данные о музейных коллекциях. Это задание может пригодиться для большего понимания того, какими способами можно собирать и обрабатывать данные, например, для собственного проекта или другой рабочей задачи. Также вы можете более глубоко изучить документацию, чтобы потом исследовать другие интересные для себя вопросы по полученным данным :)\n",
    "\n",
    "**Описание API**\n",
    "Документация: https://metmuseum.github.io\n",
    "\n",
    "Ключ: для использования выбранного API (на момент написания задания) ключ не требуется :)\n",
    "\n",
    "Всего есть 4 основных раздела:\n",
    "\n",
    "* Объекты (Objects)\n",
    "* Объект (Object) – данные об объекте (например, о картине)\n",
    "* Департаменты (Departments) –  данные о департаменте/разделе (например, \"Современное искусство\") \n",
    "* Поиск (Search) – используется для поиска\n",
    "\n",
    "В рамках задач поработаем с блоками `Object` и `Search`.\n",
    "\n",
    "С более подробным описанием каждого доступного параметра можно ознакомиться в документации."
   ]
  },
  {
   "cell_type": "markdown",
   "id": "6c886ff2",
   "metadata": {},
   "source": [
    "**1. Для начала, импортируйте нужные библиотеки**"
   ]
  },
  {
   "cell_type": "code",
   "execution_count": 40,
   "id": "8a7c4c54",
   "metadata": {},
   "outputs": [],
   "source": [
    "import requests\n",
    "import pandas as pd\n",
    "import seaborn as sns\n",
    "import matplotlib.pyplot as plt"
   ]
  },
  {
   "cell_type": "markdown",
   "id": "47ec22d7",
   "metadata": {},
   "source": [
    "**2. Сам запрос к API должен состоять из нескольких параметров. Пример обращения к поиску (Search):**\n",
    "```python\n",
    "r = requests.get('https://collectionapi.metmuseum.org/public/collection/v1/search?q=QUERY')\n",
    "res = r.json()\n",
    "```\n",
    "**где QUERY – ключевое слово.**\n",
    "\n",
    "**Предположим, ваша задача – найти все произведения, связанные с подсолнухами. Выполните поиск по слову \"sunflowers\". Внимательно посмотрите на формат ответа и сохраните id полученных объектов в список sunflower_ids.**"
   ]
  },
  {
   "cell_type": "code",
   "execution_count": 2,
   "id": "9021842e",
   "metadata": {},
   "outputs": [],
   "source": [
    "r = requests.get('https://collectionapi.metmuseum.org/public/collection/v1/search?q=sunflowers')\n",
    "sunflowers = r.json()"
   ]
  },
  {
   "cell_type": "code",
   "execution_count": 4,
   "id": "da23ccf9",
   "metadata": {},
   "outputs": [],
   "source": [
    "sunflower_ids = sunflowers['objectIDs']\n",
    "search_ids = [436524, 2032, 20149, 16822570, 437329]"
   ]
  },
  {
   "cell_type": "code",
   "execution_count": 6,
   "id": "8b357d13",
   "metadata": {},
   "outputs": [
    {
     "data": {
      "text/plain": [
       "[436524, 2032, 437329]"
      ]
     },
     "execution_count": 6,
     "metadata": {},
     "output_type": "execute_result"
    }
   ],
   "source": [
    "sunflowers_search = [i for i in search_ids if i in sunflower_ids]\n",
    "sunflowers_search"
   ]
  },
  {
   "cell_type": "markdown",
   "id": "8df8268b",
   "metadata": {},
   "source": [
    "* **436524**\n",
    "* **2032**\n",
    "* 16822570\n",
    "* **437329**\n",
    "* 20149"
   ]
  },
  {
   "cell_type": "markdown",
   "id": "91ac0d0e",
   "metadata": {},
   "source": [
    "**2. Отлично! На предыдущем шаге мы получили результаты поиска. Следущий этап – собрать информацию об этих объектах.**\n",
    "\n",
    "**Пример текста запроса для получения информации об одном объекте (Object):**\n",
    "```python\n",
    "r_test = requests.get(f'https://collectionapi.metmuseum.org/public/collection/v1/objects/OBJECT_ID') \n",
    "obj_test = r_test.json()\n",
    "```"
   ]
  },
  {
   "cell_type": "code",
   "execution_count": 7,
   "id": "0e253fca",
   "metadata": {},
   "outputs": [],
   "source": [
    "# взяли запрос из задачи, подставили id объекта\n",
    "r_test = requests.get(f'https://collectionapi.metmuseum.org/public/collection/v1/objects/437980')  \n",
    "obj_test = r_test.json()"
   ]
  },
  {
   "cell_type": "markdown",
   "id": "d9a856bf",
   "metadata": {},
   "source": [
    "GalleryNumber\t**825**\n",
    "\n",
    "artistDisplayName\t**Vincent van Gogh**\n",
    "\n",
    "objectName\t**Painting**\n",
    "\n",
    "title\t**Cypresses**\n",
    "\n",
    "department\t**European Paintings**\n",
    "\n",
    "culture\t**''**\n",
    "\n",
    "objectID\t**437980**"
   ]
  },
  {
   "cell_type": "markdown",
   "id": "64917729",
   "metadata": {},
   "source": [
    "**3. Теперь напишите цикл, с помощью которого будет собрана информация об объектах, которые были получены на 2 шаге. Результаты запишите в датафрейм, а именно – следующие параметры:**\n",
    "\n",
    "* objectID – id объекта\n",
    "* title – название\n",
    "* artistDisplayName – автор\n",
    "* department – департамент\n",
    "* objectBeginDate – дата (начало)\n",
    "* objectEndDate – дата (конец)\n",
    "* period – название периода\n",
    "* objectName – название/категория объекта\n",
    "* culture – культура\n",
    "\n",
    "**Сколько объектов относятся к японской культуре? (culture –Japan)**"
   ]
  },
  {
   "cell_type": "code",
   "execution_count": 29,
   "id": "ad0f1921",
   "metadata": {},
   "outputs": [],
   "source": [
    "object_df = pd.DataFrame()"
   ]
  },
  {
   "cell_type": "code",
   "execution_count": 30,
   "id": "e8584524",
   "metadata": {},
   "outputs": [],
   "source": [
    "for object_id in sunflower_ids:\n",
    "    r = requests.get(f'https://collectionapi.metmuseum.org/public/collection/v1/objects/{object_id}')\n",
    "    obj_tmp = r.json()"
   ]
  },
  {
   "cell_type": "code",
   "execution_count": 32,
   "id": "2b6dbe17",
   "metadata": {},
   "outputs": [],
   "source": [
    "try:\n",
    "    obj_tmp_df = pd.DataFrame({'objectID' : obj_tmp['objectID'],\n",
    "                              'title' : [obj_tmp['title']],\n",
    "                              'artistDisplayName': [obj_tmp['artistDisplayName']],\n",
    "                              'department' : [obj_tmp['department']], \n",
    "                              'objectBeginDate' : [obj_tmp['objectBeginDate']], \n",
    "                              'objectEndDate' : [obj_tmp['objectEndDate']], \n",
    "                              'period' : [obj_tmp['period']], \n",
    "                              'objectName' : [obj_tmp['objectName']], \n",
    "                              'culture': [obj_tmp['culture']]\n",
    "                          })\n",
    "    # приклеиваем\n",
    "    object_df = pd.concat([object_df, obj_tmp_df])\n",
    "except KeyError:\n",
    "    pass"
   ]
  },
  {
   "cell_type": "code",
   "execution_count": 33,
   "id": "3ba77ade",
   "metadata": {},
   "outputs": [],
   "source": [
    "object_df = pd.concat([object_df, obj_tmp_df])"
   ]
  },
  {
   "cell_type": "code",
   "execution_count": 34,
   "id": "2004dea0",
   "metadata": {},
   "outputs": [
    {
     "data": {
      "text/plain": [
       "0"
      ]
     },
     "execution_count": 34,
     "metadata": {},
     "output_type": "execute_result"
    }
   ],
   "source": [
    "object_df.query(\"culture == 'Japan'\").shape[0]"
   ]
  },
  {
   "cell_type": "markdown",
   "id": "4e22cbed",
   "metadata": {},
   "source": [
    "**4. Теперь попробуем построить более сложный запрос с помощью секции \"Search\"! На этот раз параметры необходимо передать через \"&\", например, departmentId (id департамента – 1) и q (ключевое слово – cat):**\n",
    "```python\n",
    "r = requests.get('https://collectionapi.metmuseum.org/public/collection/v1/search?departmentId=1&q=cat')\n",
    "cats = r.json()\n",
    "```\n",
    "**Выполните поисковый запрос для департамента \"Asian art\" (departmentId = 6) с тегом \"cat\" и запишите id объектов в cat_ids. Используйте цикл из шага 4, чтобы получить данные о первой 1000 объектов из списка.**\n",
    "\n",
    "Note: выполнение цикла может занять некоторое время (~5 минут), поэтому проверять его работоспособность лучше на более маленькой выборке!\n",
    "\n",
    "**В качестве ответа укажите, в каком периоде (period) было выполнено наибольшее количество работ, представленных в музее?**"
   ]
  },
  {
   "cell_type": "code",
   "execution_count": 36,
   "id": "6f93b5b6",
   "metadata": {},
   "outputs": [],
   "source": [
    "r = requests.get('https://collectionapi.metmuseum.org/public/collection/v1/search?departmentId=6&q=cat')\n",
    "cats = r.json()"
   ]
  },
  {
   "cell_type": "code",
   "execution_count": 37,
   "id": "a869e0b0",
   "metadata": {},
   "outputs": [],
   "source": [
    "cat_ids = cats['objectIDs'] "
   ]
  },
  {
   "cell_type": "code",
   "execution_count": 38,
   "id": "dbc665f6",
   "metadata": {},
   "outputs": [],
   "source": [
    "for object_id in cat_ids[:1000]:  # берем только 1000 объектов, как указано в задании\n",
    "    # информация об объекте\n",
    "    r = requests.get(f'https://collectionapi.metmuseum.org/public/collection/v1/objects/{object_id}')\n",
    "    obj_tmp = r.json()\n",
    "\n",
    "    # формируем строчку для объекта\n",
    "    try:\n",
    "        obj_tmp_df = pd.DataFrame({'objectID' : obj_tmp['objectID'],\n",
    "                                 'title' : [obj_tmp['title']],\n",
    "                                 'artistDisplayName': [obj_tmp['artistDisplayName']],\n",
    "                                 'department' : [obj_tmp['department']], \n",
    "                                 'objectBeginDate' : [obj_tmp['objectBeginDate']], \n",
    "                                 'objectEndDate' : [obj_tmp['objectEndDate']], \n",
    "                                 'objectName' : [obj_tmp['objectName']], \n",
    "                                 'culture': [obj_tmp['culture']],\n",
    "                                 'period': [obj_tmp['period']]\n",
    "                            })\n",
    "        # приклеиваем\n",
    "        object_df = pd.concat([object_df, obj_tmp_df])\n",
    "    except KeyError:\n",
    "        continue"
   ]
  },
  {
   "cell_type": "code",
   "execution_count": 39,
   "id": "796bc36f",
   "metadata": {},
   "outputs": [
    {
     "data": {
      "text/plain": [
       "Edo period (1615–1868)          457\n",
       "                                 93\n",
       "Qing dynasty (1644–1911)         60\n",
       "Ming dynasty (1368–1644)         50\n",
       "Muromachi period (1392–1573)     30\n",
       "Name: period, dtype: int64"
      ]
     },
     "execution_count": 39,
     "metadata": {},
     "output_type": "execute_result"
    }
   ],
   "source": [
    "object_df.period.value_counts().head(5)"
   ]
  },
  {
   "cell_type": "markdown",
   "id": "0d3f0366",
   "metadata": {},
   "source": [
    "* Timurid period (1370–1507)\n",
    "* **Edo period (1615–1868)**\n",
    "* Tang dynasty (618–907)\n",
    "* Meiji period (1868–1912)\n",
    "* Период чаще всего не указан"
   ]
  }
 ],
 "metadata": {
  "kernelspec": {
   "display_name": "Python 3 (ipykernel)",
   "language": "python",
   "name": "python3"
  },
  "language_info": {
   "codemirror_mode": {
    "name": "ipython",
    "version": 3
   },
   "file_extension": ".py",
   "mimetype": "text/x-python",
   "name": "python",
   "nbconvert_exporter": "python",
   "pygments_lexer": "ipython3",
   "version": "3.9.12"
  }
 },
 "nbformat": 4,
 "nbformat_minor": 5
}
