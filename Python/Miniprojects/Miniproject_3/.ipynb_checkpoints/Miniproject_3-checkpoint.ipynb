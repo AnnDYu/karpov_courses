{
 "cells": [
  {
   "cell_type": "markdown",
   "id": "ccfe4dbd",
   "metadata": {},
   "source": [
    "# Описание\n",
    "\n",
    "На этот раз данные имеют следующую структуру:\n",
    "\n",
    "* записываются для каждого пользователя, совершившего покупки, каждый день\n",
    "* для каждой даты есть своя папка, внутри неё – папки для каждого пользователя\n",
    "* внутри каждой папки есть файл data.csv, где и хранятся данные\n",
    "\n",
    "Схематично выглядит так:\n",
    "\n",
    "└── data\n",
    "\n",
    "   ├── 2020-12-30\n",
    "   \n",
    "   │  ├── FirstName_LastName1\n",
    "   \n",
    "   │  │   └── data.csv\n",
    "   \n",
    "   │  ├── FirstName_LastName2\n",
    "   \n",
    "   │  │   └── data.csv\n",
    "   \n",
    "   │  └── FirstName_LastName3\n",
    "   \n",
    "   │      └── data.csv\n",
    "   \n",
    "   └── 2020-12-31\n",
    "   \n",
    "      ├── FirstName_LastName1\n",
    "      \n",
    "      │   └── data.csv\n",
    "      \n",
    "      └── FirstName_LastName5\n",
    "      \n",
    "          └── data.csv\n",
    "          \n",
    "Например, 30 декабря три покупателя сделали покупки, 31 – два \n",
    "(папки 2020-12-30 и 2020-12-31 соответственно). Поскольку клиент FirstName_LastName1 купил товары в оба дня, для него имеется папка в папке для каждой из дат. Для других клиентов – по одной.\n",
    "\n",
    "**Note: данные в задании покрывают другой временной период, имена тоже другие. Подробности, примеры и возможные подсказки можно найти в текстах следующих шагов.**\n",
    "\n",
    "      \n",
    "\n",
    "## Задачи\n",
    "1. Соберите все данные из папки data в один датафрэйм, имеющий следующие столбцы: колонки из самих файлов (product_id, quantity), а также имя пользователя (name), и дата этих покупок (date), соответствует названию папки, где лежит папка с пользователем)\n",
    "2. Выясните, какой пользователь купил больше всего товаров. Если их несколько, то перечислите имена через запятую с пробелом и в алфавитном порядке.\n",
    "3. Найдите топ-10 товаров по числу проданных единиц за всё время и постройте барплот. Сколько было продано единиц товара с product_id==56?\n",
    "4. Визуализируйте продажи по дням.\n",
    "5. Сколько пользователей приобрели какой-либо товар повторно (более 1 раза)? Повтором будем считать покупку товара с одинаковым product_id, совершенную в разные дни. "
   ]
  },
  {
   "cell_type": "markdown",
   "id": "d34c3dca",
   "metadata": {},
   "source": [
    "**1. 💀 Сложное задание! 💀**\n",
    "\n",
    "**Соберите все данные из папки data в один датафрэйм, имеющий следующие столбцы: колонки из самих файлов (product_id, quantity), имя пользователя (name), и дату этих покупок (date), соответствует названию папки, где лежит папка с пользователем).**\n",
    "\n",
    "Пример итоговой таблицы:\n",
    "\n",
    "    product_id  quantity    name             date\n",
    "    \n",
    "0       56          2         Anatoly_Karpov   2020-12-30\n",
    "\n",
    "1       7           2         Anatoly_Karpov   2020-12-30\n",
    "\n",
    "2       9           3         Anatoly_Karpov   2020-12-30\n",
    "\n",
    "Для объединения датафреймов, читаемых из файлов, можно использовать метод pd.concat(). Например:\n",
    "\n",
    "1. Имеются следующие данные:\n",
    "\n",
    "df_1\n",
    "\n",
    "    product_id  quantity    name               date\n",
    "    \n",
    "0       56          2         Anatoly_Karpov     2020-12-30\n",
    "\n",
    "1       7           2         Anatoly_Karpov     2020-12-30\n",
    "\n",
    "2       9           3         Anatoly_Karpov     2020-12-30\n",
    "\n",
    "df_2\n",
    "\n",
    "    product_id  quantity    name               date\n",
    "    \n",
    "0       4           2         Кatya_Skriptsova   2020-12-30\n",
    "\n",
    "1       71          1         Кatya_Skriptsova   2020-12-31\n",
    "\n",
    "2. Соединяем, передав pd.concat на вход список датафреймов, которые нужно объединить. Обратите внимание: индексы повторяются, поэтому после соединения всех данных нужно их сбросить.\n",
    "\n",
    "df = pd.concat([df_1, df_2])\n",
    "\n",
    "df\n",
    "\n",
    "    product_id  quantity    name                date\n",
    "    \n",
    "0       56          2         Anatoly_Karpov      2020-12-30\n",
    "\n",
    "1       7           2         Anatoly_Karpov      2020-12-30\n",
    "\n",
    "2       9           3         Anatoly_Karpov      2020-12-30\n",
    "\n",
    "0       4           2         Кatya_Skriptsova    2020-12-30\n",
    "\n",
    "1       71          1         Кatya_Skriptsova    2020-12-31\n",
    "\n",
    "**В качестве ответа укажите сумму по колонке quantity.**\n",
    "\n",
    "Также могут пригодиться:\n",
    "\n",
    "* Просмотр содержимого папок\n",
    "* Циклы\n",
    "* Сбросить индексы\n",
    "* Присоединить датафрейм\n"
   ]
  },
  {
   "cell_type": "code",
   "execution_count": 6,
   "id": "d669ab68",
   "metadata": {},
   "outputs": [],
   "source": [
    "import pandas as pd\n",
    "import os\n",
    "\n",
    "import warnings\n",
    "warnings.filterwarnings(\"ignore\")"
   ]
  },
  {
   "cell_type": "code",
   "execution_count": 7,
   "id": "98168dee",
   "metadata": {},
   "outputs": [
    {
     "data": {
      "text/html": [
       "<div>\n",
       "<style scoped>\n",
       "    .dataframe tbody tr th:only-of-type {\n",
       "        vertical-align: middle;\n",
       "    }\n",
       "\n",
       "    .dataframe tbody tr th {\n",
       "        vertical-align: top;\n",
       "    }\n",
       "\n",
       "    .dataframe thead th {\n",
       "        text-align: right;\n",
       "    }\n",
       "</style>\n",
       "<table border=\"1\" class=\"dataframe\">\n",
       "  <thead>\n",
       "    <tr style=\"text-align: right;\">\n",
       "      <th></th>\n",
       "      <th>product_id</th>\n",
       "      <th>quantity</th>\n",
       "      <th>name</th>\n",
       "      <th>date</th>\n",
       "    </tr>\n",
       "  </thead>\n",
       "  <tbody>\n",
       "    <tr>\n",
       "      <th>0</th>\n",
       "      <td>47</td>\n",
       "      <td>1</td>\n",
       "      <td>Alexey_Smirnov</td>\n",
       "      <td>2020-12-03</td>\n",
       "    </tr>\n",
       "    <tr>\n",
       "      <th>1</th>\n",
       "      <td>57</td>\n",
       "      <td>1</td>\n",
       "      <td>Alexey_Smirnov</td>\n",
       "      <td>2020-12-03</td>\n",
       "    </tr>\n",
       "    <tr>\n",
       "      <th>2</th>\n",
       "      <td>14</td>\n",
       "      <td>2</td>\n",
       "      <td>Alexey_Smirnov</td>\n",
       "      <td>2020-12-03</td>\n",
       "    </tr>\n",
       "    <tr>\n",
       "      <th>3</th>\n",
       "      <td>52</td>\n",
       "      <td>1</td>\n",
       "      <td>Alexey_Smirnov</td>\n",
       "      <td>2020-12-03</td>\n",
       "    </tr>\n",
       "    <tr>\n",
       "      <th>4</th>\n",
       "      <td>1</td>\n",
       "      <td>4</td>\n",
       "      <td>Alexey_Smirnov</td>\n",
       "      <td>2020-12-03</td>\n",
       "    </tr>\n",
       "  </tbody>\n",
       "</table>\n",
       "</div>"
      ],
      "text/plain": [
       "   product_id  quantity            name        date\n",
       "0          47         1  Alexey_Smirnov  2020-12-03\n",
       "1          57         1  Alexey_Smirnov  2020-12-03\n",
       "2          14         2  Alexey_Smirnov  2020-12-03\n",
       "3          52         1  Alexey_Smirnov  2020-12-03\n",
       "4           1         4  Alexey_Smirnov  2020-12-03"
      ]
     },
     "execution_count": 7,
     "metadata": {},
     "output_type": "execute_result"
    }
   ],
   "source": [
    "root_path = 'C:/Users/Александр/pj/karpov_courses/Python/Miniprojects/Miniproject_3/data/'\n",
    "df_list = []\n",
    "\n",
    "for date in os.listdir(root_path):\n",
    "    for name in os.listdir(root_path + date):\n",
    "        if name.startswith('.'):\n",
    "            continue\n",
    "        file_path = f'{root_path}{date}/{name}/data.csv'\n",
    "        t_df = pd.read_csv(file_path, sep = ',', index_col = 0)\n",
    "        t_df['name'], t_df['date'] = name, date\n",
    "        df_list.append(t_df)\n",
    "df = pd.concat(df_list).reset_index().drop('index', 1)\n",
    "df.head()"
   ]
  },
  {
   "cell_type": "markdown",
   "id": "a7688727",
   "metadata": {},
   "source": [
    "**2. Выясните, какой пользователь купил больше всего товаров. Если их несколько, то перечислите имена через запятую с пробелом и в алфавитном порядке. Например:**\n",
    "\n",
    "Anatoly_Karpov, Nekto_Ktotovich, Lena_Uhanova, Ignat, Sasha_Tokarev"
   ]
  },
  {
   "cell_type": "code",
   "execution_count": 9,
   "id": "2805e366",
   "metadata": {},
   "outputs": [
    {
     "data": {
      "text/plain": [
       "52"
      ]
     },
     "execution_count": 9,
     "metadata": {},
     "output_type": "execute_result"
    }
   ],
   "source": [
    "quantity_bought = df.groupby('name').quantity.sum()\n",
    "max_quantity = quantity_bought.max()\n",
    "max_quantity"
   ]
  },
  {
   "cell_type": "code",
   "execution_count": 10,
   "id": "1a83191a",
   "metadata": {},
   "outputs": [
    {
     "data": {
      "text/plain": [
       "Index(['Alexey_Smirnov', 'Petr_Smirnov'], dtype='object', name='name')"
      ]
     },
     "execution_count": 10,
     "metadata": {},
     "output_type": "execute_result"
    }
   ],
   "source": [
    "quantity_bought.loc[quantity_bought == max_quantity].index.sort_values()"
   ]
  },
  {
   "cell_type": "markdown",
   "id": "bc55598e",
   "metadata": {},
   "source": [
    "Ответ: Alexey_Smirnov, Petr_Smirnov"
   ]
  },
  {
   "cell_type": "markdown",
   "id": "b1280107",
   "metadata": {},
   "source": [
    "**3. Найдите топ-10 товаров по числу проданных единиц за всё время и постройте барплот (столбчатую диаграмму, sns.barplot), где:**\n",
    "\n",
    "* по оси x – идентификаторы товаров (product_id) \n",
    "* по оси y – суммарное число их покупок (сколько товаров с таким product_id было продано)\n",
    "\n",
    "**Для практики попробуйте изменить параметры графика: цвет (color), прозрачность (alpha), сортировку значений по оси х (order).** \n",
    "\n",
    "**В качестве ответа укажите, сколько было продано единиц товара с product_id равным 56.**"
   ]
  },
  {
   "cell_type": "code",
   "execution_count": 11,
   "id": "61e1b0f1",
   "metadata": {},
   "outputs": [],
   "source": [
    "import seaborn as sns\n",
    "import matplotlib.pyplot as plt"
   ]
  },
  {
   "cell_type": "code",
   "execution_count": 12,
   "id": "d54a2d01",
   "metadata": {},
   "outputs": [
    {
     "data": {
      "text/html": [
       "<div>\n",
       "<style scoped>\n",
       "    .dataframe tbody tr th:only-of-type {\n",
       "        vertical-align: middle;\n",
       "    }\n",
       "\n",
       "    .dataframe tbody tr th {\n",
       "        vertical-align: top;\n",
       "    }\n",
       "\n",
       "    .dataframe thead th {\n",
       "        text-align: right;\n",
       "    }\n",
       "</style>\n",
       "<table border=\"1\" class=\"dataframe\">\n",
       "  <thead>\n",
       "    <tr style=\"text-align: right;\">\n",
       "      <th></th>\n",
       "      <th>product_id</th>\n",
       "      <th>quantity</th>\n",
       "    </tr>\n",
       "  </thead>\n",
       "  <tbody>\n",
       "    <tr>\n",
       "      <th>0</th>\n",
       "      <td>0</td>\n",
       "      <td>4</td>\n",
       "    </tr>\n",
       "    <tr>\n",
       "      <th>1</th>\n",
       "      <td>1</td>\n",
       "      <td>4</td>\n",
       "    </tr>\n",
       "    <tr>\n",
       "      <th>2</th>\n",
       "      <td>3</td>\n",
       "      <td>8</td>\n",
       "    </tr>\n",
       "    <tr>\n",
       "      <th>3</th>\n",
       "      <td>4</td>\n",
       "      <td>6</td>\n",
       "    </tr>\n",
       "    <tr>\n",
       "      <th>4</th>\n",
       "      <td>6</td>\n",
       "      <td>10</td>\n",
       "    </tr>\n",
       "  </tbody>\n",
       "</table>\n",
       "</div>"
      ],
      "text/plain": [
       "   product_id  quantity\n",
       "0           0         4\n",
       "1           1         4\n",
       "2           3         8\n",
       "3           4         6\n",
       "4           6        10"
      ]
     },
     "execution_count": 12,
     "metadata": {},
     "output_type": "execute_result"
    }
   ],
   "source": [
    "products_sold = df.groupby('product_id', as_index=False).quantity.sum()\n",
    "products_sold.head()"
   ]
  },
  {
   "cell_type": "code",
   "execution_count": 14,
   "id": "c40dd4be",
   "metadata": {},
   "outputs": [],
   "source": [
    "products_sold = products_sold.sort_values('quantity', ascending=False).head(10)"
   ]
  },
  {
   "cell_type": "code",
   "execution_count": 23,
   "id": "8d52afcd",
   "metadata": {},
   "outputs": [
    {
     "data": {
      "image/png": "[encoded data removed]",
      "text/plain": [
       "<Figure size 1224x360 with 1 Axes>"
      ]
     },
     "metadata": {
      "needs_background": "light"
     },
     "output_type": "display_data"
    }
   ],
   "source": [
    "fig, ax = plt.subplots(figsize=(17,5))\n",
    "sns.barplot(data=products_sold, x='product_id', y='quantity',\n",
    "            order=products_sold.sort_values('quantity').product_id, ax=ax)\n",
    "ax.bar_label(ax.containers[0])\n",
    "ax.set_title('Топ-10 покупаемых товаров')\n",
    "sns.despine()"
   ]
  },
  {
   "cell_type": "code",
   "execution_count": 21,
   "id": "3480bb16",
   "metadata": {},
   "outputs": [
    {
     "data": {
      "text/html": [
       "<div>\n",
       "<style scoped>\n",
       "    .dataframe tbody tr th:only-of-type {\n",
       "        vertical-align: middle;\n",
       "    }\n",
       "\n",
       "    .dataframe tbody tr th {\n",
       "        vertical-align: top;\n",
       "    }\n",
       "\n",
       "    .dataframe thead th {\n",
       "        text-align: right;\n",
       "    }\n",
       "</style>\n",
       "<table border=\"1\" class=\"dataframe\">\n",
       "  <thead>\n",
       "    <tr style=\"text-align: right;\">\n",
       "      <th></th>\n",
       "      <th>product_id</th>\n",
       "      <th>quantity</th>\n",
       "    </tr>\n",
       "  </thead>\n",
       "  <tbody>\n",
       "    <tr>\n",
       "      <th>42</th>\n",
       "      <td>56</td>\n",
       "      <td>18</td>\n",
       "    </tr>\n",
       "  </tbody>\n",
       "</table>\n",
       "</div>"
      ],
      "text/plain": [
       "    product_id  quantity\n",
       "42          56        18"
      ]
     },
     "execution_count": 21,
     "metadata": {},
     "output_type": "execute_result"
    }
   ],
   "source": [
    "products_sold.loc[products_sold.product_id == 56]"
   ]
  },
  {
   "cell_type": "markdown",
   "id": "785f4c88",
   "metadata": {},
   "source": [
    "Ответ: 18"
   ]
  },
  {
   "cell_type": "markdown",
   "id": "29c31a52",
   "metadata": {},
   "source": [
    "**4. Посмотрим на продажи по дням! Для визуализации снова используйте барплот, только теперь по оси x будут дни, по которым у нас есть данные (date). Далее выберите верные утверждения:**\n",
    "\n",
    "* **Максимальное число товаров было продано 4 декабря**\n",
    "* 5 декабря было куплено почти в три раза меньше товаров, чем в предыдущий день\n",
    "* **8 и 9 декабря было продано примерно одинаковое число товаров**\n",
    "* Меньше всего продуктов было приобретено 4 декабря\n",
    "* **4 декабря было куплено почти в два раза больше товаров, чем в предыдущий день**\n",
    "* **Меньше всего товаров было приобретено 6 декабря**\n",
    "* 5 декабря было куплено почти в два раза больше товаров, чем в предыдущий день\n",
    "* 7 декабря было куплено почти в два раза больше товаров, чем в предыдущий день"
   ]
  },
  {
   "cell_type": "code",
   "execution_count": 27,
   "id": "93b1c123",
   "metadata": {},
   "outputs": [
    {
     "data": {
      "image/png": "[encoded data removed]",
      "text/plain": [
       "<Figure size 1224x360 with 1 Axes>"
      ]
     },
     "metadata": {},
     "output_type": "display_data"
    }
   ],
   "source": [
    "quantity_by_date = df.groupby('date', as_index=False) \\\n",
    "                     .agg({'quantity' : 'sum'}) \\\n",
    "                     .sort_values('quantity', ascending=False) \n",
    "fig, ax = plt.subplots(figsize=(17,5))\n",
    "ax = sns.barplot(x='date', y='quantity',order=['2020-12-03',\n",
    "                                               '2020-12-04', \n",
    "                                               '2020-12-05', \n",
    "                                               '2020-12-06', \n",
    "                                               '2020-12-07', \n",
    "                                               '2020-12-08', \n",
    "                                               '2020-12-09'], \n",
    "                 data=quantity_by_date)\n",
    "sns.set(rc = {'figure.figsize':(16,8)})"
   ]
  },
  {
   "cell_type": "markdown",
   "id": "f5df7a15",
   "metadata": {},
   "source": [
    "**5. 💀 Сложное задание! 💀**\n",
    "\n",
    "**Сколько пользователей приобрели какой-либо товар повторно (более 1 раза)? Повтором будем считать покупку товара с одинаковым product_id, совершенную в разные дни.**\n",
    "\n",
    "**Например, пользователь Sasha Tsarev дважды приобрел товар 6. Поскольку покупка была совершена в один и тот же день, повторной в данном случае она считаться не будет. Katya Skriptsova также сделал две покупки товара 7, но в разные дни, поэтому этот случай засчитывается.**\n",
    "    \n",
    "\n",
    "product_id quantity name              date\n",
    "\n",
    "25         2        Katya Skriptsova  2020-12-05\n",
    "\n",
    "54         1        Olya Silyutina    2020-12-05\n",
    "\n",
    "7          4        Katya Skriptsova  2020-12-05\n",
    "\n",
    "6          4        Sasha Tsarev      2020-12-06\n",
    "\n",
    "6          1        Sasha Tsarev      2020-12-06\n",
    "\n",
    "7          5        Katya Skriptsova  2020-12-06 \n",
    "\n",
    "Может пригодиться: **.drop_duplicates()**"
   ]
  },
  {
   "cell_type": "code",
   "execution_count": 29,
   "id": "9242e5b2",
   "metadata": {},
   "outputs": [
    {
     "data": {
      "text/plain": [
       "name            product_id\n",
       "Anton_Ivanov    15            2\n",
       "Petr_Fedorov    94            2\n",
       "Alexey_Fedorov  13            1\n",
       "Petr_Smirnov    21            1\n",
       "Petr_Petrov     64            1\n",
       "                             ..\n",
       "Anton_Smirnov   28            1\n",
       "                33            1\n",
       "                34            1\n",
       "                40            1\n",
       "Vasiliy_Petrov  78            1\n",
       "Name: date, Length: 158, dtype: int64"
      ]
     },
     "execution_count": 29,
     "metadata": {},
     "output_type": "execute_result"
    }
   ],
   "source": [
    "same_product = df.groupby(['name', 'product_id']).date.nunique().sort_values(ascending=False)\n",
    "same_product"
   ]
  },
  {
   "cell_type": "code",
   "execution_count": 30,
   "id": "ead59db3",
   "metadata": {},
   "outputs": [
    {
     "data": {
      "text/plain": [
       "name          product_id\n",
       "Anton_Ivanov  15            2\n",
       "Petr_Fedorov  94            2\n",
       "Name: date, dtype: int64"
      ]
     },
     "execution_count": 30,
     "metadata": {},
     "output_type": "execute_result"
    }
   ],
   "source": [
    "same_product.loc[same_product > 1]"
   ]
  },
  {
   "cell_type": "markdown",
   "id": "d7013c9a",
   "metadata": {},
   "source": [
    "Ответ: 2"
   ]
  }
 ],
 "metadata": {
  "kernelspec": {
   "display_name": "Python 3 (ipykernel)",
   "language": "python",
   "name": "python3"
  },
  "language_info": {
   "codemirror_mode": {
    "name": "ipython",
    "version": 3
   },
   "file_extension": ".py",
   "mimetype": "text/x-python",
   "name": "python",
   "nbconvert_exporter": "python",
   "pygments_lexer": "ipython3",
   "version": "3.10.4"
  }
 },
 "nbformat": 4,
 "nbformat_minor": 5
}
