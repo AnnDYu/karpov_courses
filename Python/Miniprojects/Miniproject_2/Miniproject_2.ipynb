{
 "cells": [
  {
   "cell_type": "markdown",
   "id": "2c5ed742",
   "metadata": {},
   "source": [
    "## Задачи\n",
    "1. Импортируйте библиотеку pandas как pd. Загрузите два датасета user_data и logs. Проверьте размер таблицы, типы переменных, наличие пропущенных значений, описательную статистику.\n",
    "2. Какой клиент совершил больше всего успешных операций? (success == True)\n",
    "3. С какой платформы осуществляется наибольшее количество успешных операций?\n",
    "4. Какую платформу предпочитают премиумные клиенты?\n",
    "5. Визуализируйте распределение возраста клиентов в зависимости от типа клиента (премиум или нет)\n",
    "6. Постройте график распределения числа успешных операций\n",
    "7. Визуализируйте число успешных операций, сделанных на платформе computer, в зависимости от возраста, используя **sns.countplot** (x – возраст, y – число успешных операций). Клиенты какого возраста совершили наибольшее количество успешных действий?\n",
    "      \n",
    "## Описание данных\n",
    "**user_data:**\n",
    "\n",
    "client – идентификатор пользователя\n",
    "\n",
    "premium – является ли клиент премиум\n",
    "\n",
    "age – возраст\n",
    "\n",
    "**logs:**\n",
    "\n",
    "client – идентификатор пользователя\n",
    "\n",
    "success – результат (успех - 1, нет - 0)\n",
    "\n",
    "platform – платформа\n",
    "\n",
    "time – время в формате Unix"
   ]
  },
  {
   "cell_type": "markdown",
   "id": "946e00a7",
   "metadata": {},
   "source": [
    "**1. Импортируйте библиотеку pandas как pd. Загрузите два датасета user_data и logs. Проверьте размер таблицы, типы переменных, посмотрите на описательную статистику.**\n",
    "\n",
    "**Вопрос:** Сколько уникальных значений принимает переменная platform?"
   ]
  },
  {
   "cell_type": "code",
   "execution_count": 1,
   "id": "dd7b2c1f",
   "metadata": {},
   "outputs": [],
   "source": [
    "import pandas as pd\n",
    "user_data = pd.read_csv('C:/Users/Александр/pj/karpov_courses/Python/Miniprojects/Miniproject_2/3_user_data.csv')\n",
    "logs = pd.read_csv('C:/Users/Александр/pj/karpov_courses/Python/Miniprojects/Miniproject_2/3_logs.csv')"
   ]
  },
  {
   "cell_type": "code",
   "execution_count": 2,
   "id": "78794a06",
   "metadata": {},
   "outputs": [
    {
     "name": "stdout",
     "output_type": "stream",
     "text": [
      "<class 'pandas.core.frame.DataFrame'>\n",
      "RangeIndex: 2954 entries, 0 to 2953\n",
      "Data columns (total 3 columns):\n",
      " #   Column   Non-Null Count  Dtype\n",
      "---  ------   --------------  -----\n",
      " 0   client   2954 non-null   int64\n",
      " 1   premium  2954 non-null   bool \n",
      " 2   age      2954 non-null   int64\n",
      "dtypes: bool(1), int64(2)\n",
      "memory usage: 49.2 KB\n"
     ]
    }
   ],
   "source": [
    "user_data.info()"
   ]
  },
  {
   "cell_type": "code",
   "execution_count": 5,
   "id": "97595dad",
   "metadata": {},
   "outputs": [
    {
     "name": "stdout",
     "output_type": "stream",
     "text": [
      "<class 'pandas.core.frame.DataFrame'>\n",
      "RangeIndex: 4500 entries, 0 to 4499\n",
      "Data columns (total 4 columns):\n",
      " #   Column    Non-Null Count  Dtype \n",
      "---  ------    --------------  ----- \n",
      " 0   client    4500 non-null   int64 \n",
      " 1   success   4500 non-null   bool  \n",
      " 2   platform  4500 non-null   object\n",
      " 3   time      4500 non-null   int64 \n",
      "dtypes: bool(1), int64(2), object(1)\n",
      "memory usage: 110.0+ KB\n"
     ]
    }
   ],
   "source": [
    "logs.info()"
   ]
  },
  {
   "cell_type": "code",
   "execution_count": 6,
   "id": "18f3ab2a",
   "metadata": {},
   "outputs": [
    {
     "data": {
      "text/plain": [
       "3"
      ]
     },
     "execution_count": 6,
     "metadata": {},
     "output_type": "execute_result"
    }
   ],
   "source": [
    "logs.platform.nunique()"
   ]
  },
  {
   "cell_type": "markdown",
   "id": "e42cc573",
   "metadata": {},
   "source": [
    "Ответ: 3"
   ]
  },
  {
   "cell_type": "markdown",
   "id": "aed17d14",
   "metadata": {},
   "source": [
    "**2. Какой клиент совершил больше всего успешных операций?**\n",
    "\n",
    "**Если несколько пользователей совершили одинаковое число успешных действий, перечислите их идентификаторы (client) через запятую и пробел в порядке возрастания. Например:**\n",
    "\n",
    "12, 123, 456"
   ]
  },
  {
   "cell_type": "code",
   "execution_count": 7,
   "id": "0f6bf7db",
   "metadata": {},
   "outputs": [
    {
     "data": {
      "text/plain": [
       "28719    41\n",
       "52870    41\n",
       "61468    41\n",
       "61473    41\n",
       "12179    41\n",
       "82563    41\n",
       "36165    41\n",
       "92584    41\n",
       "78349    41\n",
       "Name: client, dtype: int64"
      ]
     },
     "execution_count": 7,
     "metadata": {},
     "output_type": "execute_result"
    }
   ],
   "source": [
    "success_counts = logs.loc[logs.success == True].client.value_counts()\n",
    "max_num = success_counts.max()\n",
    "max_success_users = success_counts.loc[success_counts == max_num]\n",
    "max_success_users"
   ]
  },
  {
   "cell_type": "code",
   "execution_count": 8,
   "id": "2b57a782",
   "metadata": {},
   "outputs": [
    {
     "data": {
      "text/plain": [
       "Int64Index([12179, 28719, 36165, 52870, 61468, 61473, 78349, 82563, 92584], dtype='int64')"
      ]
     },
     "execution_count": 8,
     "metadata": {},
     "output_type": "execute_result"
    }
   ],
   "source": [
    "max_success_users.index.sort_values()"
   ]
  },
  {
   "cell_type": "markdown",
   "id": "c7ed0682",
   "metadata": {},
   "source": [
    "Ответ: 12179, 28719, 36165, 52870, 61468, 61473, 78349, 82563, 92584"
   ]
  },
  {
   "cell_type": "markdown",
   "id": "c12f6368",
   "metadata": {},
   "source": [
    "**3. С какой платформы осуществляется наибольшее количество успешных операций?**"
   ]
  },
  {
   "cell_type": "code",
   "execution_count": 9,
   "id": "963e9c71",
   "metadata": {},
   "outputs": [
    {
     "data": {
      "text/plain": [
       "'phone'"
      ]
     },
     "execution_count": 9,
     "metadata": {},
     "output_type": "execute_result"
    }
   ],
   "source": [
    "logs.loc[logs.success == True].platform.value_counts().idxmax()"
   ]
  },
  {
   "cell_type": "markdown",
   "id": "a9b4bd59",
   "metadata": {},
   "source": [
    "* Computer\n",
    "* Web\n",
    "* **Phone**\n",
    "* Tablet"
   ]
  },
  {
   "cell_type": "markdown",
   "id": "5651f959",
   "metadata": {},
   "source": [
    "**4. Какая платформа наиболее популярна среди премиумных клиентов?**"
   ]
  },
  {
   "cell_type": "code",
   "execution_count": 10,
   "id": "a35a0b23",
   "metadata": {},
   "outputs": [
    {
     "data": {
      "text/plain": [
       "'phone'"
      ]
     },
     "execution_count": 10,
     "metadata": {},
     "output_type": "execute_result"
    }
   ],
   "source": [
    "premium_logs = logs.merge(user_data, on='client')\n",
    "premium_logs.loc[premium_logs.premium == True].platform.value_counts().idxmax()"
   ]
  },
  {
   "cell_type": "markdown",
   "id": "fe65772d",
   "metadata": {},
   "source": [
    "* Tablet\n",
    "* **Phone**\n",
    "* Web\n",
    "* Computer"
   ]
  },
  {
   "cell_type": "markdown",
   "id": "ae78d27d",
   "metadata": {},
   "source": [
    "**5. Визуализируйте распределение возраста клиентов в зависимости от типа клиента (премиум или нет), используя библиотеку seaborn с параметрами цвета по умолчанию. Какой график получится в результате?**\n",
    "\n",
    "**Используйте датасэт, который вы получили на предыдущем шаге**\n",
    "\n",
    "![](https://ucarecdn.com/6312cd54-c828-4712-a002-b0a895159f61/)"
   ]
  },
  {
   "cell_type": "code",
   "execution_count": 12,
   "id": "598b9adf",
   "metadata": {},
   "outputs": [
    {
     "data": {
      "image/png": "[encoded data removed]",
      "text/plain": [
       "<Figure size 421.25x360 with 1 Axes>"
      ]
     },
     "metadata": {
      "needs_background": "light"
     },
     "output_type": "display_data"
    }
   ],
   "source": [
    "import seaborn as sns\n",
    "sns.displot(data=premium_logs, x='age', \n",
    "            hue='premium', \n",
    "            kde=True, \n",
    "            kind='hist', \n",
    "            stat='density', \n",
    "            common_norm=False, \n",
    "            bins=14)\n",
    "sns.despine()"
   ]
  },
  {
   "cell_type": "markdown",
   "id": "0a2f2365",
   "metadata": {},
   "source": [
    "* A\n",
    "* **B**\n",
    "* C\n",
    "* D"
   ]
  },
  {
   "cell_type": "markdown",
   "id": "afbde99c",
   "metadata": {},
   "source": [
    "**6. Постройте график распределения числа успешных операций:**\n",
    "\n",
    "x – число успешных операций\n",
    "\n",
    "y – число клиентов, совершивших столько успешных операций"
   ]
  },
  {
   "cell_type": "code",
   "execution_count": 17,
   "id": "86ed0e62",
   "metadata": {},
   "outputs": [
    {
     "data": {
      "text/plain": [
       "28719    41\n",
       "52870    41\n",
       "61468    41\n",
       "61473    41\n",
       "12179    41\n",
       "         ..\n",
       "70028     1\n",
       "37123     1\n",
       "73522     1\n",
       "38359     1\n",
       "40921     1\n",
       "Name: successes, Length: 2845, dtype: int64"
      ]
     },
     "execution_count": 17,
     "metadata": {},
     "output_type": "execute_result"
    }
   ],
   "source": [
    "success_count = logs.loc[logs.success == True].client.value_counts()\n",
    "success_count = success_count.rename('successes')\n",
    "success_count"
   ]
  },
  {
   "cell_type": "code",
   "execution_count": 18,
   "id": "75d5cf3c",
   "metadata": {},
   "outputs": [
    {
     "data": {
      "image/png": "[encoded data removed]",
      "text/plain": [
       "<Figure size 432x288 with 1 Axes>"
      ]
     },
     "metadata": {
      "needs_background": "light"
     },
     "output_type": "display_data"
    }
   ],
   "source": [
    "sns.countplot(x=success_count)\n",
    "sns.despine()"
   ]
  },
  {
   "cell_type": "markdown",
   "id": "5e799afc",
   "metadata": {},
   "source": [
    "* **Несколько клиентов совершили более 40 успешных действий**\n",
    "* Все клиенты совершили не более 5 успешных операций\n",
    "* Бóльшая часть наблюдений сосредоточена в правой части графика\n",
    "* **Бóльшая часть наблюдений сосредоточена в левой части графика**"
   ]
  },
  {
   "cell_type": "markdown",
   "id": "a00f98b7",
   "metadata": {},
   "source": [
    "**7. ⭐️Задание со звёздочкой!⭐️**\n",
    "\n",
    "**Визуализируйте число успешных операций, сделанных на платформе computer, в зависимости от возраста, используя sns.countplot. По оси x – возраст, y – число успешных операций. Если размер графика получается небольшим, можно добавить plt.figure(figsize=(12, 8)) в начало соответствующей ячейки.**\n",
    "\n",
    "Полезные ссылки:\n",
    "\n",
    "[sns.countplot](https://seaborn.pydata.org/generated/seaborn.countplot.html) – документация к типу графика\n",
    "\n",
    "[figsize](https://lab.karpov.courses/learning/88/module/1103/lesson/9728/28498/133083/) – про размер графиков\n",
    "\n",
    "**Вопрос**: Клиенты какого возраста совершили наибольшее количество успешных действий?"
   ]
  },
  {
   "cell_type": "code",
   "execution_count": 20,
   "id": "b0896d85",
   "metadata": {},
   "outputs": [
    {
     "data": {
      "image/png": "[encoded data removed]",
      "text/plain": [
       "<Figure size 864x576 with 1 Axes>"
      ]
     },
     "metadata": {
      "needs_background": "light"
     },
     "output_type": "display_data"
    }
   ],
   "source": [
    "import matplotlib.pyplot as plt\n",
    "plt.figure(figsize=(12,8))\n",
    "sns.countplot(data=premium_logs.loc[(premium_logs.platform == 'computer')\n",
    "                                   & (premium_logs.success == True)], \n",
    "             x='age')\n",
    "sns.despine()"
   ]
  },
  {
   "cell_type": "markdown",
   "id": "2a1aa50c",
   "metadata": {},
   "source": [
    "Ответ: 28"
   ]
  },
  {
   "cell_type": "code",
   "execution_count": null,
   "id": "1b6449f7",
   "metadata": {},
   "outputs": [],
   "source": []
  }
 ],
 "metadata": {
  "kernelspec": {
   "display_name": "Python 3 (ipykernel)",
   "language": "python",
   "name": "python3"
  },
  "language_info": {
   "codemirror_mode": {
    "name": "ipython",
    "version": 3
   },
   "file_extension": ".py",
   "mimetype": "text/x-python",
   "name": "python",
   "nbconvert_exporter": "python",
   "pygments_lexer": "ipython3",
   "version": "3.10.4"
  }
 },
 "nbformat": 4,
 "nbformat_minor": 5
}
