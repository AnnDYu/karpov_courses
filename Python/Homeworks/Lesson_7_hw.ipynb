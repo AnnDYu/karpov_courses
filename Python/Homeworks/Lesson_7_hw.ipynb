{
 "cells": [
  {
   "cell_type": "markdown",
   "id": "600c8afe",
   "metadata": {},
   "source": [
    "# Домашнее задание седьмого урока."
   ]
  },
  {
   "cell_type": "markdown",
   "id": "453d5aa9",
   "metadata": {},
   "source": [
    "**Задание 1 ⭐️**\n",
    "**Считайте данные из Google Sheets, которые находятся по этой ссылке при помощи библиотеки requests. Посчитайте процент мужчин среди всех посетителей сайта, округлите ответ до целых.**\n",
    "\n",
    "Воспользуйтесь этим кодом, чтобы перевести данные из реквеста в пандас:\n",
    "\n",
    "from io import BytesIO\n",
    "\n",
    "import requests\n",
    "\n",
    "\n",
    "req = requests.get(your_link)\n",
    "\n",
    "data = req.content\n",
    "\n",
    "df = pd.read_csv(BytesIO(data))"
   ]
  },
  {
   "cell_type": "code",
   "execution_count": 11,
   "id": "52b70337",
   "metadata": {},
   "outputs": [
    {
     "data": {
      "text/html": [
       "<div>\n",
       "<style scoped>\n",
       "    .dataframe tbody tr th:only-of-type {\n",
       "        vertical-align: middle;\n",
       "    }\n",
       "\n",
       "    .dataframe tbody tr th {\n",
       "        vertical-align: top;\n",
       "    }\n",
       "\n",
       "    .dataframe thead th {\n",
       "        text-align: right;\n",
       "    }\n",
       "</style>\n",
       "<table border=\"1\" class=\"dataframe\">\n",
       "  <thead>\n",
       "    <tr style=\"text-align: right;\">\n",
       "      <th></th>\n",
       "      <th>date</th>\n",
       "      <th>gender</th>\n",
       "      <th>users</th>\n",
       "    </tr>\n",
       "  </thead>\n",
       "  <tbody>\n",
       "    <tr>\n",
       "      <th>0</th>\n",
       "      <td>2020-06-14</td>\n",
       "      <td>Not specified</td>\n",
       "      <td>150</td>\n",
       "    </tr>\n",
       "    <tr>\n",
       "      <th>1</th>\n",
       "      <td>2020-06-14</td>\n",
       "      <td>male</td>\n",
       "      <td>117</td>\n",
       "    </tr>\n",
       "    <tr>\n",
       "      <th>2</th>\n",
       "      <td>2020-06-14</td>\n",
       "      <td>female</td>\n",
       "      <td>21</td>\n",
       "    </tr>\n",
       "  </tbody>\n",
       "</table>\n",
       "</div>"
      ],
      "text/plain": [
       "         date         gender  users\n",
       "0  2020-06-14  Not specified    150\n",
       "1  2020-06-14           male    117\n",
       "2  2020-06-14         female     21"
      ]
     },
     "execution_count": 11,
     "metadata": {},
     "output_type": "execute_result"
    }
   ],
   "source": [
    "from io import BytesIO\n",
    "import requests\n",
    "import pandas as pd\n",
    "import numpy as np\n",
    "\n",
    "link = 'https://docs.google.com/spreadsheets/d/1e3PRXmMNXo9AZZnaol1aHgYxtH6KYaCDymEQlK6jaO8/export?format=csv'\n",
    "req = requests.get(link)\n",
    "data = req.content\n",
    "\n",
    "df = pd.read_csv(BytesIO(data))\n",
    "df"
   ]
  },
  {
   "cell_type": "code",
   "execution_count": 12,
   "id": "cc90e4b5",
   "metadata": {},
   "outputs": [
    {
     "data": {
      "text/html": [
       "<div>\n",
       "<style scoped>\n",
       "    .dataframe tbody tr th:only-of-type {\n",
       "        vertical-align: middle;\n",
       "    }\n",
       "\n",
       "    .dataframe tbody tr th {\n",
       "        vertical-align: top;\n",
       "    }\n",
       "\n",
       "    .dataframe thead th {\n",
       "        text-align: right;\n",
       "    }\n",
       "</style>\n",
       "<table border=\"1\" class=\"dataframe\">\n",
       "  <thead>\n",
       "    <tr style=\"text-align: right;\">\n",
       "      <th></th>\n",
       "      <th>date</th>\n",
       "      <th>gender</th>\n",
       "      <th>users</th>\n",
       "      <th>percent</th>\n",
       "    </tr>\n",
       "  </thead>\n",
       "  <tbody>\n",
       "    <tr>\n",
       "      <th>0</th>\n",
       "      <td>2020-06-14</td>\n",
       "      <td>Not specified</td>\n",
       "      <td>150</td>\n",
       "      <td>52.0</td>\n",
       "    </tr>\n",
       "    <tr>\n",
       "      <th>1</th>\n",
       "      <td>2020-06-14</td>\n",
       "      <td>male</td>\n",
       "      <td>117</td>\n",
       "      <td>41.0</td>\n",
       "    </tr>\n",
       "    <tr>\n",
       "      <th>2</th>\n",
       "      <td>2020-06-14</td>\n",
       "      <td>female</td>\n",
       "      <td>21</td>\n",
       "      <td>7.0</td>\n",
       "    </tr>\n",
       "  </tbody>\n",
       "</table>\n",
       "</div>"
      ],
      "text/plain": [
       "         date         gender  users  percent\n",
       "0  2020-06-14  Not specified    150     52.0\n",
       "1  2020-06-14           male    117     41.0\n",
       "2  2020-06-14         female     21      7.0"
      ]
     },
     "execution_count": 12,
     "metadata": {},
     "output_type": "execute_result"
    }
   ],
   "source": [
    "df['percent'] = (df.users / df.users.sum() * 100).round(0)\n",
    "df"
   ]
  },
  {
   "cell_type": "markdown",
   "id": "d9f07afd",
   "metadata": {},
   "source": [
    "**2. Скачайте файл с данными посещаемости сайта Яндекс.Метрика отсюда (сохранен в переменную df). При помощи функции np.where создайте серию, в которую будет записываться 1, если посещения были сделаны роботами с браузера, содержащего Chrome в названии, и 0 в других случаях. Поместите получившуюся серию в переменную chrome_robots.**\n",
    "\n",
    "Может понадобиться:\n",
    "\n",
    "* str.contains()"
   ]
  },
  {
   "cell_type": "code",
   "execution_count": 18,
   "id": "3cef5f29",
   "metadata": {},
   "outputs": [
    {
     "data": {
      "text/html": [
       "<div>\n",
       "<style scoped>\n",
       "    .dataframe tbody tr th:only-of-type {\n",
       "        vertical-align: middle;\n",
       "    }\n",
       "\n",
       "    .dataframe tbody tr th {\n",
       "        vertical-align: top;\n",
       "    }\n",
       "\n",
       "    .dataframe thead th {\n",
       "        text-align: right;\n",
       "    }\n",
       "</style>\n",
       "<table border=\"1\" class=\"dataframe\">\n",
       "  <thead>\n",
       "    <tr style=\"text-align: right;\">\n",
       "      <th></th>\n",
       "      <th>date</th>\n",
       "      <th>browser</th>\n",
       "      <th>user_type</th>\n",
       "      <th>users</th>\n",
       "    </tr>\n",
       "  </thead>\n",
       "  <tbody>\n",
       "    <tr>\n",
       "      <th>0</th>\n",
       "      <td>2020-06-14</td>\n",
       "      <td>Google Chrome</td>\n",
       "      <td>People</td>\n",
       "      <td>139</td>\n",
       "    </tr>\n",
       "    <tr>\n",
       "      <th>1</th>\n",
       "      <td>2020-06-14</td>\n",
       "      <td>Chrome Mobile</td>\n",
       "      <td>People</td>\n",
       "      <td>35</td>\n",
       "    </tr>\n",
       "    <tr>\n",
       "      <th>2</th>\n",
       "      <td>2020-06-14</td>\n",
       "      <td>Google Chrome</td>\n",
       "      <td>Robots</td>\n",
       "      <td>28</td>\n",
       "    </tr>\n",
       "    <tr>\n",
       "      <th>3</th>\n",
       "      <td>2020-06-14</td>\n",
       "      <td>Yandex Browser</td>\n",
       "      <td>People</td>\n",
       "      <td>22</td>\n",
       "    </tr>\n",
       "    <tr>\n",
       "      <th>4</th>\n",
       "      <td>2020-06-14</td>\n",
       "      <td>Firefox</td>\n",
       "      <td>People</td>\n",
       "      <td>15</td>\n",
       "    </tr>\n",
       "  </tbody>\n",
       "</table>\n",
       "</div>"
      ],
      "text/plain": [
       "         date         browser user_type  users\n",
       "0  2020-06-14   Google Chrome    People    139\n",
       "1  2020-06-14   Chrome Mobile    People     35\n",
       "2  2020-06-14   Google Chrome    Robots     28\n",
       "3  2020-06-14  Yandex Browser    People     22\n",
       "4  2020-06-14         Firefox    People     15"
      ]
     },
     "execution_count": 18,
     "metadata": {},
     "output_type": "execute_result"
    }
   ],
   "source": [
    "df_2 = pd.read_csv('C:/Users/Александр/pj/karpov_courses/Python/Homeworks/Datasets/7_browser.csv')\n",
    "df_2.head()"
   ]
  },
  {
   "cell_type": "code",
   "execution_count": 19,
   "id": "5e1a7df2",
   "metadata": {},
   "outputs": [
    {
     "data": {
      "text/plain": [
       "0     0\n",
       "1     0\n",
       "2     1\n",
       "3     0\n",
       "4     0\n",
       "5     0\n",
       "6     0\n",
       "7     0\n",
       "8     0\n",
       "9     0\n",
       "10    0\n",
       "11    0\n",
       "12    0\n",
       "13    0\n",
       "14    0\n",
       "15    0\n",
       "16    0\n",
       "17    0\n",
       "18    0\n",
       "19    1\n",
       "20    0\n",
       "21    0\n",
       "22    0\n",
       "23    0\n",
       "dtype: int32"
      ]
     },
     "execution_count": 19,
     "metadata": {},
     "output_type": "execute_result"
    }
   ],
   "source": [
    "chrome_robots = pd.Series(np.where((df_2.browser.str.contains('Chrome')) & (df_2.user_type == 'Robots'), 1, 0))\n",
    "chrome_robots"
   ]
  },
  {
   "cell_type": "markdown",
   "id": "d369b52e",
   "metadata": {},
   "source": [
    "**3. ⭐️Задание со звёздочкой!⭐️**\n",
    "\n",
    "**У вас есть датасет с данными о кликах и показах по объявлению, в котором есть пропуски. Вычислите количество строк без пропусков в колонке click_type. Запишите ответ в переменную not_nan_count**\n",
    "\n",
    "* ad_id – id объявления\n",
    "* user_id – id пользователя\n",
    "* click_type – тип клика (клик по заголовку объявления, клик по центру)"
   ]
  },
  {
   "cell_type": "code",
   "execution_count": 21,
   "id": "7a6e5712",
   "metadata": {},
   "outputs": [
    {
     "data": {
      "text/html": [
       "<div>\n",
       "<style scoped>\n",
       "    .dataframe tbody tr th:only-of-type {\n",
       "        vertical-align: middle;\n",
       "    }\n",
       "\n",
       "    .dataframe tbody tr th {\n",
       "        vertical-align: top;\n",
       "    }\n",
       "\n",
       "    .dataframe thead th {\n",
       "        text-align: right;\n",
       "    }\n",
       "</style>\n",
       "<table border=\"1\" class=\"dataframe\">\n",
       "  <thead>\n",
       "    <tr style=\"text-align: right;\">\n",
       "      <th></th>\n",
       "      <th>ad_id</th>\n",
       "      <th>user_id</th>\n",
       "      <th>click_type</th>\n",
       "    </tr>\n",
       "  </thead>\n",
       "  <tbody>\n",
       "    <tr>\n",
       "      <th>0</th>\n",
       "      <td>12345</td>\n",
       "      <td>qwert</td>\n",
       "      <td>top</td>\n",
       "    </tr>\n",
       "    <tr>\n",
       "      <th>1</th>\n",
       "      <td>12345</td>\n",
       "      <td>fsssc</td>\n",
       "      <td>center</td>\n",
       "    </tr>\n",
       "    <tr>\n",
       "      <th>2</th>\n",
       "      <td>12345</td>\n",
       "      <td>vfvgg</td>\n",
       "      <td>NaN</td>\n",
       "    </tr>\n",
       "    <tr>\n",
       "      <th>3</th>\n",
       "      <td>12345</td>\n",
       "      <td>asrvv</td>\n",
       "      <td>NaN</td>\n",
       "    </tr>\n",
       "    <tr>\n",
       "      <th>4</th>\n",
       "      <td>12345</td>\n",
       "      <td>tynuy</td>\n",
       "      <td>top</td>\n",
       "    </tr>\n",
       "  </tbody>\n",
       "</table>\n",
       "</div>"
      ],
      "text/plain": [
       "   ad_id user_id click_type\n",
       "0  12345   qwert        top\n",
       "1  12345   fsssc     center\n",
       "2  12345   vfvgg        NaN\n",
       "3  12345   asrvv        NaN\n",
       "4  12345   tynuy        top"
      ]
     },
     "execution_count": 21,
     "metadata": {},
     "output_type": "execute_result"
    }
   ],
   "source": [
    "df_3 = pd.read_csv('C:/Users/Александр/pj/karpov_courses/Python/Homeworks/Datasets/sample_ads.csv')\n",
    "df_3.head()"
   ]
  },
  {
   "cell_type": "code",
   "execution_count": 23,
   "id": "071c5f2e",
   "metadata": {},
   "outputs": [
    {
     "data": {
      "text/plain": [
       "11"
      ]
     },
     "execution_count": 23,
     "metadata": {},
     "output_type": "execute_result"
    }
   ],
   "source": [
    "not_nan_count = df_3.click_type.notna().sum()\n",
    "not_nan_count"
   ]
  },
  {
   "cell_type": "markdown",
   "id": "0f9cee39",
   "metadata": {},
   "source": [
    "**4. ⭐️Задание со звёздочкой!⭐️**\n",
    "\n",
    "**В списке lst находятся различные элементы. Создайте список new_list и сделайте следующее:**\n",
    "\n",
    "* при помощи конструкции try except и цикла попробуйте преобразовать каждое значение в листе в int\n",
    "* если это получилось – добавьте преобразованное значение  в список new_list"
   ]
  },
  {
   "cell_type": "code",
   "execution_count": 24,
   "id": "d0856936",
   "metadata": {},
   "outputs": [],
   "source": [
    "lst = [1, 'lol', '88005553535', '42.0', 295, -0.5, 0, None]"
   ]
  },
  {
   "cell_type": "code",
   "execution_count": 25,
   "id": "86069914",
   "metadata": {},
   "outputs": [
    {
     "data": {
      "text/plain": [
       "[1, 88005553535, 295, 0, 0]"
      ]
     },
     "execution_count": 25,
     "metadata": {},
     "output_type": "execute_result"
    }
   ],
   "source": [
    "new_list = []\n",
    "for item in lst:\n",
    "    try:\n",
    "        int_item = int(item)\n",
    "        new_list.append(int_item)\n",
    "    except:\n",
    "        pass\n",
    "new_list"
   ]
  },
  {
   "cell_type": "markdown",
   "id": "9f2645b3",
   "metadata": {},
   "source": [
    "**5. ⭐️Задание со звёздочкой! ⭐️**\n",
    "\n",
    "**А теперь попробуем воспользоваться знаниями использования Telegram API. Отправьте себе в личку любое послание, а в ответ к этому шагу напишите ник бота, от имени которого будете отправлять сообщения.**"
   ]
  },
  {
   "cell_type": "code",
   "execution_count": 61,
   "id": "3f16c5ce",
   "metadata": {},
   "outputs": [],
   "source": [
    "token = '...'"
   ]
  },
  {
   "cell_type": "code",
   "execution_count": 62,
   "id": "2fb11ede",
   "metadata": {},
   "outputs": [],
   "source": [
    "api_pattern = f'https://api.telegram.org/bot{token}'"
   ]
  },
  {
   "cell_type": "code",
   "execution_count": 63,
   "id": "fdbba61a",
   "metadata": {},
   "outputs": [],
   "source": [
    "update = f'{api_pattern}/getUpdates'"
   ]
  },
  {
   "cell_type": "code",
   "execution_count": 64,
   "id": "d42350c3",
   "metadata": {},
   "outputs": [],
   "source": [
    "info = requests.get(update)"
   ]
  },
  {
   "cell_type": "code",
   "execution_count": 65,
   "id": "6324c8d2",
   "metadata": {},
   "outputs": [
    {
     "data": {
      "text/plain": [
       "200"
      ]
     },
     "execution_count": 65,
     "metadata": {},
     "output_type": "execute_result"
    }
   ],
   "source": [
    "info.status_code"
   ]
  },
  {
   "cell_type": "code",
   "execution_count": 74,
   "id": "75fc2428",
   "metadata": {},
   "outputs": [
    {
     "data": {
      "text/plain": [
       "{'ok': True, 'result': []}"
      ]
     },
     "execution_count": 74,
     "metadata": {},
     "output_type": "execute_result"
    }
   ],
   "source": [
    "info.json()"
   ]
  },
  {
   "cell_type": "code",
   "execution_count": 69,
   "id": "04f87a3f",
   "metadata": {},
   "outputs": [],
   "source": [
    "chat_id = 377587540"
   ]
  },
  {
   "cell_type": "code",
   "execution_count": 70,
   "id": "09ec7601",
   "metadata": {},
   "outputs": [],
   "source": [
    "send_message = f'{api_pattern}/sendMessage'"
   ]
  },
  {
   "cell_type": "code",
   "execution_count": 71,
   "id": "c7e9be2d",
   "metadata": {},
   "outputs": [],
   "source": [
    "params = {'chat_id' : chat_id, 'text' : 'Привет'}"
   ]
  },
  {
   "cell_type": "code",
   "execution_count": 72,
   "id": "ac06a518",
   "metadata": {},
   "outputs": [],
   "source": [
    "response = requests.get(send_message, params=params)"
   ]
  },
  {
   "cell_type": "code",
   "execution_count": 73,
   "id": "0f624c0a",
   "metadata": {},
   "outputs": [
    {
     "data": {
      "text/plain": [
       "'{\"ok\":true,\"result\":{\"message_id\":5,\"from\":{\"id\":5409003743,\"is_bot\":true,\"first_name\":\"Karpov.Courses.test\",\"username\":\"api_kc_bot\"},\"chat\":{\"id\":377587540,\"first_name\":\"\\\\u0410\\\\u043b\\\\u0435\\\\u043a\\\\u0441\\\\u0430\\\\u043d\\\\u0434\\\\u0440\",\"username\":\"alexander_rodikov\",\"type\":\"private\"},\"date\":1656620628,\"text\":\"\\\\u041f\\\\u0440\\\\u0438\\\\u0432\\\\u0435\\\\u0442\"}}'"
      ]
     },
     "execution_count": 73,
     "metadata": {},
     "output_type": "execute_result"
    }
   ],
   "source": [
    "response.text"
   ]
  }
 ],
 "metadata": {
  "kernelspec": {
   "display_name": "Python 3 (ipykernel)",
   "language": "python",
   "name": "python3"
  },
  "language_info": {
   "codemirror_mode": {
    "name": "ipython",
    "version": 3
   },
   "file_extension": ".py",
   "mimetype": "text/x-python",
   "name": "python",
   "nbconvert_exporter": "python",
   "pygments_lexer": "ipython3",
   "version": "3.10.4"
  }
 },
 "nbformat": 4,
 "nbformat_minor": 5
}
