{
 "cells": [
  {
   "cell_type": "markdown",
   "id": "1f701a96",
   "metadata": {},
   "source": [
    "# Домашнее задание второго урока.\n",
    "\n",
    "Продолжим решать задачки по теории вероятностей. В этом степе попрактикуемся в решении задач по формуле Бернулли.\n",
    "\n",
    "Чтобы подсчитать задачу через Python, вам может пригодиться следующее:\n",
    "```python\n",
    "from scipy import special #модуль питона, предназначенный для научных и инженерных расчетов\n",
    "special.comb(n, k) #биномиальный коэффициент\n",
    "\n",
    "#альтернативный вариант\n",
    "from math import factorial\n",
    "\n",
    "def num_of_successes(n, k):\n",
    "    return factorial(n)/(factorial(k) * factorial(n - k))\n",
    "```    \n",
    "    \n",
    "**1. Задание 1**\n",
    "\n",
    "**Устройство, состоящее из пяти независимо работающих элементов, включается за время Т. Вероятность отказа каждого из них за это время равна 0,4. Найти вероятность того, что откажут три элемента. Ответ округлите до четырёх знаков после запятой. В качестве десятичного разделителя используйте точку.**"
   ]
  },
  {
   "cell_type": "code",
   "execution_count": 2,
   "id": "2c6c0d55",
   "metadata": {},
   "outputs": [],
   "source": [
    "from math import factorial"
   ]
  },
  {
   "cell_type": "code",
   "execution_count": 3,
   "id": "20588e57",
   "metadata": {},
   "outputs": [
    {
     "data": {
      "text/plain": [
       "0.23040000000000005"
      ]
     },
     "execution_count": 3,
     "metadata": {},
     "output_type": "execute_result"
    }
   ],
   "source": [
    "def num_of_successes(n, k):\n",
    "    p, q = 0.4, 0.6\n",
    "    P = factorial(n)/(factorial(k) * factorial(n - k))\n",
    "    return P * (p ** k) * (q ** (n - k))\n",
    "\n",
    "num_of_successes(n=5, k=3)"
   ]
  },
  {
   "cell_type": "markdown",
   "id": "d3b221e0",
   "metadata": {},
   "source": [
    "Ответ: `0.2304`\n",
    "\n",
    "**Задание 2**\n",
    "\n",
    "**Устройство, состоящее из пяти независимо работающих элементов, включается за время Т. Вероятность отказа каждого из них за это время равна 0,4. Найдите вероятность того, что хотя бы один элемент откажет. Ответ округлите до трёх знаков после запятой. В качестве десятичного разделителя используйте точку.**"
   ]
  },
  {
   "cell_type": "code",
   "execution_count": 4,
   "id": "b7ed2985",
   "metadata": {},
   "outputs": [
    {
     "data": {
      "text/plain": [
       "0.07775999999999998"
      ]
     },
     "execution_count": 4,
     "metadata": {},
     "output_type": "execute_result"
    }
   ],
   "source": [
    "#ни один элемент не откажет\n",
    "def no_breaks(n, k):\n",
    "    p, q = 0.4, 0.6\n",
    "    P = factorial(n)/(factorial(k) * factorial(n - k))\n",
    "    return P * (p ** k) * (q ** (n - k))\n",
    "\n",
    "no_breaks(n=5, k=0)\n",
    "\n"
   ]
  },
  {
   "cell_type": "markdown",
   "id": "cfc7fb98",
   "metadata": {},
   "source": [
    "=> 1 - 0.078 = `0.922` вероятность отказа одного элемента\n",
    "\n",
    "Ответ: `0.922`\n",
    "\n",
    "\n",
    "**Задание 3**\n",
    "\n",
    "**Производится 8 выстрелов по цели, в каждом из которых вероятность попадания равна 0,3. Найти вероятность того, что цель будет поражена хотя бы два раза. Ответ округлите до тысячных. В качестве десятичного разделителя используйте точку.**"
   ]
  },
  {
   "cell_type": "code",
   "execution_count": 5,
   "id": "8431fc0a",
   "metadata": {},
   "outputs": [
    {
     "data": {
      "text/plain": [
       "0.05764800999999997"
      ]
     },
     "execution_count": 5,
     "metadata": {},
     "output_type": "execute_result"
    }
   ],
   "source": [
    "def shots(n, k):\n",
    "    p, q = 0.3, 0.7\n",
    "    P = factorial(n)/(factorial(k) * factorial(n - k))\n",
    "    return P * (p ** k) * (q ** (n - k))\n",
    "\n",
    "# вероятность, что промахов не будет\n",
    "shots(n=8, k=0)"
   ]
  },
  {
   "cell_type": "code",
   "execution_count": 57,
   "id": "e07f4701",
   "metadata": {},
   "outputs": [
    {
     "data": {
      "text/plain": [
       "0.1976503199999999"
      ]
     },
     "execution_count": 57,
     "metadata": {},
     "output_type": "execute_result"
    }
   ],
   "source": [
    "# вероятность, что будет один промах:\n",
    "shots(n=8, k=1)"
   ]
  },
  {
   "cell_type": "code",
   "execution_count": 61,
   "id": "649271da",
   "metadata": {},
   "outputs": [
    {
     "name": "stdout",
     "output_type": "stream",
     "text": [
      "0.7447016700000001\n"
     ]
    }
   ],
   "source": [
    "# Сумма этих вероятностей противоположна вероятности события \"попали хотя бы два раза\". \n",
    "print(1 - (shots(n=8, k=0) + shots(n=8, k=1)))"
   ]
  },
  {
   "cell_type": "markdown",
   "id": "73078481",
   "metadata": {},
   "source": [
    "Ответ: `0.745`\n",
    "\n",
    "**Задание 4**\n",
    "\n",
    "**В магазине 7 покупателей. Каждый может совершить покупку с вероятностью 0,4. Найти вероятность того, что не более двух человек совершат покупку. Ответ округлите до сотых. В качестве десятичного разделителя используйте точку.**"
   ]
  },
  {
   "cell_type": "code",
   "execution_count": 67,
   "id": "e00491b5",
   "metadata": {},
   "outputs": [
    {
     "data": {
      "text/plain": [
       "0.027993599999999993"
      ]
     },
     "execution_count": 67,
     "metadata": {},
     "output_type": "execute_result"
    }
   ],
   "source": [
    "def buys(n, k):\n",
    "    p, q = 0.4, 0.6\n",
    "    P = factorial(n)/(factorial(k) * factorial(n - k))\n",
    "    return P * (p ** k) * (q ** (n - k))\n",
    "\n",
    "# вероятность, что никто не купит\n",
    "buys(n=7, k=0)"
   ]
  },
  {
   "cell_type": "code",
   "execution_count": 68,
   "id": "5ff2473b",
   "metadata": {},
   "outputs": [
    {
     "data": {
      "text/plain": [
       "0.13063679999999997"
      ]
     },
     "execution_count": 68,
     "metadata": {},
     "output_type": "execute_result"
    }
   ],
   "source": [
    "# вероятность, что кто-то один купит\n",
    "buys(n=7, k=1)"
   ]
  },
  {
   "cell_type": "code",
   "execution_count": 69,
   "id": "99f4f757",
   "metadata": {},
   "outputs": [
    {
     "data": {
      "text/plain": [
       "0.2612736"
      ]
     },
     "execution_count": 69,
     "metadata": {},
     "output_type": "execute_result"
    }
   ],
   "source": [
    "# вероятность, что двое купят\n",
    "buys(n=7, k=2)"
   ]
  },
  {
   "cell_type": "code",
   "execution_count": 70,
   "id": "58cc9bec",
   "metadata": {},
   "outputs": [
    {
     "name": "stdout",
     "output_type": "stream",
     "text": [
      "0.41990399999999994\n"
     ]
    }
   ],
   "source": [
    "print(buys(n=7, k=0) + buys(n=7, k=1) + buys(n=7, k=2))"
   ]
  },
  {
   "cell_type": "markdown",
   "id": "43f434d5",
   "metadata": {},
   "source": [
    "Ответ: `0.42`\n",
    "\n",
    "\n",
    "**Задание 5**\n",
    "\n",
    "**В телеателье имеется 7 телевизоров. Для каждого телевизора вероятность того, что в данный момент он включен, равна 0,5. Найти вероятность того, что в данный момент включены не менее трех телевизоров. Ответ округлите до тысячных. В качестве десятичного разделителя используйте точку.**"
   ]
  },
  {
   "cell_type": "code",
   "execution_count": 85,
   "id": "1a8e4532",
   "metadata": {},
   "outputs": [
    {
     "data": {
      "text/plain": [
       "0.0078125"
      ]
     },
     "execution_count": 85,
     "metadata": {},
     "output_type": "execute_result"
    }
   ],
   "source": [
    "def tv(n, k):\n",
    "    p, q = 0.5, 0.5\n",
    "    P = factorial(n)/(factorial(k) * factorial(n - k))\n",
    "    return P * (p ** k) * (q ** (n - k))\n",
    "\n",
    "# вероятность, что все телевизоры выключены\n",
    "tv(n=7, k=0)"
   ]
  },
  {
   "cell_type": "code",
   "execution_count": 86,
   "id": "98dcb3f9",
   "metadata": {},
   "outputs": [
    {
     "data": {
      "text/plain": [
       "0.0546875"
      ]
     },
     "execution_count": 86,
     "metadata": {},
     "output_type": "execute_result"
    }
   ],
   "source": [
    "# вероятность, что 1 включен\n",
    "tv(n=7, k=1)"
   ]
  },
  {
   "cell_type": "code",
   "execution_count": 87,
   "id": "789ad8b8",
   "metadata": {},
   "outputs": [
    {
     "data": {
      "text/plain": [
       "0.1640625"
      ]
     },
     "execution_count": 87,
     "metadata": {},
     "output_type": "execute_result"
    }
   ],
   "source": [
    "# вероятность, что 2 включены\n",
    "tv(n=7, k=2)"
   ]
  },
  {
   "cell_type": "code",
   "execution_count": 88,
   "id": "8bed0ea3",
   "metadata": {},
   "outputs": [
    {
     "name": "stdout",
     "output_type": "stream",
     "text": [
      "0.7734375\n"
     ]
    }
   ],
   "source": [
    "print(1 - (tv(n=7, k=0) + tv(n=7, k=6) + tv(n=7, k=5)))"
   ]
  },
  {
   "cell_type": "markdown",
   "id": "d253b603",
   "metadata": {},
   "source": [
    "Ответ: `0.773`\n",
    "\n",
    "**Задание 6**\n",
    "\n",
    "**Пусть вероятность того, что покупателю необходим компьютер с операционной системой Linux, равна 0.25. Найдите вероятность того, что из шести покупателей по крайней мере двум необходим компьютер с операционной системой Linux.**\n",
    "\n",
    "**Ответ округлите до сотых, в качестве разделителя используйте точку.**"
   ]
  },
  {
   "cell_type": "code",
   "execution_count": 44,
   "id": "f4c0e9e2",
   "metadata": {},
   "outputs": [
    {
     "data": {
      "text/plain": [
       "0.177978515625"
      ]
     },
     "execution_count": 44,
     "metadata": {},
     "output_type": "execute_result"
    }
   ],
   "source": [
    "def linux(n, k):\n",
    "    p, q = 0.25, 0.75\n",
    "    P = factorial(n)/(factorial(k) * factorial(n - k))\n",
    "    return P * (p ** k) * (q ** (n - k))\n",
    "\n",
    "# вероятность, что никому не нужен\n",
    "shots(n=6, k=0)"
   ]
  },
  {
   "cell_type": "code",
   "execution_count": 45,
   "id": "053e80c6",
   "metadata": {},
   "outputs": [
    {
     "data": {
      "text/plain": [
       "0.35595703125"
      ]
     },
     "execution_count": 45,
     "metadata": {},
     "output_type": "execute_result"
    }
   ],
   "source": [
    "# вероятность, что нужен одному\n",
    "linux(n=6, k=1)"
   ]
  },
  {
   "cell_type": "code",
   "execution_count": 46,
   "id": "ea30c4e9",
   "metadata": {},
   "outputs": [
    {
     "name": "stdout",
     "output_type": "stream",
     "text": [
      "0.466064453125\n"
     ]
    }
   ],
   "source": [
    "print(1 - (linux(n=6, k=0) + linux(n=6, k=1)))"
   ]
  },
  {
   "cell_type": "markdown",
   "id": "7bfb4fa3",
   "metadata": {},
   "source": [
    "Ответ: `0.47`\n",
    "\n",
    "\n",
    "**Задание 7**\n",
    "\n",
    "**Для нормальной работы отдела по дата-аналитике необходимо, чтобы в офисе было не менее восьми программистов, а всего в штате 10 программистов. Вероятность того, что программист заболеет, равна 0.1. Найдите вероятность нормальной работы отдела по дата-аналитике.**\n",
    "\n",
    "**Ответ округлите до сотых, а в качестве разделителя используйте точку.**"
   ]
  },
  {
   "cell_type": "code",
   "execution_count": 64,
   "id": "8b282829",
   "metadata": {},
   "outputs": [
    {
     "data": {
      "text/plain": [
       "0.3486784401000001"
      ]
     },
     "execution_count": 64,
     "metadata": {},
     "output_type": "execute_result"
    }
   ],
   "source": [
    "def analytics(n, k):\n",
    "    p, q = 0.1, 0.9\n",
    "    P = factorial(n)/(factorial(k) * factorial(n - k))\n",
    "    return P * (p ** k) * (q ** (n - k))\n",
    "\n",
    "# не болеет никто\n",
    "analytics(n=10, k=0)"
   ]
  },
  {
   "cell_type": "code",
   "execution_count": 65,
   "id": "fa844a06",
   "metadata": {},
   "outputs": [
    {
     "data": {
      "text/plain": [
       "0.3874204890000001"
      ]
     },
     "execution_count": 65,
     "metadata": {},
     "output_type": "execute_result"
    }
   ],
   "source": [
    "# болеет один\n",
    "analytics(n=10, k=1)"
   ]
  },
  {
   "cell_type": "code",
   "execution_count": 66,
   "id": "7eb4f939",
   "metadata": {},
   "outputs": [
    {
     "data": {
      "text/plain": [
       "0.19371024450000007"
      ]
     },
     "execution_count": 66,
     "metadata": {},
     "output_type": "execute_result"
    }
   ],
   "source": [
    "# не болеют двое\n",
    "analytics(n=10, k=2)"
   ]
  },
  {
   "cell_type": "code",
   "execution_count": 67,
   "id": "bdf67f52",
   "metadata": {},
   "outputs": [
    {
     "name": "stdout",
     "output_type": "stream",
     "text": [
      "0.9298091736000003\n"
     ]
    }
   ],
   "source": [
    "print(analytics(n=10, k=0) + analytics(n=10, k=1) + analytics(n=10, k=2))"
   ]
  },
  {
   "cell_type": "markdown",
   "id": "c93f66de",
   "metadata": {},
   "source": [
    "Ответ: `0.93`\n",
    "\n",
    "\n",
    "**Задание 8**\n",
    "\n",
    "**Среди всех скриптов, которые пишет программист, с 10%-ой вероятностью скрипт будет с ошибкой. Найдем вероятность того, что среди 30 скриптов два не будут работать.**\n",
    "\n",
    "**Ответ округлите до тысячных, в качестве десятичного разделителя используйте точку.**"
   ]
  },
  {
   "cell_type": "code",
   "execution_count": 69,
   "id": "64e9fe7d",
   "metadata": {},
   "outputs": [
    {
     "data": {
      "text/plain": [
       "0.22765622036690203"
      ]
     },
     "execution_count": 69,
     "metadata": {},
     "output_type": "execute_result"
    }
   ],
   "source": [
    "def script(n, k):\n",
    "    p, q = 0.1, 0.9\n",
    "    P = factorial(n)/(factorial(k) * factorial(n - k))\n",
    "    return P * (p ** k) * (q ** (n - k))\n",
    "\n",
    "script(n=30, k=2)"
   ]
  },
  {
   "cell_type": "markdown",
   "id": "75583111",
   "metadata": {},
   "source": [
    "Ответ: 0.228\n",
    "\n",
    "**Задание 9**\n",
    "\n",
    "**В очень большом чате по дата аналитике сидит 1730 человек. Вероятность того, что день рождения наугад взятого участника чата приходится на определенный день года, равна 1/365 для каждого из 365 дней. Найдем наиболее вероятное число счастливчиков, которые родились 1 марта.**\n",
    "\n",
    "np - q <= m <= np + p"
   ]
  },
  {
   "cell_type": "code",
   "execution_count": 71,
   "id": "9fad3304",
   "metadata": {},
   "outputs": [],
   "source": [
    "n=1730\n",
    "p=1/365\n",
    "q=364/365\n",
    "m=1"
   ]
  },
  {
   "cell_type": "code",
   "execution_count": 82,
   "id": "08cd354f",
   "metadata": {},
   "outputs": [
    {
     "data": {
      "text/plain": [
       "3.742465753424658"
      ]
     },
     "execution_count": 82,
     "metadata": {},
     "output_type": "execute_result"
    }
   ],
   "source": [
    "n*p-q"
   ]
  },
  {
   "cell_type": "code",
   "execution_count": 77,
   "id": "7f85dcbd",
   "metadata": {},
   "outputs": [
    {
     "data": {
      "text/plain": [
       "5.736986301369863"
      ]
     },
     "execution_count": 77,
     "metadata": {},
     "output_type": "execute_result"
    }
   ],
   "source": [
    "n*p+q"
   ]
  },
  {
   "cell_type": "markdown",
   "id": "2adce8b0",
   "metadata": {},
   "source": [
    "3.74 <= m <= 5.74\n",
    "\n",
    "Ответ: `4`\n",
    "\n",
    "\n",
    "**Задание 10**\n",
    "\n",
    "**В урне 20 шаров: 15 белых и 5 чёрных. Вынули подряд 5 шаров, причём каждый вынутый шар возвращается в урну и перед извлечением следующего шары в урне тщательно перемешиваются. Найдите вероятность того, что из пяти вынутых шаров будет 2 белых.**\n",
    "\n",
    "**Ответ округлите до тысячных, в качестве десятичного разделителя используйте точку.**"
   ]
  },
  {
   "cell_type": "code",
   "execution_count": 81,
   "id": "442e493d",
   "metadata": {},
   "outputs": [
    {
     "data": {
      "text/plain": [
       "0.087890625"
      ]
     },
     "execution_count": 81,
     "metadata": {},
     "output_type": "execute_result"
    }
   ],
   "source": [
    "def ball(n, k):\n",
    "    p, q = 0.75, 0.25\n",
    "    P = factorial(n)/(factorial(k) * factorial(n - k))\n",
    "    return P * (p ** k) * (q ** (n - k))\n",
    "\n",
    "ball(n=5, k=2)"
   ]
  },
  {
   "cell_type": "markdown",
   "id": "b75141c0",
   "metadata": {},
   "source": [
    "Ответ: `0.088`"
   ]
  }
 ],
 "metadata": {
  "kernelspec": {
   "display_name": "Python 3 (ipykernel)",
   "language": "python",
   "name": "python3"
  },
  "language_info": {
   "codemirror_mode": {
    "name": "ipython",
    "version": 3
   },
   "file_extension": ".py",
   "mimetype": "text/x-python",
   "name": "python",
   "nbconvert_exporter": "python",
   "pygments_lexer": "ipython3",
   "version": "3.9.12"
  }
 },
 "nbformat": 4,
 "nbformat_minor": 5
}
