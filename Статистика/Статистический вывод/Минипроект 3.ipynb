{
 "cells": [
  {
   "cell_type": "markdown",
   "id": "68cc3d44",
   "metadata": {},
   "source": [
    "Представьте, что вы работаете аналитиком в компании, которая занимается арендой велосипедов. Коллега из офиса в Лондоне прислал вам данные за два года: с 4 января 2015 по 3 января 2017. Вам предстоит изучить динамику числа аренд, наличие связи с погодными условиями и выходными, а также объяснить несколько аномалий на графике.\n",
    "\n",
    "## Задания\n",
    "Загрузите данные, проверьте число наблюдений и столбцов, наличие пропусков. Убедитесь, что типы данных были прочитаны правильно. При необходимости – приведите переменные к нужным типам.\n",
    "Постройте график по числу поездок по дате и времени.\n",
    "Преобразуйте данные и посчитайте число поездок по дням. Визуализируйте результат.\n",
    "Используйте агрегированные данные по дням и посчитайте скользящее среднее с окном 3. В качестве ответа укажите полученное число аренд за 2015-07-09, округлив значение до целого.\n",
    "Посчитайте разницу между наблюдаемыми и значениями, подсчитанными с помощью скользящего среднего. Далее – найдите стандартное отклонение.\n",
    "Определите границы 99% доверительного интервала, добавьте данную информацию в датафрейм.\n",
    "Изучите аномально высокие значения и укажите день, когда число аренд было наибольшим. Найдите причину данной аномалии.\n",
    "Изучите аномально низкие значения, найдите день с наименьшим числом аренд. Найдите причину данной аномалии.\n",
    "\n",
    "## Описание данных\n",
    "* timestamp – дата и время (точность до часа)\n",
    "* cnt – количество аренд велосипедов за этот час\n",
    "* t1 – температура, в С\n",
    "* t2 – температура \"ощущается как\", в С \n",
    "* hum – влажность (%)\n",
    "* wind_speed – скорость ветра, км/ч\n",
    "* weather_code – погодные условия:\n",
    "\n",
    "1 – ясно (SKC)\n",
    "\n",
    "2 – преимущественно ясно / встречаются отдельные облака (SCT)\n",
    "\n",
    "3 – облачно / значительные облака (BKN)\n",
    "\n",
    "4 – пасмурно (OVC)\n",
    "\n",
    "7 – небольшой дождь Rain/ light Rain shower/ Light rain \n",
    "\n",
    "10 – дождь с грозой\n",
    "\n",
    "26 – снегопад \n",
    "\n",
    "94 – ледяной туман (да, такое бывает!)\n",
    "\n",
    "* isholiday – является ли день праздником (1 – праздник, 0 – нет)\n",
    "* isweekend –  является ли день выходным (1 – выходной, 0 – нет)\n",
    "* season – метеорологический сезон (0 – весна, 1 – лето, 2 – осень, 3 – зима)\n",
    "\n",
    "### Задание 1\n",
    "\n",
    "**Загрузите данные, проверьте число наблюдений и столбцов, наличие пропусков. Убедитесь, что типы данных были прочитаны правильно. При необходимости – приведите переменные к нужным типам.**\n",
    "\n",
    "**Есть ли в данных пропущенные значения?**"
   ]
  },
  {
   "cell_type": "code",
   "execution_count": 1,
   "id": "bb4282a9",
   "metadata": {},
   "outputs": [],
   "source": [
    "import pandas as pd\n",
    "import numpy as np\n",
    "import seaborn as sns\n",
    "import matplotlib.pyplot as plt\n",
    "\n",
    "import warnings\n",
    "warnings.filterwarnings('ignore')\n",
    "\n",
    "plt.style.use('Solarize_Light2')\n",
    "\n",
    "sns.set(\n",
    "\n",
    "font_scale=2,\n",
    "\n",
    "style=\"whitegrid\",\n",
    "\n",
    "rc={'figure.figsize':(20,7)}\n",
    "\n",
    "    )\n",
    "\n",
    "%matplotlib inline"
   ]
  },
  {
   "cell_type": "code",
   "execution_count": 11,
   "id": "1e69db4d",
   "metadata": {},
   "outputs": [
    {
     "data": {
      "text/html": [
       "<div>\n",
       "<style scoped>\n",
       "    .dataframe tbody tr th:only-of-type {\n",
       "        vertical-align: middle;\n",
       "    }\n",
       "\n",
       "    .dataframe tbody tr th {\n",
       "        vertical-align: top;\n",
       "    }\n",
       "\n",
       "    .dataframe thead th {\n",
       "        text-align: right;\n",
       "    }\n",
       "</style>\n",
       "<table border=\"1\" class=\"dataframe\">\n",
       "  <thead>\n",
       "    <tr style=\"text-align: right;\">\n",
       "      <th></th>\n",
       "      <th>timestamp</th>\n",
       "      <th>cnt</th>\n",
       "      <th>t1</th>\n",
       "      <th>t2</th>\n",
       "      <th>hum</th>\n",
       "      <th>wind_speed</th>\n",
       "      <th>weather_code</th>\n",
       "      <th>is_holiday</th>\n",
       "      <th>is_weekend</th>\n",
       "      <th>season</th>\n",
       "    </tr>\n",
       "  </thead>\n",
       "  <tbody>\n",
       "    <tr>\n",
       "      <th>0</th>\n",
       "      <td>2015-01-04 00:00:00</td>\n",
       "      <td>182</td>\n",
       "      <td>3.0</td>\n",
       "      <td>2.0</td>\n",
       "      <td>93.0</td>\n",
       "      <td>6.0</td>\n",
       "      <td>3.0</td>\n",
       "      <td>0.0</td>\n",
       "      <td>1.0</td>\n",
       "      <td>3.0</td>\n",
       "    </tr>\n",
       "    <tr>\n",
       "      <th>1</th>\n",
       "      <td>2015-01-04 01:00:00</td>\n",
       "      <td>138</td>\n",
       "      <td>3.0</td>\n",
       "      <td>2.5</td>\n",
       "      <td>93.0</td>\n",
       "      <td>5.0</td>\n",
       "      <td>1.0</td>\n",
       "      <td>0.0</td>\n",
       "      <td>1.0</td>\n",
       "      <td>3.0</td>\n",
       "    </tr>\n",
       "    <tr>\n",
       "      <th>2</th>\n",
       "      <td>2015-01-04 02:00:00</td>\n",
       "      <td>134</td>\n",
       "      <td>2.5</td>\n",
       "      <td>2.5</td>\n",
       "      <td>96.5</td>\n",
       "      <td>0.0</td>\n",
       "      <td>1.0</td>\n",
       "      <td>0.0</td>\n",
       "      <td>1.0</td>\n",
       "      <td>3.0</td>\n",
       "    </tr>\n",
       "    <tr>\n",
       "      <th>3</th>\n",
       "      <td>2015-01-04 03:00:00</td>\n",
       "      <td>72</td>\n",
       "      <td>2.0</td>\n",
       "      <td>2.0</td>\n",
       "      <td>100.0</td>\n",
       "      <td>0.0</td>\n",
       "      <td>1.0</td>\n",
       "      <td>0.0</td>\n",
       "      <td>1.0</td>\n",
       "      <td>3.0</td>\n",
       "    </tr>\n",
       "    <tr>\n",
       "      <th>4</th>\n",
       "      <td>2015-01-04 04:00:00</td>\n",
       "      <td>47</td>\n",
       "      <td>2.0</td>\n",
       "      <td>0.0</td>\n",
       "      <td>93.0</td>\n",
       "      <td>6.5</td>\n",
       "      <td>1.0</td>\n",
       "      <td>0.0</td>\n",
       "      <td>1.0</td>\n",
       "      <td>3.0</td>\n",
       "    </tr>\n",
       "  </tbody>\n",
       "</table>\n",
       "</div>"
      ],
      "text/plain": [
       "            timestamp  cnt   t1   t2    hum  wind_speed  weather_code  \\\n",
       "0 2015-01-04 00:00:00  182  3.0  2.0   93.0         6.0           3.0   \n",
       "1 2015-01-04 01:00:00  138  3.0  2.5   93.0         5.0           1.0   \n",
       "2 2015-01-04 02:00:00  134  2.5  2.5   96.5         0.0           1.0   \n",
       "3 2015-01-04 03:00:00   72  2.0  2.0  100.0         0.0           1.0   \n",
       "4 2015-01-04 04:00:00   47  2.0  0.0   93.0         6.5           1.0   \n",
       "\n",
       "   is_holiday  is_weekend  season  \n",
       "0         0.0         1.0     3.0  \n",
       "1         0.0         1.0     3.0  \n",
       "2         0.0         1.0     3.0  \n",
       "3         0.0         1.0     3.0  \n",
       "4         0.0         1.0     3.0  "
      ]
     },
     "execution_count": 11,
     "metadata": {},
     "output_type": "execute_result"
    }
   ],
   "source": [
    "london = pd.read_csv('C:/Users/Александр/pj/karpov_courses/Статистика/Статистический вывод/london.csv', parse_dates=['timestamp'])\n",
    "london.head()"
   ]
  },
  {
   "cell_type": "code",
   "execution_count": 12,
   "id": "ee5ff1d9",
   "metadata": {},
   "outputs": [
    {
     "data": {
      "text/plain": [
       "timestamp       0\n",
       "cnt             0\n",
       "t1              0\n",
       "t2              0\n",
       "hum             0\n",
       "wind_speed      0\n",
       "weather_code    0\n",
       "is_holiday      0\n",
       "is_weekend      0\n",
       "season          0\n",
       "dtype: int64"
      ]
     },
     "execution_count": 12,
     "metadata": {},
     "output_type": "execute_result"
    }
   ],
   "source": [
    "london.isnull().sum()"
   ]
  },
  {
   "cell_type": "markdown",
   "id": "e457ab92",
   "metadata": {},
   "source": [
    "* Да, но совсем немного\n",
    "* Да, во многих\n",
    "* **Нет**\n",
    "\n",
    "\n",
    "### Задание 2\n",
    "\n",
    "**Для начала попробуем посмотреть на число поездок по датам и времени. Постройте график, где:**\n",
    "\n",
    "* по оси x – дата (timestamp)\n",
    "* по оси y – число поездок (cnt)\n",
    "\n",
    "**Выберите верные утверждения:**\n",
    "\n",
    "Hint: sns.lineplot "
   ]
  },
  {
   "cell_type": "code",
   "execution_count": 6,
   "id": "a5f24534",
   "metadata": {},
   "outputs": [
    {
     "data": {
      "image/png": "[encoded data removed]",
      "text/plain": [
       "<Figure size 432x288 with 1 Axes>"
      ]
     },
     "metadata": {
      "needs_background": "light"
     },
     "output_type": "display_data"
    }
   ],
   "source": [
    "sns.lineplot(data=london, x=london.timestamp, y=london.cnt)\n",
    "sns.despine()"
   ]
  },
  {
   "cell_type": "markdown",
   "id": "5f00951c",
   "metadata": {},
   "source": [
    "* В выходные поездок точно меньше, чем в будние дни\n",
    "* **Очень сложно что-то понять, нужно преобразовать данные, чтобы увидеть тренды**\n",
    "* Случались только аномальные скачки вверх, вниз ничего не падало\n",
    "\n",
    "### Задание 3\n",
    "\n",
    "**Отлично! Предположим, что данные действительно нужно немного преобразовать. В этом нам поможет resample, с которым вы могли столкнуться в дополнительных темах pandas. Этот метод позволяет преобразовать данные и применить к какому-либо столбцу другой метод (напр. sum). Так можно рассчитать показатели, например, за весь день или месяц, имея данные с точностью до минут. Например, посчитать сумму показателя по дням, имея данные по часам, можно следующим образом:**\n",
    "```python\n",
    "data.resample(rule='D').column_name.sum() #способ 1\n",
    "data.resample(rule='D').agg({'column_name':'sum'}) #способ 2, эквивалентный предыдущему\n",
    "```\n",
    "\n",
    "**Агрегируйте число поездок по дням и визуализируйте результат. Что вы можете сказать о полученном графике?**"
   ]
  },
  {
   "cell_type": "code",
   "execution_count": 13,
   "id": "1831258d",
   "metadata": {},
   "outputs": [],
   "source": [
    "london.sort_values(by='timestamp', inplace=True)\n",
    "london.set_index('timestamp', drop=False, inplace=True)"
   ]
  },
  {
   "cell_type": "code",
   "execution_count": 15,
   "id": "6e24bf4c",
   "metadata": {},
   "outputs": [
    {
     "data": {
      "image/png": "[encoded data removed]",
      "text/plain": [
       "<Figure size 432x288 with 1 Axes>"
      ]
     },
     "metadata": {
      "needs_background": "light"
     },
     "output_type": "display_data"
    }
   ],
   "source": [
    "london.resample('D').agg({'cnt':'sum'}).plot()\n",
    "sns.despine()"
   ]
  },
  {
   "cell_type": "markdown",
   "id": "eca1774a",
   "metadata": {},
   "source": [
    "* Встречаются только резкие скачки вверх\n",
    "* Максимальное число аренд за день – более 1 000 000\n",
    "* **Зимой число аренд меньше, чем летом**\n",
    "* **Встречаются как очень резкие скачки числа аренд, так и падения**\n",
    "* **Максимальное число аренд за день составляет более 70 000**\n",
    "* Число аренд зимой и летом никак не различается\n",
    "* Максимальное число аренд за день не превышало 8 000\n",
    "\n",
    "## Задание 4\n",
    "Итак, вы обнаружили на графике некоторые скачки. Давайте проверим, что же могло произойти в тот день 🤔.\n",
    "\n",
    "Для этого разделим дальнейшие действия на несколько этапов:\n",
    "\n",
    "* сначала посчитаем скользящее среднее, чтобы сгладить ряд\n",
    "* далее – разницу между наблюдаемыми и сглаженными значениями\n",
    "* определим верхние и нижние границы 99% доверительного интервала \n",
    "* найдем причины аномалий!\n",
    "\n",
    "На данном шаге возьмите агрегированные данные по дням с предыдущего шага и посчитайте скользящее среднее с окном 3. В качестве ответа укажите полученное число аренд за 2015-07-09, округлив значение до целого."
   ]
  },
  {
   "cell_type": "code",
   "execution_count": 16,
   "id": "ebc24401",
   "metadata": {},
   "outputs": [
    {
     "data": {
      "text/html": [
       "<div>\n",
       "<style scoped>\n",
       "    .dataframe tbody tr th:only-of-type {\n",
       "        vertical-align: middle;\n",
       "    }\n",
       "\n",
       "    .dataframe tbody tr th {\n",
       "        vertical-align: top;\n",
       "    }\n",
       "\n",
       "    .dataframe thead th {\n",
       "        text-align: right;\n",
       "    }\n",
       "</style>\n",
       "<table border=\"1\" class=\"dataframe\">\n",
       "  <thead>\n",
       "    <tr style=\"text-align: right;\">\n",
       "      <th></th>\n",
       "      <th>timestamp</th>\n",
       "      <th>cnt</th>\n",
       "    </tr>\n",
       "  </thead>\n",
       "  <tbody>\n",
       "    <tr>\n",
       "      <th>0</th>\n",
       "      <td>2015-01-04</td>\n",
       "      <td>9234</td>\n",
       "    </tr>\n",
       "    <tr>\n",
       "      <th>1</th>\n",
       "      <td>2015-01-05</td>\n",
       "      <td>20372</td>\n",
       "    </tr>\n",
       "    <tr>\n",
       "      <th>2</th>\n",
       "      <td>2015-01-06</td>\n",
       "      <td>20613</td>\n",
       "    </tr>\n",
       "  </tbody>\n",
       "</table>\n",
       "</div>"
      ],
      "text/plain": [
       "   timestamp    cnt\n",
       "0 2015-01-04   9234\n",
       "1 2015-01-05  20372\n",
       "2 2015-01-06  20613"
      ]
     },
     "execution_count": 16,
     "metadata": {},
     "output_type": "execute_result"
    }
   ],
   "source": [
    "by_day = london.resample('D').cnt.sum().reset_index()\n",
    "by_day.head(3)"
   ]
  },
  {
   "cell_type": "code",
   "execution_count": 17,
   "id": "57a21e8a",
   "metadata": {},
   "outputs": [
    {
     "data": {
      "text/html": [
       "<div>\n",
       "<style scoped>\n",
       "    .dataframe tbody tr th:only-of-type {\n",
       "        vertical-align: middle;\n",
       "    }\n",
       "\n",
       "    .dataframe tbody tr th {\n",
       "        vertical-align: top;\n",
       "    }\n",
       "\n",
       "    .dataframe thead th {\n",
       "        text-align: right;\n",
       "    }\n",
       "</style>\n",
       "<table border=\"1\" class=\"dataframe\">\n",
       "  <thead>\n",
       "    <tr style=\"text-align: right;\">\n",
       "      <th></th>\n",
       "      <th>timestamp</th>\n",
       "      <th>cnt</th>\n",
       "    </tr>\n",
       "  </thead>\n",
       "  <tbody>\n",
       "    <tr>\n",
       "      <th>0</th>\n",
       "      <td>2015-01-04</td>\n",
       "      <td>NaN</td>\n",
       "    </tr>\n",
       "    <tr>\n",
       "      <th>1</th>\n",
       "      <td>2015-01-05</td>\n",
       "      <td>NaN</td>\n",
       "    </tr>\n",
       "    <tr>\n",
       "      <th>2</th>\n",
       "      <td>2015-01-06</td>\n",
       "      <td>16739.666667</td>\n",
       "    </tr>\n",
       "    <tr>\n",
       "      <th>3</th>\n",
       "      <td>2015-01-07</td>\n",
       "      <td>20683.000000</td>\n",
       "    </tr>\n",
       "    <tr>\n",
       "      <th>4</th>\n",
       "      <td>2015-01-08</td>\n",
       "      <td>19092.666667</td>\n",
       "    </tr>\n",
       "  </tbody>\n",
       "</table>\n",
       "</div>"
      ],
      "text/plain": [
       "   timestamp           cnt\n",
       "0 2015-01-04           NaN\n",
       "1 2015-01-05           NaN\n",
       "2 2015-01-06  16739.666667\n",
       "3 2015-01-07  20683.000000\n",
       "4 2015-01-08  19092.666667"
      ]
     },
     "execution_count": 17,
     "metadata": {},
     "output_type": "execute_result"
    }
   ],
   "source": [
    "by_day_roll = london.resample('D').cnt.sum().rolling(window=3).mean().reset_index()\n",
    "by_day_roll.head()"
   ]
  },
  {
   "cell_type": "code",
   "execution_count": 18,
   "id": "bdf96dc7",
   "metadata": {},
   "outputs": [
    {
     "data": {
      "text/html": [
       "<div>\n",
       "<style scoped>\n",
       "    .dataframe tbody tr th:only-of-type {\n",
       "        vertical-align: middle;\n",
       "    }\n",
       "\n",
       "    .dataframe tbody tr th {\n",
       "        vertical-align: top;\n",
       "    }\n",
       "\n",
       "    .dataframe thead th {\n",
       "        text-align: right;\n",
       "    }\n",
       "</style>\n",
       "<table border=\"1\" class=\"dataframe\">\n",
       "  <thead>\n",
       "    <tr style=\"text-align: right;\">\n",
       "      <th></th>\n",
       "      <th>timestamp</th>\n",
       "      <th>cnt</th>\n",
       "    </tr>\n",
       "  </thead>\n",
       "  <tbody>\n",
       "    <tr>\n",
       "      <th>186</th>\n",
       "      <td>2015-07-09</td>\n",
       "      <td>50705.0</td>\n",
       "    </tr>\n",
       "  </tbody>\n",
       "</table>\n",
       "</div>"
      ],
      "text/plain": [
       "     timestamp      cnt\n",
       "186 2015-07-09  50705.0"
      ]
     },
     "execution_count": 18,
     "metadata": {},
     "output_type": "execute_result"
    }
   ],
   "source": [
    "by_day_roll.query(\"timestamp == '2015-07-09'\")"
   ]
  },
  {
   "cell_type": "markdown",
   "id": "2dd51306",
   "metadata": {},
   "source": [
    "Ответ: `50705`\n",
    "\n",
    "## Задание 5\n",
    "\n",
    "Теперь посчитайте разницу между наблюдаемыми и подсчитанными значениями. Далее – примените функцию для подсчета стандартного отклонения. Например:\n",
    "```\n",
    "c = a - b\n",
    "std = np.std(c)\n",
    "```\n",
    "В качестве ответа введите полученное стандартное отклонение, округленное до 2 знаков после точки."
   ]
  },
  {
   "cell_type": "code",
   "execution_count": 19,
   "id": "2cb66d63",
   "metadata": {},
   "outputs": [
    {
     "data": {
      "text/plain": [
       "4558.59"
      ]
     },
     "execution_count": 19,
     "metadata": {},
     "output_type": "execute_result"
    }
   ],
   "source": [
    "round(np.std(by_day['cnt'] - by_day_roll['cnt']), 2)"
   ]
  },
  {
   "cell_type": "code",
   "execution_count": 20,
   "id": "96bdbd07",
   "metadata": {},
   "outputs": [],
   "source": [
    "std = np.std(by_day['cnt'] - by_day_roll['cnt'])"
   ]
  },
  {
   "cell_type": "markdown",
   "id": "8c7aa5a7",
   "metadata": {},
   "source": [
    "Ответ: `4558.59`\n",
    "\n",
    "## Задание 6\n",
    "\n",
    "Теперь определим границы интервалов. Для этого нужно взять данные, полученные при расчете скользящего среднего, и создать следующие объекты:\n",
    "\n",
    "* upper_bound – верхняя граница; к скользящим средним прибавляем 2.576∗std\n",
    "* lower_bound – нижняя граница; вычитаем 2.576∗std\n",
    "\n",
    "Полученные значения запишите в новые столбцы датафрейма с агрегированными данными.\n",
    "\n",
    "Чему равно значение верхней границы для последнего наблюдения? Ответ укажите с точностью до 2 знаков после точки.\n",
    "\n",
    "Note: в качестве std нужно брать стандартное отклонение без округления.\n",
    "\n",
    "Note 2: вам может понадобиться убрать даты из индекса - иногда из-за этого колонки могут не присваиваться в датафрейм. Вам пригодится .reset_index()."
   ]
  },
  {
   "cell_type": "code",
   "execution_count": 21,
   "id": "93735e80",
   "metadata": {},
   "outputs": [],
   "source": [
    "upper_bound = by_day_roll.cnt + (2.576 * std)\n",
    "lower_bound = by_day_roll.cnt - (2.576 * std)"
   ]
  },
  {
   "cell_type": "code",
   "execution_count": 22,
   "id": "905c741a",
   "metadata": {},
   "outputs": [
    {
     "data": {
      "text/plain": [
       "24302.92"
      ]
     },
     "execution_count": 22,
     "metadata": {},
     "output_type": "execute_result"
    }
   ],
   "source": [
    "round(upper_bound.loc[730], 2)"
   ]
  },
  {
   "cell_type": "code",
   "execution_count": 23,
   "id": "bb999824",
   "metadata": {},
   "outputs": [
    {
     "data": {
      "text/html": [
       "<div>\n",
       "<style scoped>\n",
       "    .dataframe tbody tr th:only-of-type {\n",
       "        vertical-align: middle;\n",
       "    }\n",
       "\n",
       "    .dataframe tbody tr th {\n",
       "        vertical-align: top;\n",
       "    }\n",
       "\n",
       "    .dataframe thead th {\n",
       "        text-align: right;\n",
       "    }\n",
       "</style>\n",
       "<table border=\"1\" class=\"dataframe\">\n",
       "  <thead>\n",
       "    <tr style=\"text-align: right;\">\n",
       "      <th></th>\n",
       "      <th>timestamp</th>\n",
       "      <th>cnt</th>\n",
       "      <th>upper_bound</th>\n",
       "      <th>lower_bound</th>\n",
       "    </tr>\n",
       "  </thead>\n",
       "  <tbody>\n",
       "    <tr>\n",
       "      <th>0</th>\n",
       "      <td>2015-01-04</td>\n",
       "      <td>9234</td>\n",
       "      <td>NaN</td>\n",
       "      <td>NaN</td>\n",
       "    </tr>\n",
       "    <tr>\n",
       "      <th>1</th>\n",
       "      <td>2015-01-05</td>\n",
       "      <td>20372</td>\n",
       "      <td>NaN</td>\n",
       "      <td>NaN</td>\n",
       "    </tr>\n",
       "    <tr>\n",
       "      <th>2</th>\n",
       "      <td>2015-01-06</td>\n",
       "      <td>20613</td>\n",
       "      <td>28482.585854</td>\n",
       "      <td>4996.747479</td>\n",
       "    </tr>\n",
       "    <tr>\n",
       "      <th>3</th>\n",
       "      <td>2015-01-07</td>\n",
       "      <td>21064</td>\n",
       "      <td>32425.919188</td>\n",
       "      <td>8940.080812</td>\n",
       "    </tr>\n",
       "    <tr>\n",
       "      <th>4</th>\n",
       "      <td>2015-01-08</td>\n",
       "      <td>15601</td>\n",
       "      <td>30835.585854</td>\n",
       "      <td>7349.747479</td>\n",
       "    </tr>\n",
       "  </tbody>\n",
       "</table>\n",
       "</div>"
      ],
      "text/plain": [
       "   timestamp    cnt   upper_bound  lower_bound\n",
       "0 2015-01-04   9234           NaN          NaN\n",
       "1 2015-01-05  20372           NaN          NaN\n",
       "2 2015-01-06  20613  28482.585854  4996.747479\n",
       "3 2015-01-07  21064  32425.919188  8940.080812\n",
       "4 2015-01-08  15601  30835.585854  7349.747479"
      ]
     },
     "execution_count": 23,
     "metadata": {},
     "output_type": "execute_result"
    }
   ],
   "source": [
    "by_day['upper_bound'] = upper_bound\n",
    "by_day['lower_bound'] = lower_bound\n",
    "by_day.head()"
   ]
  },
  {
   "cell_type": "markdown",
   "id": "ab8b7e69",
   "metadata": {},
   "source": [
    "Ответ: `24302.92`\n",
    "\n",
    "## Задание 7\n",
    "\n",
    "И наконец – изучим аномально высокие значения! Сначала выведите наблюдения, для которых наблюдаемые значения оказались больше верхней границы 99% доверительного интервала.\n",
    "\n",
    "В какой день значение числа аренд оказалось наибольшим? Укажите дату в формате 2020-12-31."
   ]
  },
  {
   "cell_type": "code",
   "execution_count": 24,
   "id": "f2d18a05",
   "metadata": {},
   "outputs": [
    {
     "data": {
      "text/html": [
       "<div>\n",
       "<style scoped>\n",
       "    .dataframe tbody tr th:only-of-type {\n",
       "        vertical-align: middle;\n",
       "    }\n",
       "\n",
       "    .dataframe tbody tr th {\n",
       "        vertical-align: top;\n",
       "    }\n",
       "\n",
       "    .dataframe thead th {\n",
       "        text-align: right;\n",
       "    }\n",
       "</style>\n",
       "<table border=\"1\" class=\"dataframe\">\n",
       "  <thead>\n",
       "    <tr style=\"text-align: right;\">\n",
       "      <th></th>\n",
       "      <th>timestamp</th>\n",
       "      <th>cnt</th>\n",
       "      <th>upper_bound</th>\n",
       "      <th>lower_bound</th>\n",
       "    </tr>\n",
       "  </thead>\n",
       "  <tbody>\n",
       "    <tr>\n",
       "      <th>186</th>\n",
       "      <td>2015-07-09</td>\n",
       "      <td>72504</td>\n",
       "      <td>62447.919188</td>\n",
       "      <td>38962.080812</td>\n",
       "    </tr>\n",
       "    <tr>\n",
       "      <th>214</th>\n",
       "      <td>2015-08-06</td>\n",
       "      <td>63468</td>\n",
       "      <td>58370.252521</td>\n",
       "      <td>34884.414146</td>\n",
       "    </tr>\n",
       "    <tr>\n",
       "      <th>609</th>\n",
       "      <td>2016-09-04</td>\n",
       "      <td>27512</td>\n",
       "      <td>26001.919188</td>\n",
       "      <td>2516.080812</td>\n",
       "    </tr>\n",
       "    <tr>\n",
       "      <th>721</th>\n",
       "      <td>2016-12-25</td>\n",
       "      <td>36653</td>\n",
       "      <td>31393.585854</td>\n",
       "      <td>7907.747479</td>\n",
       "    </tr>\n",
       "  </tbody>\n",
       "</table>\n",
       "</div>"
      ],
      "text/plain": [
       "     timestamp    cnt   upper_bound   lower_bound\n",
       "186 2015-07-09  72504  62447.919188  38962.080812\n",
       "214 2015-08-06  63468  58370.252521  34884.414146\n",
       "609 2016-09-04  27512  26001.919188   2516.080812\n",
       "721 2016-12-25  36653  31393.585854   7907.747479"
      ]
     },
     "execution_count": 24,
     "metadata": {},
     "output_type": "execute_result"
    }
   ],
   "source": [
    "by_day[by_day.cnt > by_day.upper_bound]"
   ]
  },
  {
   "cell_type": "markdown",
   "id": "420885f5",
   "metadata": {},
   "source": [
    "Ответ: `2015-07-09`\n",
    "\n",
    "## Задание 8\n",
    "\n",
    "Подумайте, в чем может быть причина столь высокого числа аренд в этот день. Для этого можете исследовать уже имеющиеся переменные в датасете, проверить наличие ошибок в данных (повторяющихся строк), а также использовать поиск Google. \n",
    "\n",
    "В качестве ответа выберите наиболее вероятную причину столь резкого скачка:\n",
    "\n",
    "* **Забастовки в метро**\n",
    "* Ветер\n",
    "* Погода\n",
    "* Ошибка при сборе данных\n",
    "* Выборы\n",
    "\n",
    "## Задание 9\n",
    "\n",
    "Проделайте аналогичную операцию для дней, когда число аренд оказалось ниже ожидаемого. В чем может быть причина падения числа аренд 2016-09-02?\n",
    "\n"
   ]
  },
  {
   "cell_type": "code",
   "execution_count": 25,
   "id": "8331e8d6",
   "metadata": {},
   "outputs": [
    {
     "data": {
      "text/html": [
       "<div>\n",
       "<style scoped>\n",
       "    .dataframe tbody tr th:only-of-type {\n",
       "        vertical-align: middle;\n",
       "    }\n",
       "\n",
       "    .dataframe tbody tr th {\n",
       "        vertical-align: top;\n",
       "    }\n",
       "\n",
       "    .dataframe thead th {\n",
       "        text-align: right;\n",
       "    }\n",
       "</style>\n",
       "<table border=\"1\" class=\"dataframe\">\n",
       "  <thead>\n",
       "    <tr style=\"text-align: right;\">\n",
       "      <th></th>\n",
       "      <th>timestamp</th>\n",
       "      <th>cnt</th>\n",
       "      <th>upper_bound</th>\n",
       "      <th>lower_bound</th>\n",
       "    </tr>\n",
       "  </thead>\n",
       "  <tbody>\n",
       "    <tr>\n",
       "      <th>130</th>\n",
       "      <td>2015-05-14</td>\n",
       "      <td>15609</td>\n",
       "      <td>40452.252521</td>\n",
       "      <td>16966.414146</td>\n",
       "    </tr>\n",
       "    <tr>\n",
       "      <th>189</th>\n",
       "      <td>2015-07-12</td>\n",
       "      <td>23240</td>\n",
       "      <td>47779.585854</td>\n",
       "      <td>24293.747479</td>\n",
       "    </tr>\n",
       "    <tr>\n",
       "      <th>201</th>\n",
       "      <td>2015-07-24</td>\n",
       "      <td>16034</td>\n",
       "      <td>42756.585854</td>\n",
       "      <td>19270.747479</td>\n",
       "    </tr>\n",
       "    <tr>\n",
       "      <th>232</th>\n",
       "      <td>2015-08-24</td>\n",
       "      <td>17400</td>\n",
       "      <td>41272.252521</td>\n",
       "      <td>17786.414146</td>\n",
       "    </tr>\n",
       "    <tr>\n",
       "      <th>314</th>\n",
       "      <td>2015-11-14</td>\n",
       "      <td>8898</td>\n",
       "      <td>32780.252521</td>\n",
       "      <td>9294.414146</td>\n",
       "    </tr>\n",
       "    <tr>\n",
       "      <th>607</th>\n",
       "      <td>2016-09-02</td>\n",
       "      <td>0</td>\n",
       "      <td>37829.252521</td>\n",
       "      <td>14343.414146</td>\n",
       "    </tr>\n",
       "    <tr>\n",
       "      <th>615</th>\n",
       "      <td>2016-09-10</td>\n",
       "      <td>17080</td>\n",
       "      <td>43004.919188</td>\n",
       "      <td>19519.080812</td>\n",
       "    </tr>\n",
       "    <tr>\n",
       "      <th>621</th>\n",
       "      <td>2016-09-16</td>\n",
       "      <td>21967</td>\n",
       "      <td>47936.252521</td>\n",
       "      <td>24450.414146</td>\n",
       "    </tr>\n",
       "    <tr>\n",
       "      <th>678</th>\n",
       "      <td>2016-11-12</td>\n",
       "      <td>8990</td>\n",
       "      <td>32620.919188</td>\n",
       "      <td>9135.080812</td>\n",
       "    </tr>\n",
       "  </tbody>\n",
       "</table>\n",
       "</div>"
      ],
      "text/plain": [
       "     timestamp    cnt   upper_bound   lower_bound\n",
       "130 2015-05-14  15609  40452.252521  16966.414146\n",
       "189 2015-07-12  23240  47779.585854  24293.747479\n",
       "201 2015-07-24  16034  42756.585854  19270.747479\n",
       "232 2015-08-24  17400  41272.252521  17786.414146\n",
       "314 2015-11-14   8898  32780.252521   9294.414146\n",
       "607 2016-09-02      0  37829.252521  14343.414146\n",
       "615 2016-09-10  17080  43004.919188  19519.080812\n",
       "621 2016-09-16  21967  47936.252521  24450.414146\n",
       "678 2016-11-12   8990  32620.919188   9135.080812"
      ]
     },
     "execution_count": 25,
     "metadata": {},
     "output_type": "execute_result"
    }
   ],
   "source": [
    "by_day[by_day.cnt < by_day.lower_bound]"
   ]
  },
  {
   "cell_type": "markdown",
   "id": "819b008e",
   "metadata": {},
   "source": [
    "* Забастовки\n",
    "* Ветер\n",
    "* Погода\n",
    "* Пробки\n",
    "* **Ошибка при сборе данных**\n",
    "* Выборы"
   ]
  }
 ],
 "metadata": {
  "kernelspec": {
   "display_name": "Python 3 (ipykernel)",
   "language": "python",
   "name": "python3"
  },
  "language_info": {
   "codemirror_mode": {
    "name": "ipython",
    "version": 3
   },
   "file_extension": ".py",
   "mimetype": "text/x-python",
   "name": "python",
   "nbconvert_exporter": "python",
   "pygments_lexer": "ipython3",
   "version": "3.9.12"
  }
 },
 "nbformat": 4,
 "nbformat_minor": 5
}
