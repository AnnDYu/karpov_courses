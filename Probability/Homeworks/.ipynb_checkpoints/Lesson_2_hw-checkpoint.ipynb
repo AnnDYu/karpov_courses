{
 "cells": [
  {
   "cell_type": "markdown",
   "id": "1f701a96",
   "metadata": {},
   "source": [
    "# Домашнее задание второго урока.\n",
    "\n",
    "Продолжим решать задачки по теории вероятностей. В этом степе попрактикуемся в решении задач по формуле Бернулли.\n",
    "\n",
    "Чтобы подсчитать задачу через Python, вам может пригодиться следующее:\n",
    "\n",
    "from scipy import special #модуль питона, предназначенный для научных и инженерных расчетов\n",
    "\n",
    "special.comb(n, k) #биномиальный коэффициент\n",
    "\n",
    "\n",
    "\n",
    "#альтернативный вариант\n",
    "\n",
    "from math import factorial\n",
    "\n",
    "def num_of_successes(n, k):\n",
    "\n",
    "    return factorial(n)/(factorial(k) * factorial(n - k))\n",
    "    \n",
    "    \n",
    "**1. Задание 1**\n",
    "\n",
    "**Устройство, состоящее из пяти независимо работающих элементов, включается за время Т. Вероятность отказа каждого из них за это время равна 0,4. Найти вероятность того, что откажут три элемента. Ответ округлите до четырёх знаков после запятой. В качестве десятичного разделителя используйте точку.**"
   ]
  },
  {
   "cell_type": "code",
   "execution_count": 1,
   "id": "2c6c0d55",
   "metadata": {},
   "outputs": [],
   "source": [
    "from math import factorial"
   ]
  },
  {
   "cell_type": "code",
   "execution_count": 29,
   "id": "20588e57",
   "metadata": {},
   "outputs": [
    {
     "data": {
      "text/plain": [
       "0.23040000000000005"
      ]
     },
     "execution_count": 29,
     "metadata": {},
     "output_type": "execute_result"
    }
   ],
   "source": [
    "def num_of_successes(n, k):\n",
    "    p, q = 0.4, 0.6\n",
    "    P = factorial(n)/(factorial(k) * factorial(n - k))\n",
    "    return P * (p ** k) * (q ** (n - k))\n",
    "\n",
    "num_of_successes(n=5, k=3)"
   ]
  },
  {
   "cell_type": "markdown",
   "id": "d3b221e0",
   "metadata": {},
   "source": [
    "Ответ: 0.2304\n",
    "\n",
    "**Задание 2**\n",
    "\n",
    "**Устройство, состоящее из пяти независимо работающих элементов, включается за время Т. Вероятность отказа каждого из них за это время равна 0,4. Найдите вероятность того, что хотя бы один элемент откажет. Ответ округлите до трёх знаков после запятой. В качестве десятичного разделителя используйте точку.**"
   ]
  },
  {
   "cell_type": "code",
   "execution_count": 37,
   "id": "b7ed2985",
   "metadata": {},
   "outputs": [
    {
     "data": {
      "text/plain": [
       "0.07775999999999998"
      ]
     },
     "execution_count": 37,
     "metadata": {},
     "output_type": "execute_result"
    }
   ],
   "source": [
    "#ни один элемент не откажет\n",
    "def no_breaks(n, k):\n",
    "    p, q = 0.4, 0.6\n",
    "    P = factorial(n)/(factorial(k) * factorial(n - k))\n",
    "    return P * (p ** k) * (q ** (n - k))\n",
    "\n",
    "no_breaks(n=5, k=0)\n",
    "\n",
    "# => 1 - 0.078 = 0.922 вероятность отказа одного элемента"
   ]
  },
  {
   "cell_type": "markdown",
   "id": "cfc7fb98",
   "metadata": {},
   "source": [
    "Ответ: 0.922\n",
    "\n",
    "\n",
    "**Задание 3**\n",
    "\n",
    "**Производится 8 выстрелов по цели, в каждом из которых вероятность попадания равна 0,3. Найти вероятность того, что цель будет поражена хотя бы два раза. Ответ округлите до тысячных. В качестве десятичного разделителя используйте точку.**"
   ]
  },
  {
   "cell_type": "code",
   "execution_count": 56,
   "id": "8431fc0a",
   "metadata": {},
   "outputs": [
    {
     "data": {
      "text/plain": [
       "0.05764800999999997"
      ]
     },
     "execution_count": 56,
     "metadata": {},
     "output_type": "execute_result"
    }
   ],
   "source": [
    "def shots(n, k):\n",
    "    p, q = 0.3, 0.7\n",
    "    P = factorial(n)/(factorial(k) * factorial(n - k))\n",
    "    return P * (p ** k) * (q ** (n - k))\n",
    "\n",
    "# вероятность, что промахов не будет\n",
    "shots(n=8, k=0)"
   ]
  },
  {
   "cell_type": "code",
   "execution_count": 57,
   "id": "e07f4701",
   "metadata": {},
   "outputs": [
    {
     "data": {
      "text/plain": [
       "0.1976503199999999"
      ]
     },
     "execution_count": 57,
     "metadata": {},
     "output_type": "execute_result"
    }
   ],
   "source": [
    "# вероятность, что будет один промах:\n",
    "shots(n=8, k=1)"
   ]
  },
  {
   "cell_type": "code",
   "execution_count": 61,
   "id": "649271da",
   "metadata": {},
   "outputs": [
    {
     "name": "stdout",
     "output_type": "stream",
     "text": [
      "0.7447016700000001\n"
     ]
    }
   ],
   "source": [
    "# Сумма этих вероятностей противоположна вероятности события \"попали хотя бы два раза\". \n",
    "print(1 - (shots(n=8, k=0) + shots(n=8, k=1)))"
   ]
  },
  {
   "cell_type": "markdown",
   "id": "73078481",
   "metadata": {},
   "source": [
    "Ответ: 0.745\n",
    "\n",
    "**Задание 4**\n",
    "\n",
    "**В магазине 7 покупателей. Каждый может совершить покупку с вероятностью 0,4. Найти вероятность того, что не более двух человек совершат покупку. Ответ округлите до сотых. В качестве десятичного разделителя используйте точку.**"
   ]
  },
  {
   "cell_type": "code",
   "execution_count": 67,
   "id": "e00491b5",
   "metadata": {},
   "outputs": [
    {
     "data": {
      "text/plain": [
       "0.027993599999999993"
      ]
     },
     "execution_count": 67,
     "metadata": {},
     "output_type": "execute_result"
    }
   ],
   "source": [
    "def buys(n, k):\n",
    "    p, q = 0.4, 0.6\n",
    "    P = factorial(n)/(factorial(k) * factorial(n - k))\n",
    "    return P * (p ** k) * (q ** (n - k))\n",
    "\n",
    "# вероятность, что никто не купит\n",
    "buys(n=7, k=0)"
   ]
  },
  {
   "cell_type": "code",
   "execution_count": 68,
   "id": "5ff2473b",
   "metadata": {},
   "outputs": [
    {
     "data": {
      "text/plain": [
       "0.13063679999999997"
      ]
     },
     "execution_count": 68,
     "metadata": {},
     "output_type": "execute_result"
    }
   ],
   "source": [
    "# вероятность, что кто-то один купит\n",
    "buys(n=7, k=1)"
   ]
  },
  {
   "cell_type": "code",
   "execution_count": 69,
   "id": "99f4f757",
   "metadata": {},
   "outputs": [
    {
     "data": {
      "text/plain": [
       "0.2612736"
      ]
     },
     "execution_count": 69,
     "metadata": {},
     "output_type": "execute_result"
    }
   ],
   "source": [
    "# вероятность, что двое купят\n",
    "buys(n=7, k=2)"
   ]
  },
  {
   "cell_type": "code",
   "execution_count": 70,
   "id": "58cc9bec",
   "metadata": {},
   "outputs": [
    {
     "name": "stdout",
     "output_type": "stream",
     "text": [
      "0.41990399999999994\n"
     ]
    }
   ],
   "source": [
    "print(buys(n=7, k=0) + buys(n=7, k=1) + buys(n=7, k=2))"
   ]
  },
  {
   "cell_type": "markdown",
   "id": "43f434d5",
   "metadata": {},
   "source": [
    "Ответ: 0.42\n",
    "\n",
    "\n",
    "**Задание 5**\n",
    "\n",
    "**В телеателье имеется 7 телевизоров. Для каждого телевизора вероятность того, что в данный момент он включен, равна 0,5. Найти вероятность того, что в данный момент включены не менее трех телевизоров. Ответ округлите до тысячных. В качестве десятичного разделителя используйте точку.**"
   ]
  },
  {
   "cell_type": "code",
   "execution_count": null,
   "id": "1a8e4532",
   "metadata": {},
   "outputs": [],
   "source": []
  }
 ],
 "metadata": {
  "kernelspec": {
   "display_name": "Python 3 (ipykernel)",
   "language": "python",
   "name": "python3"
  },
  "language_info": {
   "codemirror_mode": {
    "name": "ipython",
    "version": 3
   },
   "file_extension": ".py",
   "mimetype": "text/x-python",
   "name": "python",
   "nbconvert_exporter": "python",
   "pygments_lexer": "ipython3",
   "version": "3.10.4"
  }
 },
 "nbformat": 4,
 "nbformat_minor": 5
}
