{
 "cells": [
  {
   "cell_type": "markdown",
   "id": "1f701a96",
   "metadata": {},
   "source": [
    "# Домашнее задание второго урока.\n",
    "\n",
    "Продолжим решать задачки по теории вероятностей. В этом степе попрактикуемся в решении задач по формуле Бернулли.\n",
    "\n",
    "Чтобы подсчитать задачу через Python, вам может пригодиться следующее:\n",
    "\n",
    "from scipy import special #модуль питона, предназначенный для научных и инженерных расчетов\n",
    "\n",
    "special.comb(n, k) #биномиальный коэффициент\n",
    "\n",
    "\n",
    "\n",
    "#альтернативный вариант\n",
    "\n",
    "from math import factorial\n",
    "\n",
    "def num_of_successes(n, k):\n",
    "    return factorial(n)/(factorial(k) * factorial(n - k))\n",
    "    \n",
    "    \n",
    "**1. Задание 1**\n",
    "\n",
    "**Устройство, состоящее из пяти независимо работающих элементов, включается за время Т. Вероятность отказа каждого из них за это время равна 0,4. Найти вероятность того, что откажут три элемента. Ответ округлите до четырёх знаков после запятой. В качестве десятичного разделителя используйте точку.**\n",
    "\n"
   ]
  },
  {
   "cell_type": "code",
   "execution_count": null,
   "id": "2c6c0d55",
   "metadata": {},
   "outputs": [],
   "source": []
  }
 ],
 "metadata": {
  "kernelspec": {
   "display_name": "Python 3 (ipykernel)",
   "language": "python",
   "name": "python3"
  },
  "language_info": {
   "codemirror_mode": {
    "name": "ipython",
    "version": 3
   },
   "file_extension": ".py",
   "mimetype": "text/x-python",
   "name": "python",
   "nbconvert_exporter": "python",
   "pygments_lexer": "ipython3",
   "version": "3.10.4"
  }
 },
 "nbformat": 4,
 "nbformat_minor": 5
}
