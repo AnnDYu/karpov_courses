{
 "cells": [
  {
   "cell_type": "markdown",
   "id": "86c6bf5e",
   "metadata": {},
   "source": [
    "# Домашнее задание седьмого урока."
   ]
  },
  {
   "cell_type": "markdown",
   "id": "ba9b3c98",
   "metadata": {},
   "source": [
    "Ваш менее опытный коллега не уверен, что его таблица retail действительно создалась и добавилась в базу данных. Напишите запрос, который создаст таблицу, если она еще не существует (**IF NOT EXISTS**), со следующими параметрами:\n",
    "\n",
    "Название: **retail**\n",
    "\n",
    "База: **test**\n",
    "Столбцы:\n",
    "\n",
    "- InvoiceNo – идентификатор заказа, строковое значение\n",
    "\n",
    "- StockCode – идентификатор товара, строковое значение\n",
    "\n",
    "- Description – описание товара, строковое значение\n",
    "\n",
    "- Quantity – количество единиц товара, добавленных в корзину (особенность данных – значения могут быть отрицательными, 32 бита)\n",
    "\n",
    "- InvoiceDate – дата и время создания заказа (транзакции), часовой пояс – 'Europe/London'\n",
    "\n",
    "- UnitPrice – цена за единицу товара (особенность данных – значения могут быть отрицательными, точность – три знака после точки, 64 бита)\n",
    "\n",
    "- CustomerID – идентификатор пользователя, целое положительное число, 32 бита.\n",
    "\n",
    "- Country – страна, строковое значение. \n",
    "\n",
    "Движок: **MergeTree**\n",
    "\n",
    "Сортировка: **InvoiceDate, CustomerID**\n",
    "\n"
   ]
  },
  {
   "cell_type": "code",
   "execution_count": null,
   "id": "da509dc6",
   "metadata": {},
   "outputs": [],
   "source": []
  }
 ],
 "metadata": {
  "kernelspec": {
   "display_name": "Python 3 (ipykernel)",
   "language": "python",
   "name": "python3"
  },
  "language_info": {
   "codemirror_mode": {
    "name": "ipython",
    "version": 3
   },
   "file_extension": ".py",
   "mimetype": "text/x-python",
   "name": "python",
   "nbconvert_exporter": "python",
   "pygments_lexer": "ipython3",
   "version": "3.10.4"
  }
 },
 "nbformat": 4,
 "nbformat_minor": 5
}
