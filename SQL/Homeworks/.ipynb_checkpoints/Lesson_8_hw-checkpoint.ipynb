{
 "cells": [
  {
   "cell_type": "markdown",
   "id": "20b39002",
   "metadata": {},
   "source": [
    "# Домашнее задание восьмого урока."
   ]
  },
  {
   "cell_type": "markdown",
   "id": "a41f1546",
   "metadata": {},
   "source": [
    "**1. Для чего используют оконные функции?**\n",
    "\n",
    "* когда необходимо объединить две или несколько таблиц по общему ключу\n",
    "* **когда необходимо получить значения соседних ячеек, не меняя при этом группировку строк**\n",
    "* когда необходимо использовать результирующую таблицу одного запроса, как входную таблицу для другого\n",
    "* когда необходимо сохранить результирующую таблицу в новом окне\n",
    "\n",
    "**2. Соотнесите параметр с его описанием:**"
   ]
  },
  {
   "cell_type": "code",
   "execution_count": null,
   "id": "890c2ae3",
   "metadata": {},
   "outputs": [],
   "source": []
  }
 ],
 "metadata": {
  "kernelspec": {
   "display_name": "Python 3 (ipykernel)",
   "language": "python",
   "name": "python3"
  },
  "language_info": {
   "codemirror_mode": {
    "name": "ipython",
    "version": 3
   },
   "file_extension": ".py",
   "mimetype": "text/x-python",
   "name": "python",
   "nbconvert_exporter": "python",
   "pygments_lexer": "ipython3",
   "version": "3.10.4"
  }
 },
 "nbformat": 4,
 "nbformat_minor": 5
}
