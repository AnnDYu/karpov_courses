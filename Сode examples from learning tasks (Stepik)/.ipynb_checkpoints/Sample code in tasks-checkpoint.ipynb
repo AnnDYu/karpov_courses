{
 "cells": [
  {
   "cell_type": "markdown",
   "id": "70097a83",
   "metadata": {},
   "source": [
    "Ходы ферзя\n",
    "\n",
    "На шахматной доске 8х8 стоит ферзь. Отметьте положение ферзя на доске и все клетки, которые бьет ферзь. Клетку, где стоит ферзь, отметьте буквой Q, клетки, которые бьет ферзь, отметьте символами *, остальные клетки заполните точками.\n",
    "\n",
    "Формат входных данных\n",
    "На вход программе подаются координаты ферзя на шахматной доске в шахматной нотации (то есть в виде e4, где сначала записывается номер столбца (буква от a до h, слева направо), затем номер строки (цифра от 11 до 88, снизу вверх)).\n",
    "\n",
    "Формат выходных данных\n",
    "Программа должна вывести на экран изображение доски, разделяя элементы пробелами."
   ]
  },
  {
   "cell_type": "code",
   "execution_count": 1,
   "id": "c1f40ae9",
   "metadata": {},
   "outputs": [
    {
     "name": "stdout",
     "output_type": "stream",
     "text": [
      "c4\n",
      ". . * . . . * .\n",
      ". . * . . * . .\n",
      "* . * . * . . .\n",
      ". * * * . . . .\n",
      "* * Q * * * * *\n",
      ". * * * . . . .\n",
      "* . * . * . . .\n",
      ". . * . . * . .\n"
     ]
    }
   ],
   "source": [
    "coor = input()\n",
    "board = [['.'] * 8 for _ in range(8)]\n",
    "y, x = 8 - int(coor[1]), ord(coor[0]) - 97\n",
    "for i in range(8):\n",
    "    for j in range(8):\n",
    "        if (y == i) or (x == j) or abs(y - i) == abs(x - j):\n",
    "            board[i][j] = '*'\n",
    "board[y][x] = 'Q'\n",
    "for line in board:\n",
    "    print(*line)"
   ]
  },
  {
   "cell_type": "code",
   "execution_count": null,
   "id": "b853994a",
   "metadata": {},
   "outputs": [],
   "source": []
  },
  {
   "cell_type": "markdown",
   "id": "011ccfdc",
   "metadata": {},
   "source": [
    "Латинский квадрат\n",
    "\n",
    "Латинским квадратом порядка n называется квадратная матрица размером n x n, каждая строка и каждый столбец которой содержат все числа от 11 до n. Напишите программу, которая проверяет, является ли заданная квадратная матрица латинским квадратом.\n",
    "\n",
    "Формат входных данных\n",
    "\n",
    "На вход программе подаётся натуральное число n — количество строк и столбцов в матрице, затем элементы матрицы: n строк, по n чисел в каждой, разделённые пробелами.\n",
    "\n",
    "Формат выходных данных\n",
    "\n",
    "Программа должна вывести слово YES, если матрица является латинским квадратом, и слово NO, если не является."
   ]
  },
  {
   "cell_type": "code",
   "execution_count": 4,
   "id": "49089ab2",
   "metadata": {},
   "outputs": [
    {
     "name": "stdout",
     "output_type": "stream",
     "text": [
      "4\n",
      "2 3 4 1\n",
      "3 4 1 2\n",
      "4 1 2 3\n",
      "1 2 3 4\n",
      "YES\n"
     ]
    }
   ],
   "source": [
    "n = int(input())\n",
    "matrix = [[int(i) for i in input().split()] for _ in range(n)]\n",
    "numbers = list(range(1, n + 1))\n",
    "result = 'YES'\n",
    "\n",
    "for i in range(n):\n",
    "    row_nums = sorted(matrix[i])\n",
    "    col_nums = sorted([matrix[j][i] for j in range(n)])\n",
    "    if row_nums != numbers or col_nums != numbers:\n",
    "        result = 'NO'\n",
    "        break\n",
    "        \n",
    "print(result)"
   ]
  },
  {
   "cell_type": "code",
   "execution_count": null,
   "id": "9ff4cea1",
   "metadata": {},
   "outputs": [],
   "source": []
  },
  {
   "cell_type": "markdown",
   "id": "fa1b5bdb",
   "metadata": {},
   "source": [
    "Последовательность Трибоначчи\n",
    "\n",
    "Напишите программу, которая считывает натуральное число nn и выводит первые nn чисел последовательности Трибоначчи.\n",
    "\n",
    "Формат входных данных\n",
    "На вход программе подается одно число n\\,  (n \\le 100)n (n≤100) – количество членов последовательности.\n",
    "\n",
    "Формат выходных данных\n",
    "Программа должна вывести члены последовательности Трибоначчи, отделенные символом пробела.\n",
    "\n",
    "Примечание. Последовательность Трибоначчи – последовательность натуральных чисел, где каждое последующее число является суммой трех предыдущих:\n",
    "1, 1, 1, 3, 5, 9, 17, 31, 57, 105 …"
   ]
  },
  {
   "cell_type": "code",
   "execution_count": 8,
   "id": "d6114b51",
   "metadata": {},
   "outputs": [
    {
     "name": "stdout",
     "output_type": "stream",
     "text": [
      "10\n",
      "1 1 1 3 5 9 17 31 57 105 "
     ]
    }
   ],
   "source": [
    "n = int(input())\n",
    "f1, f2, f3 = 1, 1, 1\n",
    "\n",
    "for i in range(n):\n",
    "    print(f1,end=' ')\n",
    "    f1, f2, f3 = f2, f3, f2+f1+f3"
   ]
  },
  {
   "cell_type": "code",
   "execution_count": null,
   "id": "a9ee5f31",
   "metadata": {},
   "outputs": [],
   "source": []
  },
  {
   "cell_type": "markdown",
   "id": "58c2afee",
   "metadata": {},
   "source": [
    "Самое редкое слово\n",
    "\n",
    "На вход программе подается строка текста. Напишите программу, которая выводит слово, которое встречается реже всего, без учета регистра. Если таких слов несколько, выведите то, которое меньше в лексикографическом порядке.\n",
    "\n",
    "Формат входных данных\n",
    "На вход программе подается строка текста.\n",
    "\n",
    "Формат выходных данных\n",
    "Программа должна вывести слово (в нижнем регистре), встречаемое реже всего.\n",
    "\n",
    "Примечание 1. Программа не должна быть чувствительной к регистру, слова apple и Apple должна воспринимать как одинаковые.\n",
    "\n",
    "Примечание 2. Слово — последовательность букв. Кроме слов в тексте могут присутствовать пробелы и знаки препинания .,!?:;-, которые нужно игнорировать. Других символов в тексте нет."
   ]
  },
  {
   "cell_type": "code",
   "execution_count": 9,
   "id": "2c1eae84",
   "metadata": {},
   "outputs": [
    {
     "name": "stdout",
     "output_type": "stream",
     "text": [
      "London is the capital of Great Britain. More than six million people live in London. London lies on both banks of the river Thames. It is the largest city in Europe and one of the largest cities in the world. London is not only the capital of the country, it is also a very big port, one of the greatest commercial centres in the world, a university city, and the seat of the government of Great Britain!\n",
      "also\n"
     ]
    }
   ],
   "source": [
    "li = [word.strip(\".,!?:;-\").lower() for word in input().split()]\n",
    "di = {word: li.count(word) for word in li}\n",
    "m = min(di.values())\n",
    "\n",
    "for k, v in sorted(di.items(), key=lambda t: t[0]):\n",
    "    if v == m:\n",
    "        print(k)\n",
    "        break"
   ]
  },
  {
   "cell_type": "code",
   "execution_count": null,
   "id": "28c56dc0",
   "metadata": {},
   "outputs": [],
   "source": []
  }
 ],
 "metadata": {
  "kernelspec": {
   "display_name": "Python 3 (ipykernel)",
   "language": "python",
   "name": "python3"
  },
  "language_info": {
   "codemirror_mode": {
    "name": "ipython",
    "version": 3
   },
   "file_extension": ".py",
   "mimetype": "text/x-python",
   "name": "python",
   "nbconvert_exporter": "python",
   "pygments_lexer": "ipython3",
   "version": "3.10.4"
  }
 },
 "nbformat": 4,
 "nbformat_minor": 5
}
