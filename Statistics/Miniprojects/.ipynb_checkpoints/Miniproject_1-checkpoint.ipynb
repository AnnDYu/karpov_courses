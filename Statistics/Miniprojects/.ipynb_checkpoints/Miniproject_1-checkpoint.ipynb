{
 "cells": [
  {
   "cell_type": "markdown",
   "id": "63923287",
   "metadata": {},
   "source": [
    "Пришло время первого небольшого проекта по статистике! На этот раз исследуем набор данных о видеоиграх, объем продаж которых составил более 100 000 копий.\n",
    "\n",
    "**Задания**\n",
    "1. Первый шаг – загрузить данные и убедиться, что всё считалось правильно: посмотреть на столбцы, размер, наличие пропущенных значений (если есть – удалить). Также изучите типы переменных.\n",
    "2. Постройте график распределения количества выпущенных игр по годам и выведите описательные характеристики переменной Year.\n",
    "3. На каких платформах произошло больше всего релизов?\n",
    "4. Игры каких издателей (Publisher) встречаются в датасете чаще всего?\n",
    "5. В каком регионе медианное значение объема продаж игр Nintendo является наибольшим? (Регионы: NA, EU, JP, Other)\n",
    "6. Изучите объемы продаж игр Nintendo в Японии с разбивкой жанрам. Посмотрите на медиану, среднее, межквартильный размах.\n",
    "7. Визуализируйте динамику изменения объема мировых продаж (Global_Sales) по годам для игр Nintendo следующих жанров: Fighting, Simulation, Platform, Racing, Sports. В какие моменты времени было продано больше всего игр жанра Sports?\n",
    "\n",
    "**Описание данных**\n",
    "\n",
    "Имеются следующие поля:\n",
    "\n",
    "* Rank – место по объему продаж\n",
    "* Name – название игры\n",
    "* Platform – платформа, на которой выпущена игра\n",
    "* Year – год релиза\n",
    "* Genre – жанр\n",
    "* Publisher – издатель\n",
    "* NA_Sales – продажи в Северной Америке, в млн.\n",
    "* EU_Sales – продажи в Европе, в млн.\n",
    "* JP_Sales – продажи в Японии, в млн.\n",
    "* Other_Sales – продажи в остальном мире, в млн.\n",
    "* Global_Sales – продажи по всему миру, в млн.\n",
    "\n",
    "### 1. Первый шаг – загрузить данные и убедиться, что всё считалось правильно: посмотреть на столбцы, типы данных, размерность, наличие пропущенных значений.\n",
    "\n",
    "**В каком столбце встретилось больше всего пропущенных значений? В качестве ответа укажите их число, после чего удалите строки с пропущенными значениями из датасета.**"
   ]
  },
  {
   "cell_type": "code",
   "execution_count": 1,
   "id": "ca5b80a2",
   "metadata": {},
   "outputs": [],
   "source": [
    "import pandas as pd\n",
    "import numpy as np\n",
    "import seaborn as sns\n",
    "import matplotlib.pyplot as plt\n",
    "\n",
    "%matplotlib inline"
   ]
  },
  {
   "cell_type": "code",
   "execution_count": 3,
   "id": "b824d5ac",
   "metadata": {},
   "outputs": [
    {
     "data": {
      "text/html": [
       "<div>\n",
       "<style scoped>\n",
       "    .dataframe tbody tr th:only-of-type {\n",
       "        vertical-align: middle;\n",
       "    }\n",
       "\n",
       "    .dataframe tbody tr th {\n",
       "        vertical-align: top;\n",
       "    }\n",
       "\n",
       "    .dataframe thead th {\n",
       "        text-align: right;\n",
       "    }\n",
       "</style>\n",
       "<table border=\"1\" class=\"dataframe\">\n",
       "  <thead>\n",
       "    <tr style=\"text-align: right;\">\n",
       "      <th></th>\n",
       "      <th>Rank</th>\n",
       "      <th>Name</th>\n",
       "      <th>Platform</th>\n",
       "      <th>Year</th>\n",
       "      <th>Genre</th>\n",
       "      <th>Publisher</th>\n",
       "      <th>NA_Sales</th>\n",
       "      <th>EU_Sales</th>\n",
       "      <th>JP_Sales</th>\n",
       "      <th>Other_Sales</th>\n",
       "      <th>Global_Sales</th>\n",
       "    </tr>\n",
       "  </thead>\n",
       "  <tbody>\n",
       "    <tr>\n",
       "      <th>0</th>\n",
       "      <td>1</td>\n",
       "      <td>Wii Sports</td>\n",
       "      <td>Wii</td>\n",
       "      <td>2006.0</td>\n",
       "      <td>Sports</td>\n",
       "      <td>Nintendo</td>\n",
       "      <td>41.49</td>\n",
       "      <td>29.02</td>\n",
       "      <td>3.77</td>\n",
       "      <td>8.46</td>\n",
       "      <td>82.74</td>\n",
       "    </tr>\n",
       "    <tr>\n",
       "      <th>1</th>\n",
       "      <td>2</td>\n",
       "      <td>Super Mario Bros.</td>\n",
       "      <td>NES</td>\n",
       "      <td>1985.0</td>\n",
       "      <td>Platform</td>\n",
       "      <td>Nintendo</td>\n",
       "      <td>29.08</td>\n",
       "      <td>3.58</td>\n",
       "      <td>6.81</td>\n",
       "      <td>0.77</td>\n",
       "      <td>40.24</td>\n",
       "    </tr>\n",
       "    <tr>\n",
       "      <th>2</th>\n",
       "      <td>3</td>\n",
       "      <td>Mario Kart Wii</td>\n",
       "      <td>Wii</td>\n",
       "      <td>2008.0</td>\n",
       "      <td>Racing</td>\n",
       "      <td>Nintendo</td>\n",
       "      <td>15.85</td>\n",
       "      <td>12.88</td>\n",
       "      <td>3.79</td>\n",
       "      <td>3.31</td>\n",
       "      <td>35.82</td>\n",
       "    </tr>\n",
       "    <tr>\n",
       "      <th>3</th>\n",
       "      <td>4</td>\n",
       "      <td>Wii Sports Resort</td>\n",
       "      <td>Wii</td>\n",
       "      <td>2009.0</td>\n",
       "      <td>Sports</td>\n",
       "      <td>Nintendo</td>\n",
       "      <td>15.75</td>\n",
       "      <td>11.01</td>\n",
       "      <td>3.28</td>\n",
       "      <td>2.96</td>\n",
       "      <td>33.00</td>\n",
       "    </tr>\n",
       "    <tr>\n",
       "      <th>4</th>\n",
       "      <td>5</td>\n",
       "      <td>Pokemon Red/Pokemon Blue</td>\n",
       "      <td>GB</td>\n",
       "      <td>1996.0</td>\n",
       "      <td>Role-Playing</td>\n",
       "      <td>Nintendo</td>\n",
       "      <td>11.27</td>\n",
       "      <td>8.89</td>\n",
       "      <td>10.22</td>\n",
       "      <td>1.00</td>\n",
       "      <td>31.37</td>\n",
       "    </tr>\n",
       "  </tbody>\n",
       "</table>\n",
       "</div>"
      ],
      "text/plain": [
       "   Rank                      Name Platform    Year         Genre Publisher  \\\n",
       "0     1                Wii Sports      Wii  2006.0        Sports  Nintendo   \n",
       "1     2         Super Mario Bros.      NES  1985.0      Platform  Nintendo   \n",
       "2     3            Mario Kart Wii      Wii  2008.0        Racing  Nintendo   \n",
       "3     4         Wii Sports Resort      Wii  2009.0        Sports  Nintendo   \n",
       "4     5  Pokemon Red/Pokemon Blue       GB  1996.0  Role-Playing  Nintendo   \n",
       "\n",
       "   NA_Sales  EU_Sales  JP_Sales  Other_Sales  Global_Sales  \n",
       "0     41.49     29.02      3.77         8.46         82.74  \n",
       "1     29.08      3.58      6.81         0.77         40.24  \n",
       "2     15.85     12.88      3.79         3.31         35.82  \n",
       "3     15.75     11.01      3.28         2.96         33.00  \n",
       "4     11.27      8.89     10.22         1.00         31.37  "
      ]
     },
     "execution_count": 3,
     "metadata": {},
     "output_type": "execute_result"
    }
   ],
   "source": [
    "games = pd.read_csv('C:/Users/Александр/pj/karpov_courses/Statistics/Miniprojects/games.csv')\n",
    "games.head()"
   ]
  },
  {
   "cell_type": "code",
   "execution_count": 5,
   "id": "5853d066",
   "metadata": {},
   "outputs": [
    {
     "data": {
      "text/plain": [
       "Rank              0\n",
       "Name              0\n",
       "Platform          0\n",
       "Year            271\n",
       "Genre             0\n",
       "Publisher        58\n",
       "NA_Sales          0\n",
       "EU_Sales          0\n",
       "JP_Sales          0\n",
       "Other_Sales       0\n",
       "Global_Sales      0\n",
       "dtype: int64"
      ]
     },
     "execution_count": 5,
     "metadata": {},
     "output_type": "execute_result"
    }
   ],
   "source": [
    "games.isnull().sum()"
   ]
  },
  {
   "cell_type": "code",
   "execution_count": 7,
   "id": "72cef6a6",
   "metadata": {},
   "outputs": [],
   "source": [
    "games.dropna(inplace=True)"
   ]
  },
  {
   "cell_type": "markdown",
   "id": "3396e3ba",
   "metadata": {},
   "source": [
    "Ответ: Year 271\n",
    "\n",
    "### 2. Проверим, какие переменные являются количественными, а какие категориальными. Соотнесите названия переменных с соответствующим типом данных.\n",
    "\n",
    "* Name (название) - **Ранговая/порядковая**\t\t\t\n",
    "* Platform (платформа) - **Номинативная**\t\t\t\n",
    "* Genre (жанр) - **Номинативная**\t\t\t\t\n",
    "* Publisher (издатель) - **Номинативная**\t\t\t\t\n",
    "* Year (год) - **Дискретная**\t\t\t\t\n",
    "* NA_Sales (объем продаж)\t- **Непрерывная**\t\t\t\n",
    "* EU_Sales (объем продаж) - **Непрерывная**\t\t\t\n",
    "* JP_Sales (объем продаж) - **Непрерывная**\t\t\t\t\n",
    "* Other_Sales (объем продаж) - **Непрерывная**\t\t\t\t\n",
    "* Global_Sales (объем продаж) - **Непрерывная**\t\n",
    "\n",
    "\n",
    "### 3. Выведите описательные характеристики переменной Year и постройте график распределения количества выпущенных игр по годам.\n",
    "\n",
    "**Выберите верные утверждения:**\n",
    "\n",
    "* **Мода равна 2009**\n",
    "* Мода равна 2007\n",
    "* Медианный год меньше, чем средний\n",
    "* **Примерно половина игр была выпущена после 2007 года**\n",
    "* **Медианный год больше, чем средний**"
   ]
  },
  {
   "cell_type": "code",
   "execution_count": 12,
   "id": "5851e080",
   "metadata": {},
   "outputs": [
    {
     "data": {
      "text/plain": [
       "0    2009.0\n",
       "Name: Year, dtype: float64"
      ]
     },
     "execution_count": 12,
     "metadata": {},
     "output_type": "execute_result"
    }
   ],
   "source": [
    "games.Year.mode()"
   ]
  },
  {
   "cell_type": "code",
   "execution_count": 13,
   "id": "b3192683",
   "metadata": {},
   "outputs": [
    {
     "data": {
      "text/plain": [
       "2007.0"
      ]
     },
     "execution_count": 13,
     "metadata": {},
     "output_type": "execute_result"
    }
   ],
   "source": [
    "games.Year.median()"
   ]
  },
  {
   "cell_type": "markdown",
   "id": "780aaa4d",
   "metadata": {},
   "source": [
    "### 4. На каких платформах произошло больше всего релизов?\n",
    "\n",
    "**Оставьте названия только тех платформ, частота встречаемости которых составляет более 7%. Значения укажите в порядке убывания частоты встречаемости через запятую с пробелом.**\n",
    "\n",
    "Пример: \n",
    "\n",
    "'Wii', 'NES', 'GB'"
   ]
  },
  {
   "cell_type": "code",
   "execution_count": 32,
   "id": "c10e243b",
   "metadata": {},
   "outputs": [
    {
     "data": {
      "text/plain": [
       "DS      13.080842\n",
       "PS2     13.056289\n",
       "PS3      8.004420\n",
       "Wii      7.918483\n",
       "X360     7.574735\n",
       "PSP      7.347615\n",
       "PS       7.298508\n",
       "PC       5.757780\n",
       "XB       4.929102\n",
       "GBA      4.824750\n",
       "GC       3.326990\n",
       "3DS      3.063041\n",
       "PSV      2.516727\n",
       "PS4      2.062488\n",
       "N64      1.939721\n",
       "SNES     1.467068\n",
       "XOne     1.307470\n",
       "SAT      1.061936\n",
       "WiiU     0.877785\n",
       "2600     0.712050\n",
       "NES      0.601559\n",
       "GB       0.595421\n",
       "DC       0.319195\n",
       "GEN      0.165736\n",
       "NG       0.073660\n",
       "SCD      0.036830\n",
       "WS       0.036830\n",
       "3DO      0.018415\n",
       "TG16     0.012277\n",
       "GG       0.006138\n",
       "PCFX     0.006138\n",
       "Name: Platform, dtype: float64"
      ]
     },
     "execution_count": 32,
     "metadata": {},
     "output_type": "execute_result"
    }
   ],
   "source": [
    "frequency = games.Platform.value_counts(normalize=True) * 100\n",
    "frequency"
   ]
  },
  {
   "cell_type": "code",
   "execution_count": 35,
   "id": "fa57ae25",
   "metadata": {},
   "outputs": [
    {
     "data": {
      "text/html": [
       "<div>\n",
       "<style scoped>\n",
       "    .dataframe tbody tr th:only-of-type {\n",
       "        vertical-align: middle;\n",
       "    }\n",
       "\n",
       "    .dataframe tbody tr th {\n",
       "        vertical-align: top;\n",
       "    }\n",
       "\n",
       "    .dataframe thead th {\n",
       "        text-align: right;\n",
       "    }\n",
       "</style>\n",
       "<table border=\"1\" class=\"dataframe\">\n",
       "  <thead>\n",
       "    <tr style=\"text-align: right;\">\n",
       "      <th></th>\n",
       "      <th>index</th>\n",
       "      <th>Platform</th>\n",
       "    </tr>\n",
       "  </thead>\n",
       "  <tbody>\n",
       "    <tr>\n",
       "      <th>0</th>\n",
       "      <td>DS</td>\n",
       "      <td>13.080842</td>\n",
       "    </tr>\n",
       "    <tr>\n",
       "      <th>1</th>\n",
       "      <td>PS2</td>\n",
       "      <td>13.056289</td>\n",
       "    </tr>\n",
       "    <tr>\n",
       "      <th>2</th>\n",
       "      <td>PS3</td>\n",
       "      <td>8.004420</td>\n",
       "    </tr>\n",
       "    <tr>\n",
       "      <th>3</th>\n",
       "      <td>Wii</td>\n",
       "      <td>7.918483</td>\n",
       "    </tr>\n",
       "    <tr>\n",
       "      <th>4</th>\n",
       "      <td>X360</td>\n",
       "      <td>7.574735</td>\n",
       "    </tr>\n",
       "    <tr>\n",
       "      <th>5</th>\n",
       "      <td>PSP</td>\n",
       "      <td>7.347615</td>\n",
       "    </tr>\n",
       "    <tr>\n",
       "      <th>6</th>\n",
       "      <td>PS</td>\n",
       "      <td>7.298508</td>\n",
       "    </tr>\n",
       "  </tbody>\n",
       "</table>\n",
       "</div>"
      ],
      "text/plain": [
       "  index   Platform\n",
       "0    DS  13.080842\n",
       "1   PS2  13.056289\n",
       "2   PS3   8.004420\n",
       "3   Wii   7.918483\n",
       "4  X360   7.574735\n",
       "5   PSP   7.347615\n",
       "6    PS   7.298508"
      ]
     },
     "execution_count": 35,
     "metadata": {},
     "output_type": "execute_result"
    }
   ],
   "source": [
    "above_7_frequency = frequency.reset_index().query('Platform > 7')\n",
    "above_7_frequency"
   ]
  },
  {
   "cell_type": "markdown",
   "id": "d26f9de1",
   "metadata": {},
   "source": [
    "Ответ: 'DS', 'PS2', 'PS3', 'Wii', 'X360', 'PSP', 'PS'\n",
    "\n",
    "### 5. Игры каких издателей (Publisher) встречаются в датасете чаще всего?\n",
    "\n",
    "**В качестве ответа укажите наибольшую абсолютную частоту встречаемости.**"
   ]
  },
  {
   "cell_type": "code",
   "execution_count": 39,
   "id": "1cbbd1f1",
   "metadata": {},
   "outputs": [
    {
     "data": {
      "text/plain": [
       "Electronic Arts                 1339\n",
       "Activision                       966\n",
       "Namco Bandai Games               928\n",
       "Ubisoft                          918\n",
       "Konami Digital Entertainment     823\n",
       "                                ... \n",
       "Detn8 Games                        1\n",
       "Pow                                1\n",
       "Navarre Corp                       1\n",
       "MediaQuest                         1\n",
       "UIG Entertainment                  1\n",
       "Name: Publisher, Length: 576, dtype: int64"
      ]
     },
     "execution_count": 39,
     "metadata": {},
     "output_type": "execute_result"
    }
   ],
   "source": [
    "games.Publisher.value_counts()"
   ]
  },
  {
   "cell_type": "markdown",
   "id": "4dcc4f57",
   "metadata": {},
   "source": [
    "Ответ: Electronic Arts 1339\n",
    "\n",
    "### 6. Сфокусируемся на играх от Nintendo. Посчитайте среднее, медиану и стандартное отклонение по продажам игр данного издателя в разных регионах (NA, EU, JP, Other). \n",
    "\n",
    "**В каком регионе медианное значение объема продаж является наибольшим?**\n",
    "\n",
    "Hint: mean, median, std. Переменные: NA_sales и т.д. для нужных регионов."
   ]
  },
  {
   "cell_type": "code",
   "execution_count": 44,
   "id": "0082b68e",
   "metadata": {},
   "outputs": [
    {
     "data": {
      "text/html": [
       "<div>\n",
       "<style scoped>\n",
       "    .dataframe tbody tr th:only-of-type {\n",
       "        vertical-align: middle;\n",
       "    }\n",
       "\n",
       "    .dataframe tbody tr th {\n",
       "        vertical-align: top;\n",
       "    }\n",
       "\n",
       "    .dataframe thead th {\n",
       "        text-align: right;\n",
       "    }\n",
       "</style>\n",
       "<table border=\"1\" class=\"dataframe\">\n",
       "  <thead>\n",
       "    <tr style=\"text-align: right;\">\n",
       "      <th></th>\n",
       "      <th>Rank</th>\n",
       "      <th>Name</th>\n",
       "      <th>Platform</th>\n",
       "      <th>Year</th>\n",
       "      <th>Genre</th>\n",
       "      <th>Publisher</th>\n",
       "      <th>NA_Sales</th>\n",
       "      <th>EU_Sales</th>\n",
       "      <th>JP_Sales</th>\n",
       "      <th>Other_Sales</th>\n",
       "      <th>Global_Sales</th>\n",
       "    </tr>\n",
       "  </thead>\n",
       "  <tbody>\n",
       "    <tr>\n",
       "      <th>0</th>\n",
       "      <td>1</td>\n",
       "      <td>Wii Sports</td>\n",
       "      <td>Wii</td>\n",
       "      <td>2006.0</td>\n",
       "      <td>Sports</td>\n",
       "      <td>Nintendo</td>\n",
       "      <td>41.49</td>\n",
       "      <td>29.02</td>\n",
       "      <td>3.77</td>\n",
       "      <td>8.46</td>\n",
       "      <td>82.74</td>\n",
       "    </tr>\n",
       "    <tr>\n",
       "      <th>1</th>\n",
       "      <td>2</td>\n",
       "      <td>Super Mario Bros.</td>\n",
       "      <td>NES</td>\n",
       "      <td>1985.0</td>\n",
       "      <td>Platform</td>\n",
       "      <td>Nintendo</td>\n",
       "      <td>29.08</td>\n",
       "      <td>3.58</td>\n",
       "      <td>6.81</td>\n",
       "      <td>0.77</td>\n",
       "      <td>40.24</td>\n",
       "    </tr>\n",
       "    <tr>\n",
       "      <th>2</th>\n",
       "      <td>3</td>\n",
       "      <td>Mario Kart Wii</td>\n",
       "      <td>Wii</td>\n",
       "      <td>2008.0</td>\n",
       "      <td>Racing</td>\n",
       "      <td>Nintendo</td>\n",
       "      <td>15.85</td>\n",
       "      <td>12.88</td>\n",
       "      <td>3.79</td>\n",
       "      <td>3.31</td>\n",
       "      <td>35.82</td>\n",
       "    </tr>\n",
       "    <tr>\n",
       "      <th>3</th>\n",
       "      <td>4</td>\n",
       "      <td>Wii Sports Resort</td>\n",
       "      <td>Wii</td>\n",
       "      <td>2009.0</td>\n",
       "      <td>Sports</td>\n",
       "      <td>Nintendo</td>\n",
       "      <td>15.75</td>\n",
       "      <td>11.01</td>\n",
       "      <td>3.28</td>\n",
       "      <td>2.96</td>\n",
       "      <td>33.00</td>\n",
       "    </tr>\n",
       "    <tr>\n",
       "      <th>4</th>\n",
       "      <td>5</td>\n",
       "      <td>Pokemon Red/Pokemon Blue</td>\n",
       "      <td>GB</td>\n",
       "      <td>1996.0</td>\n",
       "      <td>Role-Playing</td>\n",
       "      <td>Nintendo</td>\n",
       "      <td>11.27</td>\n",
       "      <td>8.89</td>\n",
       "      <td>10.22</td>\n",
       "      <td>1.00</td>\n",
       "      <td>31.37</td>\n",
       "    </tr>\n",
       "  </tbody>\n",
       "</table>\n",
       "</div>"
      ],
      "text/plain": [
       "   Rank                      Name Platform    Year         Genre Publisher  \\\n",
       "0     1                Wii Sports      Wii  2006.0        Sports  Nintendo   \n",
       "1     2         Super Mario Bros.      NES  1985.0      Platform  Nintendo   \n",
       "2     3            Mario Kart Wii      Wii  2008.0        Racing  Nintendo   \n",
       "3     4         Wii Sports Resort      Wii  2009.0        Sports  Nintendo   \n",
       "4     5  Pokemon Red/Pokemon Blue       GB  1996.0  Role-Playing  Nintendo   \n",
       "\n",
       "   NA_Sales  EU_Sales  JP_Sales  Other_Sales  Global_Sales  \n",
       "0     41.49     29.02      3.77         8.46         82.74  \n",
       "1     29.08      3.58      6.81         0.77         40.24  \n",
       "2     15.85     12.88      3.79         3.31         35.82  \n",
       "3     15.75     11.01      3.28         2.96         33.00  \n",
       "4     11.27      8.89     10.22         1.00         31.37  "
      ]
     },
     "execution_count": 44,
     "metadata": {},
     "output_type": "execute_result"
    }
   ],
   "source": [
    "nintendo = games.query(\"Publisher == 'Nintendo'\")\n",
    "nintendo.head()"
   ]
  },
  {
   "cell_type": "code",
   "execution_count": 45,
   "id": "2f98264b",
   "metadata": {},
   "outputs": [
    {
     "data": {
      "text/plain": [
       "1.1720545977011492"
      ]
     },
     "execution_count": 45,
     "metadata": {},
     "output_type": "execute_result"
    }
   ],
   "source": [
    "nintendo.NA_Sales.mean()"
   ]
  },
  {
   "cell_type": "code",
   "execution_count": 46,
   "id": "0cad7de9",
   "metadata": {},
   "outputs": [
    {
     "data": {
      "text/plain": [
       "0.375"
      ]
     },
     "execution_count": 46,
     "metadata": {},
     "output_type": "execute_result"
    }
   ],
   "source": [
    "nintendo.NA_Sales.median()"
   ]
  },
  {
   "cell_type": "code",
   "execution_count": 47,
   "id": "e3a1012b",
   "metadata": {},
   "outputs": [
    {
     "data": {
      "text/plain": [
       "2.9899128164968642"
      ]
     },
     "execution_count": 47,
     "metadata": {},
     "output_type": "execute_result"
    }
   ],
   "source": [
    "nintendo.NA_Sales.std()"
   ]
  },
  {
   "cell_type": "code",
   "execution_count": 48,
   "id": "610304e9",
   "metadata": {},
   "outputs": [
    {
     "data": {
      "text/plain": [
       "0.6010057471264366"
      ]
     },
     "execution_count": 48,
     "metadata": {},
     "output_type": "execute_result"
    }
   ],
   "source": [
    "nintendo.EU_Sales.mean()"
   ]
  },
  {
   "cell_type": "code",
   "execution_count": 49,
   "id": "cbb05a0c",
   "metadata": {},
   "outputs": [
    {
     "data": {
      "text/plain": [
       "0.12"
      ]
     },
     "execution_count": 49,
     "metadata": {},
     "output_type": "execute_result"
    }
   ],
   "source": [
    "nintendo.EU_Sales.median()"
   ]
  },
  {
   "cell_type": "code",
   "execution_count": 50,
   "id": "709a3a74",
   "metadata": {},
   "outputs": [
    {
     "data": {
      "text/plain": [
       "1.743953375382063"
      ]
     },
     "execution_count": 50,
     "metadata": {},
     "output_type": "execute_result"
    }
   ],
   "source": [
    "nintendo.EU_Sales.std()"
   ]
  },
  {
   "cell_type": "code",
   "execution_count": 51,
   "id": "52cbc7db",
   "metadata": {},
   "outputs": [
    {
     "data": {
      "text/plain": [
       "0.6537212643678161"
      ]
     },
     "execution_count": 51,
     "metadata": {},
     "output_type": "execute_result"
    }
   ],
   "source": [
    "nintendo.JP_Sales.mean()"
   ]
  },
  {
   "cell_type": "code",
   "execution_count": 52,
   "id": "6eeab431",
   "metadata": {},
   "outputs": [
    {
     "data": {
      "text/plain": [
       "0.28"
      ]
     },
     "execution_count": 52,
     "metadata": {},
     "output_type": "execute_result"
    }
   ],
   "source": [
    "nintendo.JP_Sales.median()"
   ]
  },
  {
   "cell_type": "code",
   "execution_count": 53,
   "id": "fd582e53",
   "metadata": {},
   "outputs": [
    {
     "data": {
      "text/plain": [
       "1.063110044538652"
      ]
     },
     "execution_count": 53,
     "metadata": {},
     "output_type": "execute_result"
    }
   ],
   "source": [
    "nintendo.JP_Sales.std()"
   ]
  },
  {
   "cell_type": "code",
   "execution_count": 54,
   "id": "137dcc31",
   "metadata": {},
   "outputs": [
    {
     "data": {
      "text/plain": [
       "0.13676724137931034"
      ]
     },
     "execution_count": 54,
     "metadata": {},
     "output_type": "execute_result"
    }
   ],
   "source": [
    "nintendo.Other_Sales.mean()"
   ]
  },
  {
   "cell_type": "code",
   "execution_count": 55,
   "id": "6ea6f7cd",
   "metadata": {},
   "outputs": [
    {
     "data": {
      "text/plain": [
       "0.03"
      ]
     },
     "execution_count": 55,
     "metadata": {},
     "output_type": "execute_result"
    }
   ],
   "source": [
    "nintendo.Other_Sales.median()"
   ]
  },
  {
   "cell_type": "code",
   "execution_count": 56,
   "id": "13563333",
   "metadata": {},
   "outputs": [
    {
     "data": {
      "text/plain": [
       "0.4641703766411941"
      ]
     },
     "execution_count": 56,
     "metadata": {},
     "output_type": "execute_result"
    }
   ],
   "source": [
    "nintendo.Other_Sales.std()"
   ]
  },
  {
   "cell_type": "markdown",
   "id": "2970bad0",
   "metadata": {},
   "source": [
    "* **NA (North America)**\n",
    "* EU (Europe)\n",
    "* JP (Japan)\n",
    "* Other\n",
    "\n",
    "### 7. Теперь посмотрим на продажи Nintendo в Японии по жанрам. Постройте боксплот, где:\n",
    "\n",
    "* по оси x будет расположен жанр игры (Genre)\n",
    "* по оси у – объем продаж в Японии (JP_sales)\n",
    "\n",
    "**Взглянем на получившиеся боксплоты. Что мы можем по ним сказать о данных?**\n",
    "\n",
    "Hint: sns.boxplot(). Для удобства можете изменить размер графика, например: plt.figure(figsize=(16,16))"
   ]
  },
  {
   "cell_type": "code",
   "execution_count": 72,
   "id": "dda0c8d1",
   "metadata": {},
   "outputs": [
    {
     "data": {
      "image/png": "[encoded data removed]",
      "text/plain": [
       "<Figure size 1152x1152 with 1 Axes>"
      ]
     },
     "metadata": {
      "needs_background": "light"
     },
     "output_type": "display_data"
    }
   ],
   "source": [
    "plt.figure(figsize=(16,16))\n",
    "sns.boxplot(x=nintendo.Genre, y=nintendo.JP_Sales)\n",
    "sns.despine()"
   ]
  },
  {
   "cell_type": "markdown",
   "id": "154464f1",
   "metadata": {},
   "source": [
    "* **Межквартильный размах у Strategy меньше, чем у Puzzle**\n",
    "* **Медианное значение продаж игр жанра Fighting выше, чем у игр Simulation**\n",
    "* **Наибольший межквартильный размах наблюдается у игр жанра Fighting**\n",
    "* Наибольший межквартильный размах наблюдается у игр жанра Role-Playing\n",
    "* Среднее значение продаж игр жанра Fighting выше, чем у игр Simulation\n",
    "\n",
    "### 8. Визуализируйте динамику изменения объема мировых продаж (Global_Sales) по годам для игр Nintendo следующих жанров: Fighting, Simulation, Platform, Racing, Sports.\n",
    "\n",
    "**На каком отрезке времени игры жанра Sports были наиболее популярны? Иными словами, выберите наименьший отрезок, который включает в себя несколько крупных пиков.**"
   ]
  },
  {
   "cell_type": "code",
   "execution_count": 91,
   "id": "51e17503",
   "metadata": {},
   "outputs": [
    {
     "data": {
      "text/html": [
       "<div>\n",
       "<style scoped>\n",
       "    .dataframe tbody tr th:only-of-type {\n",
       "        vertical-align: middle;\n",
       "    }\n",
       "\n",
       "    .dataframe tbody tr th {\n",
       "        vertical-align: top;\n",
       "    }\n",
       "\n",
       "    .dataframe thead th {\n",
       "        text-align: right;\n",
       "    }\n",
       "</style>\n",
       "<table border=\"1\" class=\"dataframe\">\n",
       "  <thead>\n",
       "    <tr style=\"text-align: right;\">\n",
       "      <th></th>\n",
       "      <th>Year</th>\n",
       "      <th>Genre</th>\n",
       "      <th>Global_Sales</th>\n",
       "    </tr>\n",
       "  </thead>\n",
       "  <tbody>\n",
       "    <tr>\n",
       "      <th>0</th>\n",
       "      <td>1983.0</td>\n",
       "      <td>Platform</td>\n",
       "      <td>5.62</td>\n",
       "    </tr>\n",
       "    <tr>\n",
       "      <th>1</th>\n",
       "      <td>1983.0</td>\n",
       "      <td>Sports</td>\n",
       "      <td>3.20</td>\n",
       "    </tr>\n",
       "    <tr>\n",
       "      <th>2</th>\n",
       "      <td>1984.0</td>\n",
       "      <td>Racing</td>\n",
       "      <td>5.68</td>\n",
       "    </tr>\n",
       "    <tr>\n",
       "      <th>3</th>\n",
       "      <td>1984.0</td>\n",
       "      <td>Sports</td>\n",
       "      <td>6.18</td>\n",
       "    </tr>\n",
       "    <tr>\n",
       "      <th>4</th>\n",
       "      <td>1985.0</td>\n",
       "      <td>Platform</td>\n",
       "      <td>43.17</td>\n",
       "    </tr>\n",
       "  </tbody>\n",
       "</table>\n",
       "</div>"
      ],
      "text/plain": [
       "     Year     Genre  Global_Sales\n",
       "0  1983.0  Platform          5.62\n",
       "1  1983.0    Sports          3.20\n",
       "2  1984.0    Racing          5.68\n",
       "3  1984.0    Sports          6.18\n",
       "4  1985.0  Platform         43.17"
      ]
     },
     "execution_count": 91,
     "metadata": {},
     "output_type": "execute_result"
    }
   ],
   "source": [
    "global_genres = nintendo.query(\"Genre in ('Fighting', 'Simulation', 'Platform', 'Racing', 'Sports')\") \\\n",
    "        .groupby(['Year', 'Genre'], as_index=False).Global_Sales.sum()\n",
    "global_genres.head()"
   ]
  },
  {
   "cell_type": "code",
   "execution_count": 93,
   "id": "a7732da6",
   "metadata": {},
   "outputs": [
    {
     "data": {
      "image/png": "[encoded data removed]",
      "text/plain": [
       "<Figure size 1152x1152 with 1 Axes>"
      ]
     },
     "metadata": {
      "needs_background": "light"
     },
     "output_type": "display_data"
    }
   ],
   "source": [
    "plt.figure(figsize=(16,16))\n",
    "sns.lineplot(x = global_genres.Year, y = global_genres.Global_Sales, hue = global_genres.Genre, data = global_genres)\n",
    "sns.despine()"
   ]
  },
  {
   "cell_type": "markdown",
   "id": "b6ae2a2a",
   "metadata": {},
   "source": [
    "* 2005 – 2006\n",
    "* 1998 – 2014\n",
    "* 2009 – 2015\n",
    "* **2005 – 2010**"
   ]
  }
 ],
 "metadata": {
  "kernelspec": {
   "display_name": "Python 3 (ipykernel)",
   "language": "python",
   "name": "python3"
  },
  "language_info": {
   "codemirror_mode": {
    "name": "ipython",
    "version": 3
   },
   "file_extension": ".py",
   "mimetype": "text/x-python",
   "name": "python",
   "nbconvert_exporter": "python",
   "pygments_lexer": "ipython3",
   "version": "3.10.4"
  }
 },
 "nbformat": 4,
 "nbformat_minor": 5
}
