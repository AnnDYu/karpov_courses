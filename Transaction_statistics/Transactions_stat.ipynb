{
 "cells": [
  {
   "cell_type": "code",
   "execution_count": 1,
   "id": "17f78be0",
   "metadata": {},
   "outputs": [],
   "source": [
    "import pandas as pd\n",
    "import seaborn as sns\n",
    "import matplotlib.pyplot as plt\n",
    "\n",
    "%matplotlib inline"
   ]
  },
  {
   "cell_type": "markdown",
   "id": "bf36eacd",
   "metadata": {},
   "source": [
    "Загрузим датасет transaction_data.csv. \n",
    "Проверьте размер таблицы, типы переменных, число пропущенных значений и описательную статистику."
   ]
  },
  {
   "cell_type": "code",
   "execution_count": 2,
   "id": "549945cd",
   "metadata": {},
   "outputs": [],
   "source": [
    "transaction_data = pd.read_csv('C:/Users/Александр/Projects/projects/Transaction_statistics/transaction_data.csv')"
   ]
  },
  {
   "cell_type": "code",
   "execution_count": 3,
   "id": "49d4cfca",
   "metadata": {},
   "outputs": [
    {
     "data": {
      "text/plain": [
       "(5315, 3)"
      ]
     },
     "execution_count": 3,
     "metadata": {},
     "output_type": "execute_result"
    }
   ],
   "source": [
    "transaction_data.shape\n",
    "#Размер таблицы"
   ]
  },
  {
   "cell_type": "code",
   "execution_count": 4,
   "id": "413ff4e6",
   "metadata": {},
   "outputs": [
    {
     "data": {
      "text/plain": [
       "date           object\n",
       "name           object\n",
       "transaction    object\n",
       "dtype: object"
      ]
     },
     "execution_count": 4,
     "metadata": {},
     "output_type": "execute_result"
    }
   ],
   "source": [
    "transaction_data.dtypes\n",
    "# типы переменных"
   ]
  },
  {
   "cell_type": "code",
   "execution_count": 5,
   "id": "45e31355",
   "metadata": {},
   "outputs": [
    {
     "data": {
      "text/html": [
       "<div>\n",
       "<style scoped>\n",
       "    .dataframe tbody tr th:only-of-type {\n",
       "        vertical-align: middle;\n",
       "    }\n",
       "\n",
       "    .dataframe tbody tr th {\n",
       "        vertical-align: top;\n",
       "    }\n",
       "\n",
       "    .dataframe thead th {\n",
       "        text-align: right;\n",
       "    }\n",
       "</style>\n",
       "<table border=\"1\" class=\"dataframe\">\n",
       "  <thead>\n",
       "    <tr style=\"text-align: right;\">\n",
       "      <th></th>\n",
       "      <th>date</th>\n",
       "      <th>name</th>\n",
       "      <th>transaction</th>\n",
       "    </tr>\n",
       "  </thead>\n",
       "  <tbody>\n",
       "    <tr>\n",
       "      <th>count</th>\n",
       "      <td>5315</td>\n",
       "      <td>5315</td>\n",
       "      <td>5315</td>\n",
       "    </tr>\n",
       "    <tr>\n",
       "      <th>unique</th>\n",
       "      <td>3373</td>\n",
       "      <td>56</td>\n",
       "      <td>3</td>\n",
       "    </tr>\n",
       "    <tr>\n",
       "      <th>top</th>\n",
       "      <td>2020-03-02 00:33:10</td>\n",
       "      <td>Masha_Ozerova</td>\n",
       "      <td>successfull</td>\n",
       "    </tr>\n",
       "    <tr>\n",
       "      <th>freq</th>\n",
       "      <td>6</td>\n",
       "      <td>112</td>\n",
       "      <td>3692</td>\n",
       "    </tr>\n",
       "  </tbody>\n",
       "</table>\n",
       "</div>"
      ],
      "text/plain": [
       "                       date           name  transaction\n",
       "count                  5315           5315         5315\n",
       "unique                 3373             56            3\n",
       "top     2020-03-02 00:33:10  Masha_Ozerova  successfull\n",
       "freq                      6            112         3692"
      ]
     },
     "execution_count": 5,
     "metadata": {},
     "output_type": "execute_result"
    }
   ],
   "source": [
    "transaction_data.describe()\n",
    "# описательная статистика"
   ]
  },
  {
   "cell_type": "code",
   "execution_count": 6,
   "id": "685424c1",
   "metadata": {},
   "outputs": [
    {
     "data": {
      "text/plain": [
       "date           0\n",
       "name           0\n",
       "transaction    0\n",
       "dtype: int64"
      ]
     },
     "execution_count": 6,
     "metadata": {},
     "output_type": "execute_result"
    }
   ],
   "source": [
    "transaction_data.isna().sum()\n",
    "# число пропущенных значений"
   ]
  },
  {
   "cell_type": "markdown",
   "id": "6e253960",
   "metadata": {},
   "source": [
    "Проверим, какие значения принимает колонка transaction.\n",
    "Сколько наблюдений относятся к тому или иному уровню? \n",
    "Визуализируем результат с помощью барплота.\n",
    "Расположим уровни переменной в порядке убывания числа относящихся наблюдений (от большего к меньшему)"
   ]
  },
  {
   "cell_type": "code",
   "execution_count": 7,
   "id": "659dae76",
   "metadata": {},
   "outputs": [],
   "source": [
    "transaction_type = transaction_data.groupby('transaction', as_index=False) \\\n",
    "                                   .agg({'name' : 'count'}) \\\n",
    "                                   .sort_values('name', ascending=False) \\\n",
    "                                   .rename(columns={'name' : 'count_of_type'})"
   ]
  },
  {
   "cell_type": "code",
   "execution_count": 8,
   "id": "d9af640d",
   "metadata": {},
   "outputs": [
    {
     "data": {
      "text/html": [
       "<div>\n",
       "<style scoped>\n",
       "    .dataframe tbody tr th:only-of-type {\n",
       "        vertical-align: middle;\n",
       "    }\n",
       "\n",
       "    .dataframe tbody tr th {\n",
       "        vertical-align: top;\n",
       "    }\n",
       "\n",
       "    .dataframe thead th {\n",
       "        text-align: right;\n",
       "    }\n",
       "</style>\n",
       "<table border=\"1\" class=\"dataframe\">\n",
       "  <thead>\n",
       "    <tr style=\"text-align: right;\">\n",
       "      <th></th>\n",
       "      <th>transaction</th>\n",
       "      <th>count_of_type</th>\n",
       "    </tr>\n",
       "  </thead>\n",
       "  <tbody>\n",
       "    <tr>\n",
       "      <th>2</th>\n",
       "      <td>successfull</td>\n",
       "      <td>3692</td>\n",
       "    </tr>\n",
       "    <tr>\n",
       "      <th>0</th>\n",
       "      <td>cancelled</td>\n",
       "      <td>1619</td>\n",
       "    </tr>\n",
       "    <tr>\n",
       "      <th>1</th>\n",
       "      <td>error</td>\n",
       "      <td>4</td>\n",
       "    </tr>\n",
       "  </tbody>\n",
       "</table>\n",
       "</div>"
      ],
      "text/plain": [
       "   transaction  count_of_type\n",
       "2  successfull           3692\n",
       "0    cancelled           1619\n",
       "1        error              4"
      ]
     },
     "execution_count": 8,
     "metadata": {},
     "output_type": "execute_result"
    }
   ],
   "source": [
    "transaction_type"
   ]
  },
  {
   "cell_type": "code",
   "execution_count": 9,
   "id": "d429ade6",
   "metadata": {},
   "outputs": [
    {
     "data": {
      "image/png": "[encoded data removed]",
      "text/plain": [
       "<Figure size 432x288 with 1 Axes>"
      ]
     },
     "metadata": {
      "needs_background": "light"
     },
     "output_type": "display_data"
    }
   ],
   "source": [
    "ax = sns.barplot(x=transaction_type.transaction, y=transaction_type.count_of_type)"
   ]
  },
  {
   "cell_type": "markdown",
   "id": "5e70d683",
   "metadata": {},
   "source": [
    "Сколько произошло ошибок?"
   ]
  },
  {
   "cell_type": "code",
   "execution_count": 10,
   "id": "8eddb2c6",
   "metadata": {},
   "outputs": [
    {
     "data": {
      "text/html": [
       "<div>\n",
       "<style scoped>\n",
       "    .dataframe tbody tr th:only-of-type {\n",
       "        vertical-align: middle;\n",
       "    }\n",
       "\n",
       "    .dataframe tbody tr th {\n",
       "        vertical-align: top;\n",
       "    }\n",
       "\n",
       "    .dataframe thead th {\n",
       "        text-align: right;\n",
       "    }\n",
       "</style>\n",
       "<table border=\"1\" class=\"dataframe\">\n",
       "  <thead>\n",
       "    <tr style=\"text-align: right;\">\n",
       "      <th></th>\n",
       "      <th>transaction</th>\n",
       "      <th>count_of_type</th>\n",
       "    </tr>\n",
       "  </thead>\n",
       "  <tbody>\n",
       "    <tr>\n",
       "      <th>1</th>\n",
       "      <td>error</td>\n",
       "      <td>4</td>\n",
       "    </tr>\n",
       "  </tbody>\n",
       "</table>\n",
       "</div>"
      ],
      "text/plain": [
       "  transaction  count_of_type\n",
       "1       error              4"
      ]
     },
     "execution_count": 10,
     "metadata": {},
     "output_type": "execute_result"
    }
   ],
   "source": [
    "transaction_type_errors = transaction_type.query(\"transaction == 'error'\")\n",
    "transaction_type_errors"
   ]
  },
  {
   "cell_type": "markdown",
   "id": "2f8a3e13",
   "metadata": {},
   "source": [
    "Cколько транзакций осуществил каждый из пользователей? Осуществлёнными считаются транзакции со значением successfull\n",
    "Посмотрим на характеристики распределения,\n",
    "а затем построим гистограмму числа успешных транзакций, совершённых каждым пользователем, где\n",
    "по оси x – число транзакций\n",
    "по оси y – доля пользователей с таким числом транзакций"
   ]
  },
  {
   "cell_type": "code",
   "execution_count": 12,
   "id": "1f1b664a",
   "metadata": {},
   "outputs": [],
   "source": [
    "successful_transactions = transaction_data.query(\"transaction =='successfull'\") \\\n",
    "                                          .groupby('name', as_index=False) \\\n",
    "                                          .agg({'transaction': 'count'}) \\\n",
    "                                          .sort_values('transaction', ascending=False)"
   ]
  },
  {
   "cell_type": "code",
   "execution_count": 13,
   "id": "61a42c86",
   "metadata": {},
   "outputs": [
    {
     "data": {
      "text/html": [
       "<div>\n",
       "<style scoped>\n",
       "    .dataframe tbody tr th:only-of-type {\n",
       "        vertical-align: middle;\n",
       "    }\n",
       "\n",
       "    .dataframe tbody tr th {\n",
       "        vertical-align: top;\n",
       "    }\n",
       "\n",
       "    .dataframe thead th {\n",
       "        text-align: right;\n",
       "    }\n",
       "</style>\n",
       "<table border=\"1\" class=\"dataframe\">\n",
       "  <thead>\n",
       "    <tr style=\"text-align: right;\">\n",
       "      <th></th>\n",
       "      <th>transaction</th>\n",
       "    </tr>\n",
       "  </thead>\n",
       "  <tbody>\n",
       "    <tr>\n",
       "      <th>count</th>\n",
       "      <td>56.000000</td>\n",
       "    </tr>\n",
       "    <tr>\n",
       "      <th>mean</th>\n",
       "      <td>65.928571</td>\n",
       "    </tr>\n",
       "    <tr>\n",
       "      <th>std</th>\n",
       "      <td>7.787769</td>\n",
       "    </tr>\n",
       "    <tr>\n",
       "      <th>min</th>\n",
       "      <td>46.000000</td>\n",
       "    </tr>\n",
       "    <tr>\n",
       "      <th>25%</th>\n",
       "      <td>61.000000</td>\n",
       "    </tr>\n",
       "    <tr>\n",
       "      <th>50%</th>\n",
       "      <td>64.000000</td>\n",
       "    </tr>\n",
       "    <tr>\n",
       "      <th>75%</th>\n",
       "      <td>72.000000</td>\n",
       "    </tr>\n",
       "    <tr>\n",
       "      <th>max</th>\n",
       "      <td>82.000000</td>\n",
       "    </tr>\n",
       "  </tbody>\n",
       "</table>\n",
       "</div>"
      ],
      "text/plain": [
       "       transaction\n",
       "count    56.000000\n",
       "mean     65.928571\n",
       "std       7.787769\n",
       "min      46.000000\n",
       "25%      61.000000\n",
       "50%      64.000000\n",
       "75%      72.000000\n",
       "max      82.000000"
      ]
     },
     "execution_count": 13,
     "metadata": {},
     "output_type": "execute_result"
    }
   ],
   "source": [
    "successful_transactions.describe()"
   ]
  },
  {
   "cell_type": "code",
   "execution_count": 14,
   "id": "a214c2f0",
   "metadata": {},
   "outputs": [
    {
     "name": "stderr",
     "output_type": "stream",
     "text": [
      "C:\\Users\\Александр\\AppData\\Local\\Programs\\Python\\Python310\\lib\\site-packages\\seaborn\\distributions.py:2619: FutureWarning: `distplot` is a deprecated function and will be removed in a future version. Please adapt your code to use either `displot` (a figure-level function with similar flexibility) or `histplot` (an axes-level function for histograms).\n",
      "  warnings.warn(msg, FutureWarning)\n"
     ]
    },
    {
     "data": {
      "image/png": "[encoded data removed]",
      "text/plain": [
       "<Figure size 432x288 with 1 Axes>"
      ]
     },
     "metadata": {
      "needs_background": "light"
     },
     "output_type": "display_data"
    }
   ],
   "source": [
    "ax = sns.distplot(successful_transaction.transaction)"
   ]
  },
  {
   "cell_type": "markdown",
   "id": "c6f80a4c",
   "metadata": {},
   "source": [
    "К вам пришёл коллега с немного обновленными данными. Постройте сводную таблицу user_vs_minute_pivot, где: столбцы – имена пользователей строки – минута времени осуществления операции (minute) значения – число совершённых операций Пропущенные значения заполните нулями."
   ]
  },
  {
   "cell_type": "code",
   "execution_count": 15,
   "id": "fa8de508",
   "metadata": {},
   "outputs": [],
   "source": [
    "transaction_data_updated = pd.read_csv('C:/Users/Александр/Projects/projects/Transaction_statistics/transaction_data_updated.csv')"
   ]
  },
  {
   "cell_type": "code",
   "execution_count": 16,
   "id": "ef7e29d6",
   "metadata": {},
   "outputs": [
    {
     "data": {
      "text/html": [
       "<div>\n",
       "<style scoped>\n",
       "    .dataframe tbody tr th:only-of-type {\n",
       "        vertical-align: middle;\n",
       "    }\n",
       "\n",
       "    .dataframe tbody tr th {\n",
       "        vertical-align: top;\n",
       "    }\n",
       "\n",
       "    .dataframe thead th {\n",
       "        text-align: right;\n",
       "    }\n",
       "</style>\n",
       "<table border=\"1\" class=\"dataframe\">\n",
       "  <thead>\n",
       "    <tr style=\"text-align: right;\">\n",
       "      <th></th>\n",
       "      <th>date</th>\n",
       "      <th>name</th>\n",
       "      <th>transaction</th>\n",
       "      <th>minute</th>\n",
       "    </tr>\n",
       "  </thead>\n",
       "  <tbody>\n",
       "    <tr>\n",
       "      <th>0</th>\n",
       "      <td>2020-03-02 00:37:20</td>\n",
       "      <td>Ekaterina_Petrova</td>\n",
       "      <td>cancelled</td>\n",
       "      <td>37</td>\n",
       "    </tr>\n",
       "    <tr>\n",
       "      <th>1</th>\n",
       "      <td>2020-03-02 00:59:09</td>\n",
       "      <td>Irina_Fedorova</td>\n",
       "      <td>successfull</td>\n",
       "      <td>59</td>\n",
       "    </tr>\n",
       "    <tr>\n",
       "      <th>2</th>\n",
       "      <td>2020-03-02 01:06:14</td>\n",
       "      <td>Ekaterina_Smirnova</td>\n",
       "      <td>successfull</td>\n",
       "      <td>6</td>\n",
       "    </tr>\n",
       "    <tr>\n",
       "      <th>3</th>\n",
       "      <td>2020-03-02 00:02:58</td>\n",
       "      <td>Lolita_Polyanova</td>\n",
       "      <td>cancelled</td>\n",
       "      <td>2</td>\n",
       "    </tr>\n",
       "    <tr>\n",
       "      <th>4</th>\n",
       "      <td>2020-03-02 00:17:52</td>\n",
       "      <td>Julia_Smirnova</td>\n",
       "      <td>cancelled</td>\n",
       "      <td>17</td>\n",
       "    </tr>\n",
       "  </tbody>\n",
       "</table>\n",
       "</div>"
      ],
      "text/plain": [
       "                  date                name  transaction  minute\n",
       "0  2020-03-02 00:37:20   Ekaterina_Petrova    cancelled      37\n",
       "1  2020-03-02 00:59:09      Irina_Fedorova  successfull      59\n",
       "2  2020-03-02 01:06:14  Ekaterina_Smirnova  successfull       6\n",
       "3  2020-03-02 00:02:58    Lolita_Polyanova    cancelled       2\n",
       "4  2020-03-02 00:17:52      Julia_Smirnova    cancelled      17"
      ]
     },
     "execution_count": 16,
     "metadata": {},
     "output_type": "execute_result"
    }
   ],
   "source": [
    "transaction_data_updated.head()"
   ]
  },
  {
   "cell_type": "code",
   "execution_count": 18,
   "id": "05f548db",
   "metadata": {},
   "outputs": [],
   "source": [
    "user_vs_minute_pivot = transaction_data_updated.groupby(['name', 'minute'], as_index=False) \\\n",
    "                                               .size()\n",
    "user_vs_minute_pivot = user_vs_minute_pivot.pivot(index='minute', columns='name', values='size')\n",
    "user_vs_minute_pivot = user_vs_minute_pivot.fillna(0)"
   ]
  },
  {
   "cell_type": "code",
   "execution_count": 19,
   "id": "e7c1fcd3",
   "metadata": {},
   "outputs": [
    {
     "data": {
      "text/html": [
       "<div>\n",
       "<style scoped>\n",
       "    .dataframe tbody tr th:only-of-type {\n",
       "        vertical-align: middle;\n",
       "    }\n",
       "\n",
       "    .dataframe tbody tr th {\n",
       "        vertical-align: top;\n",
       "    }\n",
       "\n",
       "    .dataframe thead th {\n",
       "        text-align: right;\n",
       "    }\n",
       "</style>\n",
       "<table border=\"1\" class=\"dataframe\">\n",
       "  <thead>\n",
       "    <tr style=\"text-align: right;\">\n",
       "      <th>name</th>\n",
       "      <th>Ekaterina_Fedorova</th>\n",
       "      <th>Ekaterina_Ivanova</th>\n",
       "      <th>Ekaterina_Lesnova</th>\n",
       "      <th>Ekaterina_Ozerova</th>\n",
       "      <th>Ekaterina_Petrova</th>\n",
       "      <th>Ekaterina_Polyanova</th>\n",
       "      <th>Ekaterina_Smirnova</th>\n",
       "      <th>Irina_Fedorova</th>\n",
       "      <th>Irina_Ivanova</th>\n",
       "      <th>Irina_Lesnova</th>\n",
       "      <th>...</th>\n",
       "      <th>Svetlana_Petrova</th>\n",
       "      <th>Svetlana_Polyanova</th>\n",
       "      <th>Svetlana_Smirnova</th>\n",
       "      <th>Vasilisa_Fedorova</th>\n",
       "      <th>Vasilisa_Ivanova</th>\n",
       "      <th>Vasilisa_Lesnova</th>\n",
       "      <th>Vasilisa_Ozerova</th>\n",
       "      <th>Vasilisa_Petrova</th>\n",
       "      <th>Vasilisa_Polyanova</th>\n",
       "      <th>Vasilisa_Smirnova</th>\n",
       "    </tr>\n",
       "    <tr>\n",
       "      <th>minute</th>\n",
       "      <th></th>\n",
       "      <th></th>\n",
       "      <th></th>\n",
       "      <th></th>\n",
       "      <th></th>\n",
       "      <th></th>\n",
       "      <th></th>\n",
       "      <th></th>\n",
       "      <th></th>\n",
       "      <th></th>\n",
       "      <th></th>\n",
       "      <th></th>\n",
       "      <th></th>\n",
       "      <th></th>\n",
       "      <th></th>\n",
       "      <th></th>\n",
       "      <th></th>\n",
       "      <th></th>\n",
       "      <th></th>\n",
       "      <th></th>\n",
       "      <th></th>\n",
       "    </tr>\n",
       "  </thead>\n",
       "  <tbody>\n",
       "    <tr>\n",
       "      <th>0</th>\n",
       "      <td>3.0</td>\n",
       "      <td>4.0</td>\n",
       "      <td>2.0</td>\n",
       "      <td>3.0</td>\n",
       "      <td>4.0</td>\n",
       "      <td>4.0</td>\n",
       "      <td>2.0</td>\n",
       "      <td>1.0</td>\n",
       "      <td>2.0</td>\n",
       "      <td>2.0</td>\n",
       "      <td>...</td>\n",
       "      <td>0.0</td>\n",
       "      <td>3.0</td>\n",
       "      <td>1.0</td>\n",
       "      <td>1.0</td>\n",
       "      <td>4.0</td>\n",
       "      <td>1.0</td>\n",
       "      <td>3.0</td>\n",
       "      <td>0.0</td>\n",
       "      <td>0.0</td>\n",
       "      <td>1.0</td>\n",
       "    </tr>\n",
       "    <tr>\n",
       "      <th>1</th>\n",
       "      <td>4.0</td>\n",
       "      <td>4.0</td>\n",
       "      <td>0.0</td>\n",
       "      <td>4.0</td>\n",
       "      <td>2.0</td>\n",
       "      <td>5.0</td>\n",
       "      <td>4.0</td>\n",
       "      <td>4.0</td>\n",
       "      <td>4.0</td>\n",
       "      <td>3.0</td>\n",
       "      <td>...</td>\n",
       "      <td>4.0</td>\n",
       "      <td>5.0</td>\n",
       "      <td>3.0</td>\n",
       "      <td>2.0</td>\n",
       "      <td>3.0</td>\n",
       "      <td>3.0</td>\n",
       "      <td>0.0</td>\n",
       "      <td>0.0</td>\n",
       "      <td>3.0</td>\n",
       "      <td>2.0</td>\n",
       "    </tr>\n",
       "    <tr>\n",
       "      <th>2</th>\n",
       "      <td>1.0</td>\n",
       "      <td>2.0</td>\n",
       "      <td>4.0</td>\n",
       "      <td>4.0</td>\n",
       "      <td>2.0</td>\n",
       "      <td>1.0</td>\n",
       "      <td>3.0</td>\n",
       "      <td>2.0</td>\n",
       "      <td>3.0</td>\n",
       "      <td>3.0</td>\n",
       "      <td>...</td>\n",
       "      <td>4.0</td>\n",
       "      <td>1.0</td>\n",
       "      <td>3.0</td>\n",
       "      <td>3.0</td>\n",
       "      <td>0.0</td>\n",
       "      <td>1.0</td>\n",
       "      <td>2.0</td>\n",
       "      <td>1.0</td>\n",
       "      <td>3.0</td>\n",
       "      <td>1.0</td>\n",
       "    </tr>\n",
       "    <tr>\n",
       "      <th>3</th>\n",
       "      <td>3.0</td>\n",
       "      <td>0.0</td>\n",
       "      <td>2.0</td>\n",
       "      <td>0.0</td>\n",
       "      <td>5.0</td>\n",
       "      <td>2.0</td>\n",
       "      <td>1.0</td>\n",
       "      <td>3.0</td>\n",
       "      <td>2.0</td>\n",
       "      <td>2.0</td>\n",
       "      <td>...</td>\n",
       "      <td>1.0</td>\n",
       "      <td>5.0</td>\n",
       "      <td>5.0</td>\n",
       "      <td>2.0</td>\n",
       "      <td>4.0</td>\n",
       "      <td>0.0</td>\n",
       "      <td>3.0</td>\n",
       "      <td>4.0</td>\n",
       "      <td>1.0</td>\n",
       "      <td>0.0</td>\n",
       "    </tr>\n",
       "    <tr>\n",
       "      <th>4</th>\n",
       "      <td>3.0</td>\n",
       "      <td>0.0</td>\n",
       "      <td>0.0</td>\n",
       "      <td>3.0</td>\n",
       "      <td>1.0</td>\n",
       "      <td>1.0</td>\n",
       "      <td>2.0</td>\n",
       "      <td>3.0</td>\n",
       "      <td>2.0</td>\n",
       "      <td>1.0</td>\n",
       "      <td>...</td>\n",
       "      <td>1.0</td>\n",
       "      <td>2.0</td>\n",
       "      <td>2.0</td>\n",
       "      <td>1.0</td>\n",
       "      <td>1.0</td>\n",
       "      <td>2.0</td>\n",
       "      <td>2.0</td>\n",
       "      <td>3.0</td>\n",
       "      <td>0.0</td>\n",
       "      <td>1.0</td>\n",
       "    </tr>\n",
       "    <tr>\n",
       "      <th>5</th>\n",
       "      <td>3.0</td>\n",
       "      <td>0.0</td>\n",
       "      <td>2.0</td>\n",
       "      <td>3.0</td>\n",
       "      <td>1.0</td>\n",
       "      <td>0.0</td>\n",
       "      <td>5.0</td>\n",
       "      <td>3.0</td>\n",
       "      <td>1.0</td>\n",
       "      <td>3.0</td>\n",
       "      <td>...</td>\n",
       "      <td>0.0</td>\n",
       "      <td>2.0</td>\n",
       "      <td>3.0</td>\n",
       "      <td>1.0</td>\n",
       "      <td>0.0</td>\n",
       "      <td>0.0</td>\n",
       "      <td>3.0</td>\n",
       "      <td>0.0</td>\n",
       "      <td>2.0</td>\n",
       "      <td>1.0</td>\n",
       "    </tr>\n",
       "    <tr>\n",
       "      <th>6</th>\n",
       "      <td>4.0</td>\n",
       "      <td>1.0</td>\n",
       "      <td>2.0</td>\n",
       "      <td>2.0</td>\n",
       "      <td>0.0</td>\n",
       "      <td>4.0</td>\n",
       "      <td>5.0</td>\n",
       "      <td>2.0</td>\n",
       "      <td>2.0</td>\n",
       "      <td>2.0</td>\n",
       "      <td>...</td>\n",
       "      <td>2.0</td>\n",
       "      <td>1.0</td>\n",
       "      <td>4.0</td>\n",
       "      <td>1.0</td>\n",
       "      <td>2.0</td>\n",
       "      <td>4.0</td>\n",
       "      <td>1.0</td>\n",
       "      <td>2.0</td>\n",
       "      <td>0.0</td>\n",
       "      <td>2.0</td>\n",
       "    </tr>\n",
       "    <tr>\n",
       "      <th>7</th>\n",
       "      <td>3.0</td>\n",
       "      <td>2.0</td>\n",
       "      <td>1.0</td>\n",
       "      <td>2.0</td>\n",
       "      <td>2.0</td>\n",
       "      <td>3.0</td>\n",
       "      <td>4.0</td>\n",
       "      <td>1.0</td>\n",
       "      <td>1.0</td>\n",
       "      <td>3.0</td>\n",
       "      <td>...</td>\n",
       "      <td>3.0</td>\n",
       "      <td>1.0</td>\n",
       "      <td>1.0</td>\n",
       "      <td>2.0</td>\n",
       "      <td>4.0</td>\n",
       "      <td>1.0</td>\n",
       "      <td>0.0</td>\n",
       "      <td>1.0</td>\n",
       "      <td>2.0</td>\n",
       "      <td>2.0</td>\n",
       "    </tr>\n",
       "    <tr>\n",
       "      <th>8</th>\n",
       "      <td>2.0</td>\n",
       "      <td>4.0</td>\n",
       "      <td>3.0</td>\n",
       "      <td>1.0</td>\n",
       "      <td>0.0</td>\n",
       "      <td>3.0</td>\n",
       "      <td>2.0</td>\n",
       "      <td>1.0</td>\n",
       "      <td>1.0</td>\n",
       "      <td>0.0</td>\n",
       "      <td>...</td>\n",
       "      <td>0.0</td>\n",
       "      <td>1.0</td>\n",
       "      <td>0.0</td>\n",
       "      <td>1.0</td>\n",
       "      <td>2.0</td>\n",
       "      <td>4.0</td>\n",
       "      <td>2.0</td>\n",
       "      <td>1.0</td>\n",
       "      <td>1.0</td>\n",
       "      <td>1.0</td>\n",
       "    </tr>\n",
       "    <tr>\n",
       "      <th>9</th>\n",
       "      <td>2.0</td>\n",
       "      <td>4.0</td>\n",
       "      <td>2.0</td>\n",
       "      <td>3.0</td>\n",
       "      <td>4.0</td>\n",
       "      <td>0.0</td>\n",
       "      <td>3.0</td>\n",
       "      <td>2.0</td>\n",
       "      <td>2.0</td>\n",
       "      <td>5.0</td>\n",
       "      <td>...</td>\n",
       "      <td>2.0</td>\n",
       "      <td>3.0</td>\n",
       "      <td>1.0</td>\n",
       "      <td>2.0</td>\n",
       "      <td>4.0</td>\n",
       "      <td>2.0</td>\n",
       "      <td>3.0</td>\n",
       "      <td>0.0</td>\n",
       "      <td>1.0</td>\n",
       "      <td>4.0</td>\n",
       "    </tr>\n",
       "  </tbody>\n",
       "</table>\n",
       "<p>10 rows × 56 columns</p>\n",
       "</div>"
      ],
      "text/plain": [
       "name    Ekaterina_Fedorova  Ekaterina_Ivanova  Ekaterina_Lesnova  \\\n",
       "minute                                                             \n",
       "0                      3.0                4.0                2.0   \n",
       "1                      4.0                4.0                0.0   \n",
       "2                      1.0                2.0                4.0   \n",
       "3                      3.0                0.0                2.0   \n",
       "4                      3.0                0.0                0.0   \n",
       "5                      3.0                0.0                2.0   \n",
       "6                      4.0                1.0                2.0   \n",
       "7                      3.0                2.0                1.0   \n",
       "8                      2.0                4.0                3.0   \n",
       "9                      2.0                4.0                2.0   \n",
       "\n",
       "name    Ekaterina_Ozerova  Ekaterina_Petrova  Ekaterina_Polyanova  \\\n",
       "minute                                                              \n",
       "0                     3.0                4.0                  4.0   \n",
       "1                     4.0                2.0                  5.0   \n",
       "2                     4.0                2.0                  1.0   \n",
       "3                     0.0                5.0                  2.0   \n",
       "4                     3.0                1.0                  1.0   \n",
       "5                     3.0                1.0                  0.0   \n",
       "6                     2.0                0.0                  4.0   \n",
       "7                     2.0                2.0                  3.0   \n",
       "8                     1.0                0.0                  3.0   \n",
       "9                     3.0                4.0                  0.0   \n",
       "\n",
       "name    Ekaterina_Smirnova  Irina_Fedorova  Irina_Ivanova  Irina_Lesnova  ...  \\\n",
       "minute                                                                    ...   \n",
       "0                      2.0             1.0            2.0            2.0  ...   \n",
       "1                      4.0             4.0            4.0            3.0  ...   \n",
       "2                      3.0             2.0            3.0            3.0  ...   \n",
       "3                      1.0             3.0            2.0            2.0  ...   \n",
       "4                      2.0             3.0            2.0            1.0  ...   \n",
       "5                      5.0             3.0            1.0            3.0  ...   \n",
       "6                      5.0             2.0            2.0            2.0  ...   \n",
       "7                      4.0             1.0            1.0            3.0  ...   \n",
       "8                      2.0             1.0            1.0            0.0  ...   \n",
       "9                      3.0             2.0            2.0            5.0  ...   \n",
       "\n",
       "name    Svetlana_Petrova  Svetlana_Polyanova  Svetlana_Smirnova  \\\n",
       "minute                                                            \n",
       "0                    0.0                 3.0                1.0   \n",
       "1                    4.0                 5.0                3.0   \n",
       "2                    4.0                 1.0                3.0   \n",
       "3                    1.0                 5.0                5.0   \n",
       "4                    1.0                 2.0                2.0   \n",
       "5                    0.0                 2.0                3.0   \n",
       "6                    2.0                 1.0                4.0   \n",
       "7                    3.0                 1.0                1.0   \n",
       "8                    0.0                 1.0                0.0   \n",
       "9                    2.0                 3.0                1.0   \n",
       "\n",
       "name    Vasilisa_Fedorova  Vasilisa_Ivanova  Vasilisa_Lesnova  \\\n",
       "minute                                                          \n",
       "0                     1.0               4.0               1.0   \n",
       "1                     2.0               3.0               3.0   \n",
       "2                     3.0               0.0               1.0   \n",
       "3                     2.0               4.0               0.0   \n",
       "4                     1.0               1.0               2.0   \n",
       "5                     1.0               0.0               0.0   \n",
       "6                     1.0               2.0               4.0   \n",
       "7                     2.0               4.0               1.0   \n",
       "8                     1.0               2.0               4.0   \n",
       "9                     2.0               4.0               2.0   \n",
       "\n",
       "name    Vasilisa_Ozerova  Vasilisa_Petrova  Vasilisa_Polyanova  \\\n",
       "minute                                                           \n",
       "0                    3.0               0.0                 0.0   \n",
       "1                    0.0               0.0                 3.0   \n",
       "2                    2.0               1.0                 3.0   \n",
       "3                    3.0               4.0                 1.0   \n",
       "4                    2.0               3.0                 0.0   \n",
       "5                    3.0               0.0                 2.0   \n",
       "6                    1.0               2.0                 0.0   \n",
       "7                    0.0               1.0                 2.0   \n",
       "8                    2.0               1.0                 1.0   \n",
       "9                    3.0               0.0                 1.0   \n",
       "\n",
       "name    Vasilisa_Smirnova  \n",
       "minute                     \n",
       "0                     1.0  \n",
       "1                     2.0  \n",
       "2                     1.0  \n",
       "3                     0.0  \n",
       "4                     1.0  \n",
       "5                     1.0  \n",
       "6                     2.0  \n",
       "7                     2.0  \n",
       "8                     1.0  \n",
       "9                     4.0  \n",
       "\n",
       "[10 rows x 56 columns]"
      ]
     },
     "execution_count": 19,
     "metadata": {},
     "output_type": "execute_result"
    }
   ],
   "source": [
    "user_vs_minute_pivot.head(10)"
   ]
  },
  {
   "cell_type": "markdown",
   "id": "ad2fddb0",
   "metadata": {},
   "source": [
    "Исправьте ошибку коллеги (если она есть), \n",
    "и посчитайте число минут, прошедших с начала дня.\n",
    "Результат сохраните в колонку true_minute. "
   ]
  },
  {
   "cell_type": "code",
   "execution_count": 20,
   "id": "f0ffe15f",
   "metadata": {},
   "outputs": [
    {
     "data": {
      "text/plain": [
       "date           object\n",
       "name           object\n",
       "transaction    object\n",
       "minute          int64\n",
       "dtype: object"
      ]
     },
     "execution_count": 20,
     "metadata": {},
     "output_type": "execute_result"
    }
   ],
   "source": [
    "transaction_data_updated.dtypes"
   ]
  },
  {
   "cell_type": "code",
   "execution_count": 21,
   "id": "22248a76",
   "metadata": {},
   "outputs": [],
   "source": [
    "transaction_data_updated['date'] = pd.to_datetime(transaction_data_updated['date'])"
   ]
  },
  {
   "cell_type": "code",
   "execution_count": 22,
   "id": "5ee5b9ca",
   "metadata": {},
   "outputs": [],
   "source": [
    "transaction_data_updated['minute'] = pd.to_datetime(transaction_data_updated['minute'])"
   ]
  },
  {
   "cell_type": "code",
   "execution_count": 23,
   "id": "6ef3c5d6",
   "metadata": {},
   "outputs": [],
   "source": [
    "transaction_data_updated['true_minute'] = transaction_data_updated['date'].dt.minute + transaction_data_updated['minute'].dt.hour * 60"
   ]
  },
  {
   "cell_type": "code",
   "execution_count": null,
   "id": "a413aebe",
   "metadata": {},
   "outputs": [],
   "source": []
  },
  {
   "cell_type": "code",
   "execution_count": null,
   "id": "48776bef",
   "metadata": {},
   "outputs": [],
   "source": []
  }
 ],
 "metadata": {
  "kernelspec": {
   "display_name": "Python 3 (ipykernel)",
   "language": "python",
   "name": "python3"
  },
  "language_info": {
   "codemirror_mode": {
    "name": "ipython",
    "version": 3
   },
   "file_extension": ".py",
   "mimetype": "text/x-python",
   "name": "python",
   "nbconvert_exporter": "python",
   "pygments_lexer": "ipython3",
   "version": "3.10.4"
  }
 },
 "nbformat": 4,
 "nbformat_minor": 5
}
