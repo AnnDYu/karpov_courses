{
 "cells": [
  {
   "cell_type": "markdown",
   "id": "afb078b1",
   "metadata": {},
   "source": [
    "**О наборе данных** (взят с Kaggle)\n",
    "\n",
    "Этот набор данных содержит твиты, опубликованные для различных услуг и продуктов, а также эмоции, содержащиеся в твите. Он содержит три столбца:\n"
   ]
  },
  {
   "cell_type": "code",
   "execution_count": 1,
   "id": "66b1fdf4",
   "metadata": {},
   "outputs": [],
   "source": [
    "import pandas as pd\n",
    "import numpy as np\n",
    "import matplotlib.pyplot as plt\n",
    "import seaborn as sns\n",
    "%matplotlib inline"
   ]
  },
  {
   "cell_type": "code",
   "execution_count": null,
   "id": "a465ef05",
   "metadata": {},
   "outputs": [],
   "source": [
    "pd.read_csv('~/')"
   ]
  }
 ],
 "metadata": {
  "kernelspec": {
   "display_name": "Python 3 (ipykernel)",
   "language": "python",
   "name": "python3"
  },
  "language_info": {
   "codemirror_mode": {
    "name": "ipython",
    "version": 3
   },
   "file_extension": ".py",
   "mimetype": "text/x-python",
   "name": "python",
   "nbconvert_exporter": "python",
   "pygments_lexer": "ipython3",
   "version": "3.10.4"
  }
 },
 "nbformat": 4,
 "nbformat_minor": 5
}
